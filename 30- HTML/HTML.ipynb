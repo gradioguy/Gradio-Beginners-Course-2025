{
  "nbformat": 4,
  "nbformat_minor": 0,
  "metadata": {
    "colab": {
      "provenance": []
    },
    "kernelspec": {
      "name": "python3",
      "display_name": "Python 3"
    },
    "language_info": {
      "name": "python"
    }
  },
  "cells": [
    {
      "cell_type": "markdown",
      "source": [
        "**Basic HTML Content**"
      ],
      "metadata": {
        "id": "6UV7ELEwFvrD"
      }
    },
    {
      "cell_type": "code",
      "execution_count": 1,
      "metadata": {
        "colab": {
          "base_uri": "https://localhost:8080/",
          "height": 646
        },
        "id": "oypEdi1NEy7n",
        "outputId": "2ca95b65-2ace-429a-f42a-5a7904c14370"
      },
      "outputs": [
        {
          "output_type": "stream",
          "name": "stdout",
          "text": [
            "It looks like you are running Gradio on a hosted Jupyter notebook, which requires `share=True`. Automatically setting `share=True` (you can turn this off by setting `share=False` in `launch()` explicitly).\n",
            "\n",
            "Colab notebook detected. To show errors in colab notebook, set debug=True in launch()\n",
            "* Running on public URL: https://9f23cca766fd8b0aaa.gradio.live\n",
            "\n",
            "This share link expires in 1 week. For free permanent hosting and GPU upgrades, run `gradio deploy` from the terminal in the working directory to deploy to Hugging Face Spaces (https://huggingface.co/spaces)\n"
          ]
        },
        {
          "output_type": "display_data",
          "data": {
            "text/plain": [
              "<IPython.core.display.HTML object>"
            ],
            "text/html": [
              "<div><iframe src=\"https://9f23cca766fd8b0aaa.gradio.live\" width=\"100%\" height=\"500\" allow=\"autoplay; camera; microphone; clipboard-read; clipboard-write;\" frameborder=\"0\" allowfullscreen></iframe></div>"
            ]
          },
          "metadata": {}
        },
        {
          "output_type": "execute_result",
          "data": {
            "text/plain": []
          },
          "metadata": {},
          "execution_count": 1
        }
      ],
      "source": [
        "import gradio as gr\n",
        "\n",
        "def display_html():\n",
        "    return \"<p><h1>Hello, Gradio!</h1></p>\"\n",
        "\n",
        "demo = gr.Interface(\n",
        "    fn=display_html,\n",
        "    inputs=None,\n",
        "    outputs=gr.HTML()\n",
        ")\n",
        "\n",
        "demo.launch()"
      ]
    },
    {
      "cell_type": "markdown",
      "source": [
        "**Embedding an Image**"
      ],
      "metadata": {
        "id": "KdFGCRliF-ny"
      }
    },
    {
      "cell_type": "code",
      "source": [
        "import gradio as gr\n",
        "\n",
        "def display_image():\n",
        "    return \"<img src='https://cdn.pixabay.com/photo/2016/11/22/23/55/car-1851299_1280.jpg' alt='Placeholder Image'>\"\n",
        "\n",
        "demo = gr.Interface(\n",
        "    fn=display_image,\n",
        "    inputs=None,\n",
        "    outputs=gr.HTML()\n",
        ")\n",
        "\n",
        "demo.launch()"
      ],
      "metadata": {
        "colab": {
          "base_uri": "https://localhost:8080/",
          "height": 646
        },
        "id": "rJn6FSl6GExb",
        "outputId": "31e33e47-2fac-4497-a37c-e325f7bbacdf"
      },
      "execution_count": 2,
      "outputs": [
        {
          "output_type": "stream",
          "name": "stdout",
          "text": [
            "It looks like you are running Gradio on a hosted Jupyter notebook, which requires `share=True`. Automatically setting `share=True` (you can turn this off by setting `share=False` in `launch()` explicitly).\n",
            "\n",
            "Colab notebook detected. To show errors in colab notebook, set debug=True in launch()\n",
            "* Running on public URL: https://f8b229c5394e855b37.gradio.live\n",
            "\n",
            "This share link expires in 1 week. For free permanent hosting and GPU upgrades, run `gradio deploy` from the terminal in the working directory to deploy to Hugging Face Spaces (https://huggingface.co/spaces)\n"
          ]
        },
        {
          "output_type": "display_data",
          "data": {
            "text/plain": [
              "<IPython.core.display.HTML object>"
            ],
            "text/html": [
              "<div><iframe src=\"https://f8b229c5394e855b37.gradio.live\" width=\"100%\" height=\"500\" allow=\"autoplay; camera; microphone; clipboard-read; clipboard-write;\" frameborder=\"0\" allowfullscreen></iframe></div>"
            ]
          },
          "metadata": {}
        },
        {
          "output_type": "execute_result",
          "data": {
            "text/plain": []
          },
          "metadata": {},
          "execution_count": 2
        }
      ]
    },
    {
      "cell_type": "markdown",
      "source": [
        "**Embedding a YouTube Video**"
      ],
      "metadata": {
        "id": "DZIcnIQRGFrs"
      }
    },
    {
      "cell_type": "code",
      "source": [
        "import gradio as gr\n",
        "\n",
        "def display_video():\n",
        "    return \"<iframe width='560' height='315' src='https://www.youtube.com/embed/98_cpngbUv0' frameborder='0' allow='accelerometer; autoplay; clipboard-write; encrypted-media; gyroscope; picture-in-picture' allowfullscreen></iframe>\"\n",
        "\n",
        "demo = gr.Interface(\n",
        "    fn=display_video,\n",
        "    inputs=None,\n",
        "    outputs=gr.HTML()\n",
        ")\n",
        "\n",
        "demo.launch()"
      ],
      "metadata": {
        "colab": {
          "base_uri": "https://localhost:8080/",
          "height": 646
        },
        "id": "9PRTzV_bGI4E",
        "outputId": "c5b6fa2c-2d74-4d57-922f-eb9a2df29251"
      },
      "execution_count": 3,
      "outputs": [
        {
          "output_type": "stream",
          "name": "stdout",
          "text": [
            "It looks like you are running Gradio on a hosted Jupyter notebook, which requires `share=True`. Automatically setting `share=True` (you can turn this off by setting `share=False` in `launch()` explicitly).\n",
            "\n",
            "Colab notebook detected. To show errors in colab notebook, set debug=True in launch()\n",
            "* Running on public URL: https://7a91a9c1fa22bc703c.gradio.live\n",
            "\n",
            "This share link expires in 1 week. For free permanent hosting and GPU upgrades, run `gradio deploy` from the terminal in the working directory to deploy to Hugging Face Spaces (https://huggingface.co/spaces)\n"
          ]
        },
        {
          "output_type": "display_data",
          "data": {
            "text/plain": [
              "<IPython.core.display.HTML object>"
            ],
            "text/html": [
              "<div><iframe src=\"https://7a91a9c1fa22bc703c.gradio.live\" width=\"100%\" height=\"500\" allow=\"autoplay; camera; microphone; clipboard-read; clipboard-write;\" frameborder=\"0\" allowfullscreen></iframe></div>"
            ]
          },
          "metadata": {}
        },
        {
          "output_type": "execute_result",
          "data": {
            "text/plain": []
          },
          "metadata": {},
          "execution_count": 3
        }
      ]
    },
    {
      "cell_type": "markdown",
      "source": [
        "**Creating a Responsive Layout with CSS Grid**"
      ],
      "metadata": {
        "id": "-e4kLwF1GKxf"
      }
    },
    {
      "cell_type": "code",
      "source": [
        "import gradio as gr\n",
        "\n",
        "def display_grid_layout():\n",
        "    return \"\"\"\n",
        "    <div style='display: grid; grid-template-columns: repeat(3, 1fr); gap: 10px;'>\n",
        "        <div style='background-color: lightblue; padding: 20px;'>Column 1</div>\n",
        "        <div style='background-color: lightgreen; padding: 20px;'>Column 2</div>\n",
        "        <div style='background-color: lightcoral; padding: 20px;'>Column 3</div>\n",
        "        <div style='background-color: lightyellow; padding: 20px;'>Column 4</div>\n",
        "        <div style='background-color: lightpink; padding: 20px;'>Column 5</div>\n",
        "        <div style='background-color: lightgray; padding: 20px;'>Column 6</div>\n",
        "    </div>\n",
        "    \"\"\"\n",
        "\n",
        "demo = gr.Interface(\n",
        "    fn=display_grid_layout,\n",
        "    inputs=None,\n",
        "    outputs=gr.HTML()\n",
        ")\n",
        "\n",
        "demo.launch()"
      ],
      "metadata": {
        "colab": {
          "base_uri": "https://localhost:8080/",
          "height": 646
        },
        "id": "3Zys0ZnDGKOU",
        "outputId": "cbf4bff6-e456-4e60-b98f-324129bd6137"
      },
      "execution_count": 4,
      "outputs": [
        {
          "output_type": "stream",
          "name": "stdout",
          "text": [
            "It looks like you are running Gradio on a hosted Jupyter notebook, which requires `share=True`. Automatically setting `share=True` (you can turn this off by setting `share=False` in `launch()` explicitly).\n",
            "\n",
            "Colab notebook detected. To show errors in colab notebook, set debug=True in launch()\n",
            "* Running on public URL: https://56c8bf8e5637ed00b2.gradio.live\n",
            "\n",
            "This share link expires in 1 week. For free permanent hosting and GPU upgrades, run `gradio deploy` from the terminal in the working directory to deploy to Hugging Face Spaces (https://huggingface.co/spaces)\n"
          ]
        },
        {
          "output_type": "display_data",
          "data": {
            "text/plain": [
              "<IPython.core.display.HTML object>"
            ],
            "text/html": [
              "<div><iframe src=\"https://56c8bf8e5637ed00b2.gradio.live\" width=\"100%\" height=\"500\" allow=\"autoplay; camera; microphone; clipboard-read; clipboard-write;\" frameborder=\"0\" allowfullscreen></iframe></div>"
            ]
          },
          "metadata": {}
        },
        {
          "output_type": "execute_result",
          "data": {
            "text/plain": []
          },
          "metadata": {},
          "execution_count": 4
        }
      ]
    },
    {
      "cell_type": "markdown",
      "source": [
        "**Using Advance CSS for Styling**"
      ],
      "metadata": {
        "id": "qmcOich8GROj"
      }
    },
    {
      "cell_type": "code",
      "source": [
        "import gradio as gr\n",
        "\n",
        "def display_styled_html():\n",
        "    return \"\"\"\n",
        "    <style>\n",
        "      @keyframes gradientMove {\n",
        "        0% { background-position: 0% 50%; }\n",
        "        50% { background-position: 100% 50%; }\n",
        "        100% { background-position: 0% 50%; }\n",
        "      }\n",
        "\n",
        "      @keyframes borderGlow {\n",
        "        0% { box-shadow: 0px 0px 10px rgba(0, 255, 255, 0.5); }\n",
        "        50% { box-shadow: 0px 0px 30px rgba(0, 255, 255, 1); }\n",
        "        100% { box-shadow: 0px 0px 10px rgba(0, 255, 255, 0.5); }\n",
        "      }\n",
        "\n",
        "      @keyframes textPulse {\n",
        "        0% { transform: scale(1); opacity: 0.8; }\n",
        "        50% { transform: scale(1.05); opacity: 1; }\n",
        "        100% { transform: scale(1); opacity: 0.8; }\n",
        "      }\n",
        "\n",
        "      .styled-content {\n",
        "        background: linear-gradient(45deg, #ff416c, #ff4b2b, #1fddff, #23d5ab);\n",
        "        background-size: 300% 300%;\n",
        "        animation: gradientMove 6s infinite alternate ease-in-out;\n",
        "        padding: 20px;\n",
        "        text-align: center;\n",
        "        font-size: 20px;\n",
        "        font-weight: bold;\n",
        "        color: white;\n",
        "        border-radius: 15px;\n",
        "        border: 3px solid #ffffff;\n",
        "        animation: borderGlow 3s infinite alternate ease-in-out;\n",
        "      }\n",
        "\n",
        "      .styled-content:hover {\n",
        "        animation: textPulse 1.5s infinite ease-in-out;\n",
        "      }\n",
        "    </style>\n",
        "    <div class=\"styled-content\">Styled HTML Content</div>\n",
        "    \"\"\"\n",
        "\n",
        "demo = gr.Interface(\n",
        "    fn=display_styled_html,\n",
        "    inputs=None,\n",
        "    outputs=gr.HTML()\n",
        ")\n",
        "\n",
        "demo.launch()"
      ],
      "metadata": {
        "colab": {
          "base_uri": "https://localhost:8080/",
          "height": 646
        },
        "id": "gfkS4y4hGNhL",
        "outputId": "a6da9a13-3119-4260-aa8a-22307283f49b"
      },
      "execution_count": 5,
      "outputs": [
        {
          "output_type": "stream",
          "name": "stdout",
          "text": [
            "It looks like you are running Gradio on a hosted Jupyter notebook, which requires `share=True`. Automatically setting `share=True` (you can turn this off by setting `share=False` in `launch()` explicitly).\n",
            "\n",
            "Colab notebook detected. To show errors in colab notebook, set debug=True in launch()\n",
            "* Running on public URL: https://8575d94406f5a5dcfe.gradio.live\n",
            "\n",
            "This share link expires in 1 week. For free permanent hosting and GPU upgrades, run `gradio deploy` from the terminal in the working directory to deploy to Hugging Face Spaces (https://huggingface.co/spaces)\n"
          ]
        },
        {
          "output_type": "display_data",
          "data": {
            "text/plain": [
              "<IPython.core.display.HTML object>"
            ],
            "text/html": [
              "<div><iframe src=\"https://8575d94406f5a5dcfe.gradio.live\" width=\"100%\" height=\"500\" allow=\"autoplay; camera; microphone; clipboard-read; clipboard-write;\" frameborder=\"0\" allowfullscreen></iframe></div>"
            ]
          },
          "metadata": {}
        },
        {
          "output_type": "execute_result",
          "data": {
            "text/plain": []
          },
          "metadata": {},
          "execution_count": 5
        }
      ]
    },
    {
      "cell_type": "markdown",
      "source": [
        "**Creating an Interactive Slider with JavaScript**"
      ],
      "metadata": {
        "id": "3f_2EJWUGWe6"
      }
    },
    {
      "cell_type": "code",
      "source": [
        "import gradio as gr\n",
        "\n",
        "def display_slider_html():\n",
        "    return \"\"\"\n",
        "    <div>\n",
        "        <input type=\"range\" id=\"slider\" min=\"0\" max=\"100\" value=\"50\" oninput=\"updateValue()\">\n",
        "        <p id=\"sliderValue\">Value: 50</p>\n",
        "        <script>\n",
        "        function updateValue() {\n",
        "            var slider = document.getElementById('slider');\n",
        "            var valueDisplay = document.getElementById('sliderValue');\n",
        "            valueDisplay.innerHTML = 'Value: ' + slider.value;\n",
        "        }\n",
        "        </script>\n",
        "    </div>\n",
        "    \"\"\"\n",
        "\n",
        "demo = gr.Interface(\n",
        "    fn=display_slider_html,\n",
        "    inputs=None,\n",
        "    outputs=gr.HTML()\n",
        ")\n",
        "\n",
        "demo.launch()"
      ],
      "metadata": {
        "colab": {
          "base_uri": "https://localhost:8080/",
          "height": 646
        },
        "id": "bY-IfyqeGUJp",
        "outputId": "c2fe15e6-af8c-4035-a653-4bb4a5bceb43"
      },
      "execution_count": 6,
      "outputs": [
        {
          "output_type": "stream",
          "name": "stdout",
          "text": [
            "It looks like you are running Gradio on a hosted Jupyter notebook, which requires `share=True`. Automatically setting `share=True` (you can turn this off by setting `share=False` in `launch()` explicitly).\n",
            "\n",
            "Colab notebook detected. To show errors in colab notebook, set debug=True in launch()\n",
            "* Running on public URL: https://0524accf3310087830.gradio.live\n",
            "\n",
            "This share link expires in 1 week. For free permanent hosting and GPU upgrades, run `gradio deploy` from the terminal in the working directory to deploy to Hugging Face Spaces (https://huggingface.co/spaces)\n"
          ]
        },
        {
          "output_type": "display_data",
          "data": {
            "text/plain": [
              "<IPython.core.display.HTML object>"
            ],
            "text/html": [
              "<div><iframe src=\"https://0524accf3310087830.gradio.live\" width=\"100%\" height=\"500\" allow=\"autoplay; camera; microphone; clipboard-read; clipboard-write;\" frameborder=\"0\" allowfullscreen></iframe></div>"
            ]
          },
          "metadata": {}
        },
        {
          "output_type": "execute_result",
          "data": {
            "text/plain": []
          },
          "metadata": {},
          "execution_count": 6
        }
      ]
    },
    {
      "cell_type": "code",
      "source": [],
      "metadata": {
        "id": "natoR9icGZYQ"
      },
      "execution_count": null,
      "outputs": []
    }
  ]
}