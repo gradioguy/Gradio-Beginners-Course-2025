{
  "nbformat": 4,
  "nbformat_minor": 0,
  "metadata": {
    "colab": {
      "provenance": []
    },
    "kernelspec": {
      "name": "python3",
      "display_name": "Python 3"
    },
    "language_info": {
      "name": "python"
    }
  },
  "cells": [
    {
      "cell_type": "code",
      "source": [
        "import gradio as gr\n",
        "\n",
        "def greet(name):\n",
        "  return f\"Hello, {name}!\"\n",
        "\n",
        "with gr.Blocks() as demo:\n",
        "  gr.Markdown(\"# Welcome to the Layout Demo\")\n",
        "\n",
        "  with gr.Row():\n",
        "    inp = gr.Textbox(label=\"Enter you name\")\n",
        "    out = gr.Textbox(label=\"Output\")\n",
        "\n",
        "  with gr.Column():\n",
        "    btn = gr.Button(\"Greet\")\n",
        "    gr.Markdown(\"Add more components below\")\n",
        "\n",
        "  btn.click(greet, inputs=inp, outputs=out)\n",
        "\n",
        "if __name__ == \"__main__\":\n",
        "  demo.launch()"
      ],
      "metadata": {
        "colab": {
          "base_uri": "https://localhost:8080/",
          "height": 650
        },
        "id": "3_FhzX5Nkf6j",
        "outputId": "c352f9b5-ad97-491b-cef7-47c3d0a95f02"
      },
      "execution_count": 9,
      "outputs": [
        {
          "output_type": "stream",
          "name": "stdout",
          "text": [
            "Running Gradio in a Colab notebook requires sharing enabled. Automatically setting `share=True` (you can turn this off by setting `share=False` in `launch()` explicitly).\n",
            "\n",
            "Colab notebook detected. To show errors in colab notebook, set debug=True in launch()\n",
            "* Running on public URL: https://16c82c6be4f93d5f8d.gradio.live\n",
            "\n",
            "This share link expires in 72 hours. For free permanent hosting and GPU upgrades, run `gradio deploy` from the terminal in the working directory to deploy to Hugging Face Spaces (https://huggingface.co/spaces)\n"
          ]
        },
        {
          "output_type": "display_data",
          "data": {
            "text/plain": [
              "<IPython.core.display.HTML object>"
            ],
            "text/html": [
              "<div><iframe src=\"https://16c82c6be4f93d5f8d.gradio.live\" width=\"100%\" height=\"500\" allow=\"autoplay; camera; microphone; clipboard-read; clipboard-write;\" frameborder=\"0\" allowfullscreen></iframe></div>"
            ]
          },
          "metadata": {}
        }
      ]
    },
    {
      "cell_type": "code",
      "source": [
        "import gradio as gr\n",
        "\n",
        "def process_text(text):\n",
        "  return f\"Processed: {text.upper()}\"\n",
        "\n",
        "with gr.Blocks() as demo:\n",
        "  gr.Markdown(\"Text Processing Demo\")\n",
        "\n",
        "\n",
        "  inp = gr.Textbox(label=\"Enter text\", placeholder=\"Type here...\")\n",
        "  out = gr.Textbox(label=\"Processed text\", value=\"\", interactive=False)\n",
        "\n",
        "  btn = gr.Button(\"Process\")\n",
        "  btn.click(process_text, inputs=inp, outputs=out)\n",
        "\n",
        "  inp.change(process_text, inputs=inp, outputs=out)\n",
        "\n",
        "if __name__ == \"__main__\":\n",
        "  demo.launch()"
      ],
      "metadata": {
        "colab": {
          "base_uri": "https://localhost:8080/",
          "height": 650
        },
        "id": "rxDOM6B5lFIE",
        "outputId": "982b3322-fbeb-4c46-b5ac-1f821460b8b2"
      },
      "execution_count": 12,
      "outputs": [
        {
          "output_type": "stream",
          "name": "stdout",
          "text": [
            "Running Gradio in a Colab notebook requires sharing enabled. Automatically setting `share=True` (you can turn this off by setting `share=False` in `launch()` explicitly).\n",
            "\n",
            "Colab notebook detected. To show errors in colab notebook, set debug=True in launch()\n",
            "* Running on public URL: https://ad79f6f6f2834b0f7e.gradio.live\n",
            "\n",
            "This share link expires in 72 hours. For free permanent hosting and GPU upgrades, run `gradio deploy` from the terminal in the working directory to deploy to Hugging Face Spaces (https://huggingface.co/spaces)\n"
          ]
        },
        {
          "output_type": "display_data",
          "data": {
            "text/plain": [
              "<IPython.core.display.HTML object>"
            ],
            "text/html": [
              "<div><iframe src=\"https://ad79f6f6f2834b0f7e.gradio.live\" width=\"100%\" height=\"500\" allow=\"autoplay; camera; microphone; clipboard-read; clipboard-write;\" frameborder=\"0\" allowfullscreen></iframe></div>"
            ]
          },
          "metadata": {}
        }
      ]
    },
    {
      "cell_type": "code",
      "source": [
        "import gradio as gr\n",
        "\n",
        "def calculator(n1, n2, op):\n",
        "  if op == \"Add\":\n",
        "    return n1 + n2\n",
        "  elif op == \"Subtract\":\n",
        "    return n1 - n2\n",
        "  else:\n",
        "    return \"Invalid operation\"\n",
        "\n",
        "with gr.Blocks() as demo:\n",
        "  gr.Markdown(\"Multi-Tab Calculator\")\n",
        "\n",
        "  # Tabs\n",
        "  with gr.Tab(\"Basic Operations\"):\n",
        "    n1 = gr.Number(label=\"Number 1\")\n",
        "    n2 = gr.Number(label=\"Number 2\")\n",
        "    op = gr.Radio([\"Add\", \"Subtract\"], label=\"Operation\")\n",
        "    btn = gr.Button(\"Calculate\")\n",
        "    result = gr.Textbox(label=\"Result\")\n",
        "\n",
        "  with gr.Tab(\"About\"):\n",
        "    gr.Markdown(\"This calculator performs basic arithmetic operations.\")\n",
        "\n",
        "  # Event for calculation\n",
        "  btn.click(calculator, inputs=[n1, n2, op], outputs=result)\n",
        "\n",
        "if __name__ == \"__main__\":\n",
        "  demo.launch()"
      ],
      "metadata": {
        "colab": {
          "base_uri": "https://localhost:8080/",
          "height": 650
        },
        "id": "hXnLWSqOl8Rb",
        "outputId": "423c1583-9c1f-4e09-977c-68bf3f25000d"
      },
      "execution_count": 15,
      "outputs": [
        {
          "output_type": "stream",
          "name": "stdout",
          "text": [
            "Running Gradio in a Colab notebook requires sharing enabled. Automatically setting `share=True` (you can turn this off by setting `share=False` in `launch()` explicitly).\n",
            "\n",
            "Colab notebook detected. To show errors in colab notebook, set debug=True in launch()\n",
            "* Running on public URL: https://88db1bd00a156bef52.gradio.live\n",
            "\n",
            "This share link expires in 72 hours. For free permanent hosting and GPU upgrades, run `gradio deploy` from the terminal in the working directory to deploy to Hugging Face Spaces (https://huggingface.co/spaces)\n"
          ]
        },
        {
          "output_type": "display_data",
          "data": {
            "text/plain": [
              "<IPython.core.display.HTML object>"
            ],
            "text/html": [
              "<div><iframe src=\"https://88db1bd00a156bef52.gradio.live\" width=\"100%\" height=\"500\" allow=\"autoplay; camera; microphone; clipboard-read; clipboard-write;\" frameborder=\"0\" allowfullscreen></iframe></div>"
            ]
          },
          "metadata": {}
        }
      ]
    },
    {
      "cell_type": "code",
      "source": [
        "import gradio as gr\n",
        "\n",
        "def display_summary(age, income):\n",
        "  return f\"Age: {age}, Income: ${income}\"\n",
        "\n",
        "with gr.Blocks() as demo:\n",
        "  gr.Markdown(\"Nested Layout Demo\")\n",
        "\n",
        "  with gr.Row():\n",
        "    with gr.Column():\n",
        "      gr.Markdown(\"User Input\")\n",
        "      age = gr.Number(label=\"Age\")\n",
        "      income = gr.Number(label=\"Annual Income ($)\")\n",
        "\n",
        "    with gr.Column():\n",
        "      gr.Markdown(\"Summary\")\n",
        "      btn = gr.Button(\"Generate Summary\")\n",
        "      output = gr.Textbox(label=\"Result\")\n",
        "\n",
        "  btn.click(display_summary, inputs=[age, income], outputs= output)\n",
        "\n",
        "if __name__ == \"__main__\":\n",
        "  demo.launch()"
      ],
      "metadata": {
        "colab": {
          "base_uri": "https://localhost:8080/",
          "height": 650
        },
        "id": "4zyyQJXamcvL",
        "outputId": "d8480983-24fa-43d7-e899-c69bbfe06a21"
      },
      "execution_count": 16,
      "outputs": [
        {
          "output_type": "stream",
          "name": "stdout",
          "text": [
            "Running Gradio in a Colab notebook requires sharing enabled. Automatically setting `share=True` (you can turn this off by setting `share=False` in `launch()` explicitly).\n",
            "\n",
            "Colab notebook detected. To show errors in colab notebook, set debug=True in launch()\n",
            "* Running on public URL: https://546719f43fe4f0ea9c.gradio.live\n",
            "\n",
            "This share link expires in 72 hours. For free permanent hosting and GPU upgrades, run `gradio deploy` from the terminal in the working directory to deploy to Hugging Face Spaces (https://huggingface.co/spaces)\n"
          ]
        },
        {
          "output_type": "display_data",
          "data": {
            "text/plain": [
              "<IPython.core.display.HTML object>"
            ],
            "text/html": [
              "<div><iframe src=\"https://546719f43fe4f0ea9c.gradio.live\" width=\"100%\" height=\"500\" allow=\"autoplay; camera; microphone; clipboard-read; clipboard-write;\" frameborder=\"0\" allowfullscreen></iframe></div>"
            ]
          },
          "metadata": {}
        }
      ]
    },
    {
      "cell_type": "code",
      "source": [
        "import gradio as gr\n",
        "\n",
        "def process_image(img):\n",
        "  return img.rotate(90)\n",
        "\n",
        "with gr.Blocks() as demo:\n",
        "  gr.Markdown(\"Responsive Image Processor\")\n",
        "\n",
        "  with gr.Column():\n",
        "    gr.Markdown(\"Drop an image here\")\n",
        "    image_input = gr.Image(label=\"Input Image\", type=\"pil\")\n",
        "    with gr.Row():\n",
        "      process_btn  = gr.Button(\"Rotate 90\")\n",
        "      clear_btn = gr.Button(\"Clear\")\n",
        "\n",
        "    image_output = gr.Image(label=\"Output Image\", type=\"pil\")\n",
        "\n",
        "  process_btn.click(process_image, inputs=image_input, outputs=image_output)\n",
        "  clear_btn.click(lambda: None, outputs=image_input)\n",
        "\n",
        "if __name__ == \"__main__\":\n",
        "  demo.launch()"
      ],
      "metadata": {
        "colab": {
          "base_uri": "https://localhost:8080/",
          "height": 650
        },
        "id": "L4VBuLU5okhA",
        "outputId": "d68321d8-94fa-4f24-8def-5321b7fa33b6"
      },
      "execution_count": 17,
      "outputs": [
        {
          "output_type": "stream",
          "name": "stdout",
          "text": [
            "Running Gradio in a Colab notebook requires sharing enabled. Automatically setting `share=True` (you can turn this off by setting `share=False` in `launch()` explicitly).\n",
            "\n",
            "Colab notebook detected. To show errors in colab notebook, set debug=True in launch()\n",
            "* Running on public URL: https://c8ebf6e9fcb3ff5385.gradio.live\n",
            "\n",
            "This share link expires in 72 hours. For free permanent hosting and GPU upgrades, run `gradio deploy` from the terminal in the working directory to deploy to Hugging Face Spaces (https://huggingface.co/spaces)\n"
          ]
        },
        {
          "output_type": "display_data",
          "data": {
            "text/plain": [
              "<IPython.core.display.HTML object>"
            ],
            "text/html": [
              "<div><iframe src=\"https://c8ebf6e9fcb3ff5385.gradio.live\" width=\"100%\" height=\"500\" allow=\"autoplay; camera; microphone; clipboard-read; clipboard-write;\" frameborder=\"0\" allowfullscreen></iframe></div>"
            ]
          },
          "metadata": {}
        }
      ]
    },
    {
      "cell_type": "code",
      "source": [
        "import gradio as gr\n",
        "\n",
        "def reverse_text(text):\n",
        "  return text[::-1]\n",
        "\n",
        "def count_vowels(text):\n",
        "  vowels = \"aeiouAEIOU\"\n",
        "  return f\"Number of vowels: {sum(1 for char in text if char in vowels)}\"\n",
        "\n",
        "with gr.Blocks() as demo:\n",
        "  gr.Markdown(\"### Text Processing Tool\")\n",
        "\n",
        "  with gr.Tabs() as tabs:\n",
        "    with gr.Tab(\"Reverse Text\"):\n",
        "      txt_input = gr.Textbox(\n",
        "          placeholder=\"Enter text to reverse\",\n",
        "          label=\"Input Text\"\n",
        "      )\n",
        "      txt_output = gr.Textbox(label=\"Reversed Text\")\n",
        "      reverse_btn = gr.Button(\"Reverse\")\n",
        "      reverse_btn.click(reverse_text, inputs=txt_input, outputs=txt_output)\n",
        "\n",
        "    with gr.Tab(\"Count Vowels\"):\n",
        "      vowel_input = gr.Textbox(\n",
        "          placeholder=\"Enter text to count vowels\",\n",
        "          label = \"Input Text\"\n",
        "      )\n",
        "      vowel_output = gr.Textbox(label=\"Number of Vowels\")\n",
        "      vowel_btn = gr.Button(\"Count\")\n",
        "      vowel_btn.click(count_vowels, inputs=vowel_input, outputs= vowel_output)\n",
        "\n",
        "demo.launch()"
      ],
      "metadata": {
        "colab": {
          "base_uri": "https://localhost:8080/",
          "height": 650
        },
        "id": "ZO-HwoV0ptVn",
        "outputId": "ec3fb47d-2645-460d-8ab0-08ff2a955d90"
      },
      "execution_count": 18,
      "outputs": [
        {
          "output_type": "stream",
          "name": "stdout",
          "text": [
            "Running Gradio in a Colab notebook requires sharing enabled. Automatically setting `share=True` (you can turn this off by setting `share=False` in `launch()` explicitly).\n",
            "\n",
            "Colab notebook detected. To show errors in colab notebook, set debug=True in launch()\n",
            "* Running on public URL: https://6cd7575223a08ee33f.gradio.live\n",
            "\n",
            "This share link expires in 72 hours. For free permanent hosting and GPU upgrades, run `gradio deploy` from the terminal in the working directory to deploy to Hugging Face Spaces (https://huggingface.co/spaces)\n"
          ]
        },
        {
          "output_type": "display_data",
          "data": {
            "text/plain": [
              "<IPython.core.display.HTML object>"
            ],
            "text/html": [
              "<div><iframe src=\"https://6cd7575223a08ee33f.gradio.live\" width=\"100%\" height=\"500\" allow=\"autoplay; camera; microphone; clipboard-read; clipboard-write;\" frameborder=\"0\" allowfullscreen></iframe></div>"
            ]
          },
          "metadata": {}
        },
        {
          "output_type": "execute_result",
          "data": {
            "text/plain": []
          },
          "metadata": {},
          "execution_count": 18
        }
      ]
    },
    {
      "cell_type": "code",
      "source": [
        "import gradio as gr\n",
        "\n",
        "def increment_counter(count):\n",
        "  return count + 1\n",
        "\n",
        "def decrement_counter(count):\n",
        "  return count - 1\n",
        "\n",
        "with gr.Blocks() as demo:\n",
        "  gr.Markdown(\"### Simple Counter\")\n",
        "\n",
        "  with gr.Column():\n",
        "    count = gr.Number(\n",
        "        value=0,\n",
        "        label=\"Current Count\"\n",
        "    )\n",
        "\n",
        "    # Create buttons\n",
        "    with gr.Row():\n",
        "      inc_btn = gr.Button(\"Increment\")\n",
        "      dec_btn = gr.Button(\"Decrement\")\n",
        "\n",
        "    inc_btn.click(\n",
        "        increment_counter,\n",
        "        inputs=count,\n",
        "        outputs=count\n",
        "    )\n",
        "\n",
        "    dec_btn.click(\n",
        "        decrement_counter,\n",
        "        inputs=count,\n",
        "        outputs=count\n",
        "    )\n",
        "\n",
        "demo.launch()"
      ],
      "metadata": {
        "colab": {
          "base_uri": "https://localhost:8080/",
          "height": 650
        },
        "id": "BhY0W4EwrRr9",
        "outputId": "a9c59d10-a14c-4d77-fd92-462f2375f433"
      },
      "execution_count": 19,
      "outputs": [
        {
          "output_type": "stream",
          "name": "stdout",
          "text": [
            "Running Gradio in a Colab notebook requires sharing enabled. Automatically setting `share=True` (you can turn this off by setting `share=False` in `launch()` explicitly).\n",
            "\n",
            "Colab notebook detected. To show errors in colab notebook, set debug=True in launch()\n",
            "* Running on public URL: https://ada17eaeb510a8f36c.gradio.live\n",
            "\n",
            "This share link expires in 72 hours. For free permanent hosting and GPU upgrades, run `gradio deploy` from the terminal in the working directory to deploy to Hugging Face Spaces (https://huggingface.co/spaces)\n"
          ]
        },
        {
          "output_type": "display_data",
          "data": {
            "text/plain": [
              "<IPython.core.display.HTML object>"
            ],
            "text/html": [
              "<div><iframe src=\"https://ada17eaeb510a8f36c.gradio.live\" width=\"100%\" height=\"500\" allow=\"autoplay; camera; microphone; clipboard-read; clipboard-write;\" frameborder=\"0\" allowfullscreen></iframe></div>"
            ]
          },
          "metadata": {}
        },
        {
          "output_type": "execute_result",
          "data": {
            "text/plain": []
          },
          "metadata": {},
          "execution_count": 19
        }
      ]
    },
    {
      "cell_type": "code",
      "source": [],
      "metadata": {
        "id": "jXOlByuNsXmo"
      },
      "execution_count": null,
      "outputs": []
    }
  ]
}