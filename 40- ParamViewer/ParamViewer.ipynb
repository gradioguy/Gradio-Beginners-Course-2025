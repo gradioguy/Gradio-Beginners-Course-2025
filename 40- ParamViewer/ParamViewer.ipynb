{
  "nbformat": 4,
  "nbformat_minor": 0,
  "metadata": {
    "colab": {
      "provenance": []
    },
    "kernelspec": {
      "name": "python3",
      "display_name": "Python 3"
    },
    "language_info": {
      "name": "python"
    }
  },
  "cells": [
    {
      "cell_type": "markdown",
      "source": [
        "**Documenting a Custom Function's Parameters**"
      ],
      "metadata": {
        "id": "ZbwYDdAgXIox"
      }
    },
    {
      "cell_type": "code",
      "execution_count": 1,
      "metadata": {
        "colab": {
          "base_uri": "https://localhost:8080/",
          "height": 646
        },
        "id": "yuxaue8XXEKj",
        "outputId": "0ad76094-ab33-4102-a02c-d12c2617f46e"
      },
      "outputs": [
        {
          "output_type": "stream",
          "name": "stdout",
          "text": [
            "It looks like you are running Gradio on a hosted Jupyter notebook, which requires `share=True`. Automatically setting `share=True` (you can turn this off by setting `share=False` in `launch()` explicitly).\n",
            "\n",
            "Colab notebook detected. To show errors in colab notebook, set debug=True in launch()\n",
            "* Running on public URL: https://da220bb71fd5ca81a4.gradio.live\n",
            "\n",
            "This share link expires in 1 week. For free permanent hosting and GPU upgrades, run `gradio deploy` from the terminal in the working directory to deploy to Hugging Face Spaces (https://huggingface.co/spaces)\n"
          ]
        },
        {
          "output_type": "display_data",
          "data": {
            "text/plain": [
              "<IPython.core.display.HTML object>"
            ],
            "text/html": [
              "<div><iframe src=\"https://da220bb71fd5ca81a4.gradio.live\" width=\"100%\" height=\"500\" allow=\"autoplay; camera; microphone; clipboard-read; clipboard-write;\" frameborder=\"0\" allowfullscreen></iframe></div>"
            ]
          },
          "metadata": {}
        },
        {
          "output_type": "execute_result",
          "data": {
            "text/plain": []
          },
          "metadata": {},
          "execution_count": 1
        }
      ],
      "source": [
        "import gradio as gr\n",
        "\n",
        "def my_custom_function(param1, param2):\n",
        "    return param1 + param2\n",
        "\n",
        "param_info = {\n",
        "    \"param1\": {\"type\": \"int\", \"description\": \"First number\", \"default\": 0},\n",
        "    \"param2\": {\"type\": \"int\", \"description\": \"Second number\", \"default\": 0}\n",
        "}\n",
        "\n",
        "with gr.Blocks() as demo:\n",
        "    gr.Markdown(\"## My Custom Function\")\n",
        "    gr.ParamViewer(param_info)\n",
        "\n",
        "demo.launch()"
      ]
    },
    {
      "cell_type": "markdown",
      "source": [
        "**Parameters for a Complex Function**"
      ],
      "metadata": {
        "id": "9Ucw6Eg4XNsn"
      }
    },
    {
      "cell_type": "code",
      "source": [
        "import gradio as gr\n",
        "\n",
        "def complex_function(param1: list, param2: dict, param3: tuple, param4: set):\n",
        "    return f\"Param1: {param1}, Param2: {param2}, Param3: {param3}, Param4: {param4}\"\n",
        "\n",
        "with gr.Blocks() as demo:\n",
        "    gr.Markdown(\"### Parameters for `complex_function`\")\n",
        "    gr.ParamViewer({\n",
        "        \"param1\": {\"type\": \"list\", \"description\": \"A list parameter\", \"default\": \"[]\"},\n",
        "        \"param2\": {\"type\": \"dict\", \"description\": \"A dictionary parameter\", \"default\": \"{}\"},\n",
        "        \"param3\": {\"type\": \"tuple\", \"description\": \"A tuple parameter\", \"default\": \"()\"},\n",
        "        \"param4\": {\"type\": \"set\", \"description\": \"A set parameter\", \"default\": \"set()\"},\n",
        "    })\n",
        "\n",
        "demo.launch()"
      ],
      "metadata": {
        "colab": {
          "base_uri": "https://localhost:8080/",
          "height": 646
        },
        "id": "B61-UrjxXMI8",
        "outputId": "22a5a09c-a94f-4968-d350-4491f4de44ba"
      },
      "execution_count": 2,
      "outputs": [
        {
          "output_type": "stream",
          "name": "stdout",
          "text": [
            "It looks like you are running Gradio on a hosted Jupyter notebook, which requires `share=True`. Automatically setting `share=True` (you can turn this off by setting `share=False` in `launch()` explicitly).\n",
            "\n",
            "Colab notebook detected. To show errors in colab notebook, set debug=True in launch()\n",
            "* Running on public URL: https://7df9de18fee3a5a1d2.gradio.live\n",
            "\n",
            "This share link expires in 1 week. For free permanent hosting and GPU upgrades, run `gradio deploy` from the terminal in the working directory to deploy to Hugging Face Spaces (https://huggingface.co/spaces)\n"
          ]
        },
        {
          "output_type": "display_data",
          "data": {
            "text/plain": [
              "<IPython.core.display.HTML object>"
            ],
            "text/html": [
              "<div><iframe src=\"https://7df9de18fee3a5a1d2.gradio.live\" width=\"100%\" height=\"500\" allow=\"autoplay; camera; microphone; clipboard-read; clipboard-write;\" frameborder=\"0\" allowfullscreen></iframe></div>"
            ]
          },
          "metadata": {}
        },
        {
          "output_type": "execute_result",
          "data": {
            "text/plain": []
          },
          "metadata": {},
          "execution_count": 2
        }
      ]
    },
    {
      "cell_type": "markdown",
      "source": [
        "**Documenting API Parameters**"
      ],
      "metadata": {
        "id": "x13vXP1pXSAk"
      }
    },
    {
      "cell_type": "code",
      "source": [
        "import gradio as gr\n",
        "\n",
        "api_params = {\n",
        "    \"user_id\": {\"type\": \"str\", \"description\": \"User ID\", \"default\": \"user123\"},\n",
        "    \"token\": {\"type\": \"str\", \"description\": \"API token\", \"default\": \"abc123\"},\n",
        "    \"query\": {\"type\": \"str\", \"description\": \"Search query\", \"default\": \"\"}\n",
        "}\n",
        "\n",
        "with gr.Blocks() as demo:\n",
        "    gr.Markdown(\"## API Parameters\")\n",
        "    gr.ParamViewer(api_params)\n",
        "\n",
        "demo.launch()"
      ],
      "metadata": {
        "colab": {
          "base_uri": "https://localhost:8080/",
          "height": 646
        },
        "id": "MHFCEST_XQwa",
        "outputId": "bbc1143c-c230-485b-ebd7-3b3c271c9687"
      },
      "execution_count": 3,
      "outputs": [
        {
          "output_type": "stream",
          "name": "stdout",
          "text": [
            "It looks like you are running Gradio on a hosted Jupyter notebook, which requires `share=True`. Automatically setting `share=True` (you can turn this off by setting `share=False` in `launch()` explicitly).\n",
            "\n",
            "Colab notebook detected. To show errors in colab notebook, set debug=True in launch()\n",
            "* Running on public URL: https://c8f99f8c1499be746b.gradio.live\n",
            "\n",
            "This share link expires in 1 week. For free permanent hosting and GPU upgrades, run `gradio deploy` from the terminal in the working directory to deploy to Hugging Face Spaces (https://huggingface.co/spaces)\n"
          ]
        },
        {
          "output_type": "display_data",
          "data": {
            "text/plain": [
              "<IPython.core.display.HTML object>"
            ],
            "text/html": [
              "<div><iframe src=\"https://c8f99f8c1499be746b.gradio.live\" width=\"100%\" height=\"500\" allow=\"autoplay; camera; microphone; clipboard-read; clipboard-write;\" frameborder=\"0\" allowfullscreen></iframe></div>"
            ]
          },
          "metadata": {}
        },
        {
          "output_type": "execute_result",
          "data": {
            "text/plain": []
          },
          "metadata": {},
          "execution_count": 3
        }
      ]
    },
    {
      "cell_type": "markdown",
      "source": [
        "**Basic Usage with Python Parameters**"
      ],
      "metadata": {
        "id": "uN8aNIh9XVih"
      }
    },
    {
      "cell_type": "code",
      "source": [
        "import gradio as gr\n",
        "\n",
        "with gr.Blocks() as demo:\n",
        "    gr.Markdown(\"### Parameters for the `round()` function in Python\")\n",
        "    gr.ParamViewer({\n",
        "        \"number\": {\"type\": \"int | float\", \"description\": \"The number to round\", \"default\": \"None\"},\n",
        "        \"ndigits\": {\"type\": \"int\", \"description\": \"The number of digits to round to\", \"default\": \"0\"}\n",
        "    })\n",
        "\n",
        "demo.launch()"
      ],
      "metadata": {
        "colab": {
          "base_uri": "https://localhost:8080/",
          "height": 646
        },
        "id": "FEDloYKxXUUx",
        "outputId": "9354c017-b479-4a58-b617-7885cb822249"
      },
      "execution_count": 4,
      "outputs": [
        {
          "output_type": "stream",
          "name": "stdout",
          "text": [
            "It looks like you are running Gradio on a hosted Jupyter notebook, which requires `share=True`. Automatically setting `share=True` (you can turn this off by setting `share=False` in `launch()` explicitly).\n",
            "\n",
            "Colab notebook detected. To show errors in colab notebook, set debug=True in launch()\n",
            "* Running on public URL: https://8aeaa1d48c19436ef8.gradio.live\n",
            "\n",
            "This share link expires in 1 week. For free permanent hosting and GPU upgrades, run `gradio deploy` from the terminal in the working directory to deploy to Hugging Face Spaces (https://huggingface.co/spaces)\n"
          ]
        },
        {
          "output_type": "display_data",
          "data": {
            "text/plain": [
              "<IPython.core.display.HTML object>"
            ],
            "text/html": [
              "<div><iframe src=\"https://8aeaa1d48c19436ef8.gradio.live\" width=\"100%\" height=\"500\" allow=\"autoplay; camera; microphone; clipboard-read; clipboard-write;\" frameborder=\"0\" allowfullscreen></iframe></div>"
            ]
          },
          "metadata": {}
        },
        {
          "output_type": "execute_result",
          "data": {
            "text/plain": []
          },
          "metadata": {},
          "execution_count": 4
        }
      ]
    },
    {
      "cell_type": "markdown",
      "source": [
        "**Using TypeScript Parameters**"
      ],
      "metadata": {
        "id": "hAjYaKpmXZQQ"
      }
    },
    {
      "cell_type": "code",
      "source": [
        "import gradio as gr\n",
        "\n",
        "with gr.Blocks() as demo:\n",
        "    gr.Markdown(\"### Parameters for a TypeScript Function\")\n",
        "    gr.ParamViewer({\n",
        "        \"param1\": {\"type\": \"number\", \"description\": \"A number parameter\", \"default\": \"0\"},\n",
        "        \"param2\": {\"type\": \"string\", \"description\": \"A string parameter\", \"default\": \"''\"},\n",
        "        \"param3\": {\"type\": \"boolean\", \"description\": \"A boolean parameter\", \"default\": \"false\"}\n",
        "    }, language='typescript')\n",
        "\n",
        "demo.launch()"
      ],
      "metadata": {
        "colab": {
          "base_uri": "https://localhost:8080/",
          "height": 646
        },
        "id": "3VNFt-n3XXl_",
        "outputId": "c50cd64a-79e8-49a6-b66c-651d9010d6f3"
      },
      "execution_count": 5,
      "outputs": [
        {
          "output_type": "stream",
          "name": "stdout",
          "text": [
            "It looks like you are running Gradio on a hosted Jupyter notebook, which requires `share=True`. Automatically setting `share=True` (you can turn this off by setting `share=False` in `launch()` explicitly).\n",
            "\n",
            "Colab notebook detected. To show errors in colab notebook, set debug=True in launch()\n",
            "* Running on public URL: https://125e29a3c45176f08a.gradio.live\n",
            "\n",
            "This share link expires in 1 week. For free permanent hosting and GPU upgrades, run `gradio deploy` from the terminal in the working directory to deploy to Hugging Face Spaces (https://huggingface.co/spaces)\n"
          ]
        },
        {
          "output_type": "display_data",
          "data": {
            "text/plain": [
              "<IPython.core.display.HTML object>"
            ],
            "text/html": [
              "<div><iframe src=\"https://125e29a3c45176f08a.gradio.live\" width=\"100%\" height=\"500\" allow=\"autoplay; camera; microphone; clipboard-read; clipboard-write;\" frameborder=\"0\" allowfullscreen></iframe></div>"
            ]
          },
          "metadata": {}
        },
        {
          "output_type": "execute_result",
          "data": {
            "text/plain": []
          },
          "metadata": {},
          "execution_count": 5
        }
      ]
    },
    {
      "cell_type": "markdown",
      "source": [
        "**Adding a Header**"
      ],
      "metadata": {
        "id": "S4e0VEuxXcb3"
      }
    },
    {
      "cell_type": "code",
      "source": [
        "import gradio as gr\n",
        "\n",
        "with gr.Blocks() as demo:\n",
        "    gr.Markdown(\"### Parameters with Custom Header\")\n",
        "    gr.ParamViewer({\n",
        "        \"param1\": {\"type\": \"int\", \"description\": \"An integer parameter\", \"default\": \"None\"},\n",
        "        \"param2\": {\"type\": \"str\", \"description\": \"A string parameter\", \"default\": \"None\"},\n",
        "    }, header=\"Custom Header\")\n",
        "\n",
        "demo.launch()"
      ],
      "metadata": {
        "colab": {
          "base_uri": "https://localhost:8080/",
          "height": 646
        },
        "id": "8iJ8j5hXXbTP",
        "outputId": "065af067-3b64-4d1a-c4d0-296bc9f8b783"
      },
      "execution_count": 6,
      "outputs": [
        {
          "output_type": "stream",
          "name": "stdout",
          "text": [
            "It looks like you are running Gradio on a hosted Jupyter notebook, which requires `share=True`. Automatically setting `share=True` (you can turn this off by setting `share=False` in `launch()` explicitly).\n",
            "\n",
            "Colab notebook detected. To show errors in colab notebook, set debug=True in launch()\n",
            "* Running on public URL: https://aea472468249153a8e.gradio.live\n",
            "\n",
            "This share link expires in 1 week. For free permanent hosting and GPU upgrades, run `gradio deploy` from the terminal in the working directory to deploy to Hugging Face Spaces (https://huggingface.co/spaces)\n"
          ]
        },
        {
          "output_type": "display_data",
          "data": {
            "text/plain": [
              "<IPython.core.display.HTML object>"
            ],
            "text/html": [
              "<div><iframe src=\"https://aea472468249153a8e.gradio.live\" width=\"100%\" height=\"500\" allow=\"autoplay; camera; microphone; clipboard-read; clipboard-write;\" frameborder=\"0\" allowfullscreen></iframe></div>"
            ]
          },
          "metadata": {}
        },
        {
          "output_type": "execute_result",
          "data": {
            "text/plain": []
          },
          "metadata": {},
          "execution_count": 6
        }
      ]
    },
    {
      "cell_type": "markdown",
      "source": [
        "**Using Event Listeners to Update Parameters**"
      ],
      "metadata": {
        "id": "Uf35pdtRXgAv"
      }
    },
    {
      "cell_type": "code",
      "source": [
        "import gradio as gr\n",
        "\n",
        "def update_params(param_name, param_type, param_desc, param_default):\n",
        "    return {\n",
        "        param_name: {\"type\": param_type, \"description\": param_desc, \"default\": param_default}\n",
        "    }\n",
        "\n",
        "with gr.Blocks() as demo:\n",
        "    gr.Markdown(\"### Dynamic Parameters with Event Listeners\")\n",
        "    param_viewer = gr.ParamViewer({\n",
        "        \"param1\": {\"type\": \"int\", \"description\": \"An integer parameter\", \"default\": \"None\"},\n",
        "    })\n",
        "\n",
        "    param_name = gr.Textbox(label=\"Parameter Name\")\n",
        "    param_type = gr.Textbox(label=\"Parameter Type\")\n",
        "    param_desc = gr.Textbox(label=\"Parameter Description\")\n",
        "    param_default = gr.Textbox(label=\"Parameter Default\")\n",
        "\n",
        "    update_button = gr.Button(\"Update Parameters\")\n",
        "    update_button.click(\n",
        "        fn=update_params,\n",
        "        inputs=[param_name, param_type, param_desc, param_default],\n",
        "        outputs=param_viewer\n",
        "    )\n",
        "\n",
        "demo.launch()"
      ],
      "metadata": {
        "colab": {
          "base_uri": "https://localhost:8080/",
          "height": 646
        },
        "id": "R589GBejXeVq",
        "outputId": "a7669fe4-f538-4399-d78d-701880947be5"
      },
      "execution_count": 7,
      "outputs": [
        {
          "output_type": "stream",
          "name": "stdout",
          "text": [
            "It looks like you are running Gradio on a hosted Jupyter notebook, which requires `share=True`. Automatically setting `share=True` (you can turn this off by setting `share=False` in `launch()` explicitly).\n",
            "\n",
            "Colab notebook detected. To show errors in colab notebook, set debug=True in launch()\n",
            "* Running on public URL: https://c4611b89e749331eca.gradio.live\n",
            "\n",
            "This share link expires in 1 week. For free permanent hosting and GPU upgrades, run `gradio deploy` from the terminal in the working directory to deploy to Hugging Face Spaces (https://huggingface.co/spaces)\n"
          ]
        },
        {
          "output_type": "display_data",
          "data": {
            "text/plain": [
              "<IPython.core.display.HTML object>"
            ],
            "text/html": [
              "<div><iframe src=\"https://c4611b89e749331eca.gradio.live\" width=\"100%\" height=\"500\" allow=\"autoplay; camera; microphone; clipboard-read; clipboard-write;\" frameborder=\"0\" allowfullscreen></iframe></div>"
            ]
          },
          "metadata": {}
        },
        {
          "output_type": "execute_result",
          "data": {
            "text/plain": []
          },
          "metadata": {},
          "execution_count": 7
        }
      ]
    },
    {
      "cell_type": "code",
      "source": [],
      "metadata": {
        "id": "Aiwn06luXh8P"
      },
      "execution_count": null,
      "outputs": []
    }
  ]
}