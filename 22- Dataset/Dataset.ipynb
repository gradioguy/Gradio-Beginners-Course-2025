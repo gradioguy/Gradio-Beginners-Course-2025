{
  "nbformat": 4,
  "nbformat_minor": 0,
  "metadata": {
    "colab": {
      "provenance": []
    },
    "kernelspec": {
      "name": "python3",
      "display_name": "Python 3"
    },
    "language_info": {
      "name": "python"
    }
  },
  "cells": [
    {
      "cell_type": "markdown",
      "source": [
        "**Displaying Text Samples in a Gallery**"
      ],
      "metadata": {
        "id": "ymDfV2kQzx-U"
      }
    },
    {
      "cell_type": "code",
      "execution_count": 1,
      "metadata": {
        "colab": {
          "base_uri": "https://localhost:8080/",
          "height": 646
        },
        "id": "YXfUK0nUzub9",
        "outputId": "0d13d25e-3a44-446a-c3cf-c149b2829b90"
      },
      "outputs": [
        {
          "output_type": "stream",
          "name": "stdout",
          "text": [
            "It looks like you are running Gradio on a hosted Jupyter notebook, which requires `share=True`. Automatically setting `share=True` (you can turn this off by setting `share=False` in `launch()` explicitly).\n",
            "\n",
            "Colab notebook detected. To show errors in colab notebook, set debug=True in launch()\n",
            "* Running on public URL: https://5a367a690a8581b3dc.gradio.live\n",
            "\n",
            "This share link expires in 1 week. For free permanent hosting and GPU upgrades, run `gradio deploy` from the terminal in the working directory to deploy to Hugging Face Spaces (https://huggingface.co/spaces)\n"
          ]
        },
        {
          "output_type": "display_data",
          "data": {
            "text/plain": [
              "<IPython.core.display.HTML object>"
            ],
            "text/html": [
              "<div><iframe src=\"https://5a367a690a8581b3dc.gradio.live\" width=\"100%\" height=\"500\" allow=\"autoplay; camera; microphone; clipboard-read; clipboard-write;\" frameborder=\"0\" allowfullscreen></iframe></div>"
            ]
          },
          "metadata": {}
        },
        {
          "output_type": "execute_result",
          "data": {
            "text/plain": []
          },
          "metadata": {},
          "execution_count": 1
        }
      ],
      "source": [
        "import gradio as gr\n",
        "\n",
        "# Define text samples\n",
        "text_samples = [\n",
        "    [\"The quick brown fox jumps over the lazy dog\"],\n",
        "    [\"Build & share delightful machine learning apps\"],\n",
        "    [\"She sells seashells by the seashore\"],\n",
        "    [\"Supercalifragilisticexpialidocious\"],\n",
        "    [\"Lorem ipsum\"],\n",
        "    [\"That's all folks!\"]\n",
        "]\n",
        "\n",
        "# Create a Gradio Blocks app\n",
        "with gr.Blocks() as demo:\n",
        "    # Create a Dataset component with a textbox to display text samples\n",
        "    dataset = gr.Dataset(components=[gr.Textbox()], samples=text_samples, layout=\"gallery\", headers=[\"Sample Text\"])\n",
        "\n",
        "# Launch the app\n",
        "demo.launch()"
      ]
    },
    {
      "cell_type": "markdown",
      "source": [
        "**Displaying Images in a Gallery**"
      ],
      "metadata": {
        "id": "pc9SDxo3z3W0"
      }
    },
    {
      "cell_type": "code",
      "source": [
        "import gradio as gr\n",
        "\n",
        "# Define image samples\n",
        "image_samples = [\n",
        "    [\"https://cdn.pixabay.com/photo/2017/03/17/11/50/car-2151324_1280.jpg\"],\n",
        "    [\"https://cdn.pixabay.com/photo/2016/05/05/18/01/coupe-1374436_1280.jpg\"],\n",
        "    [\"https://cdn.pixabay.com/photo/2016/05/05/18/02/coupe-1374444_1280.jpg\"]\n",
        "]\n",
        "\n",
        "# Create a Gradio Blocks app\n",
        "with gr.Blocks() as demo:\n",
        "    # Create a Dataset component with an image component to display image samples\n",
        "    dataset = gr.Dataset(components=[gr.Image()], samples=image_samples, layout=\"gallery\", headers=[\"Sample Image\"])\n",
        "\n",
        "# Launch the app\n",
        "demo.launch()"
      ],
      "metadata": {
        "colab": {
          "base_uri": "https://localhost:8080/",
          "height": 646
        },
        "id": "Tovmtk5Cz-jl",
        "outputId": "f18a751c-5f92-4109-e853-498710234e73"
      },
      "execution_count": 2,
      "outputs": [
        {
          "output_type": "stream",
          "name": "stdout",
          "text": [
            "It looks like you are running Gradio on a hosted Jupyter notebook, which requires `share=True`. Automatically setting `share=True` (you can turn this off by setting `share=False` in `launch()` explicitly).\n",
            "\n",
            "Colab notebook detected. To show errors in colab notebook, set debug=True in launch()\n",
            "* Running on public URL: https://052f02ec4ab64b3940.gradio.live\n",
            "\n",
            "This share link expires in 1 week. For free permanent hosting and GPU upgrades, run `gradio deploy` from the terminal in the working directory to deploy to Hugging Face Spaces (https://huggingface.co/spaces)\n"
          ]
        },
        {
          "output_type": "display_data",
          "data": {
            "text/plain": [
              "<IPython.core.display.HTML object>"
            ],
            "text/html": [
              "<div><iframe src=\"https://052f02ec4ab64b3940.gradio.live\" width=\"100%\" height=\"500\" allow=\"autoplay; camera; microphone; clipboard-read; clipboard-write;\" frameborder=\"0\" allowfullscreen></iframe></div>"
            ]
          },
          "metadata": {}
        },
        {
          "output_type": "execute_result",
          "data": {
            "text/plain": []
          },
          "metadata": {},
          "execution_count": 2
        }
      ]
    },
    {
      "cell_type": "markdown",
      "source": [
        "**Displaying Multiple Components per Sample**"
      ],
      "metadata": {
        "id": "7K9SXGbwz_Pg"
      }
    },
    {
      "cell_type": "code",
      "source": [
        "import gradio as gr\n",
        "\n",
        "# Define samples with multiple components\n",
        "samples = [\n",
        "    [\"The quick brown fox jumps over the lazy dog\", \"images/image1.jpg\"],\n",
        "    [\"Build & share delightful machine learning apps\", \"images/image2.jpg\"],\n",
        "    [\"She sells seashells by the seashore\", \"images/image3.jpg\"]\n",
        "]\n",
        "\n",
        "# Create a Gradio Blocks app\n",
        "with gr.Blocks() as demo:\n",
        "    # Create a Dataset component with a textbox and image component\n",
        "    dataset = gr.Dataset(components=[gr.Textbox(), gr.Image()], samples=samples, layout=\"table\", headers=[\"Text\", \"Image\"])\n",
        "\n",
        "# Launch the app\n",
        "demo.launch()"
      ],
      "metadata": {
        "colab": {
          "base_uri": "https://localhost:8080/",
          "height": 646
        },
        "id": "dk3flNT80Dcr",
        "outputId": "491de537-1800-4a28-ae34-7067c6302175"
      },
      "execution_count": 3,
      "outputs": [
        {
          "output_type": "stream",
          "name": "stdout",
          "text": [
            "It looks like you are running Gradio on a hosted Jupyter notebook, which requires `share=True`. Automatically setting `share=True` (you can turn this off by setting `share=False` in `launch()` explicitly).\n",
            "\n",
            "Colab notebook detected. To show errors in colab notebook, set debug=True in launch()\n",
            "* Running on public URL: https://d71ecfdaa219e6a3af.gradio.live\n",
            "\n",
            "This share link expires in 1 week. For free permanent hosting and GPU upgrades, run `gradio deploy` from the terminal in the working directory to deploy to Hugging Face Spaces (https://huggingface.co/spaces)\n"
          ]
        },
        {
          "output_type": "display_data",
          "data": {
            "text/plain": [
              "<IPython.core.display.HTML object>"
            ],
            "text/html": [
              "<div><iframe src=\"https://d71ecfdaa219e6a3af.gradio.live\" width=\"100%\" height=\"500\" allow=\"autoplay; camera; microphone; clipboard-read; clipboard-write;\" frameborder=\"0\" allowfullscreen></iframe></div>"
            ]
          },
          "metadata": {}
        },
        {
          "output_type": "execute_result",
          "data": {
            "text/plain": []
          },
          "metadata": {},
          "execution_count": 3
        }
      ]
    },
    {
      "cell_type": "markdown",
      "source": [
        "**Displaying Tabular Data**"
      ],
      "metadata": {
        "id": "GYE0EDjq0IL7"
      }
    },
    {
      "cell_type": "code",
      "source": [
        "import gradio as gr\n",
        "\n",
        "# Define tabular data samples\n",
        "samples = [\n",
        "    [\"Alice\", 25, \"Engineer\"],\n",
        "    [\"Bob\", 30, \"Designer\"],\n",
        "    [\"Charlie\", 35, \"Manager\"]\n",
        "]\n",
        "\n",
        "# Create a Gradio Blocks app\n",
        "with gr.Blocks() as demo:\n",
        "    # Create a Dataset component with textboxes to display tabular data\n",
        "    dataset = gr.Dataset(components=[gr.Textbox(), gr.Number(), gr.Textbox()], samples=samples, layout=\"table\", headers=[\"Name\", \"Age\", \"Job\"])\n",
        "\n",
        "# Launch the app\n",
        "demo.launch()"
      ],
      "metadata": {
        "colab": {
          "base_uri": "https://localhost:8080/",
          "height": 646
        },
        "id": "RrEyoCHu0J3Z",
        "outputId": "0b94d9dc-d02a-4f08-891e-62b53c7c733c"
      },
      "execution_count": 4,
      "outputs": [
        {
          "output_type": "stream",
          "name": "stdout",
          "text": [
            "It looks like you are running Gradio on a hosted Jupyter notebook, which requires `share=True`. Automatically setting `share=True` (you can turn this off by setting `share=False` in `launch()` explicitly).\n",
            "\n",
            "Colab notebook detected. To show errors in colab notebook, set debug=True in launch()\n",
            "* Running on public URL: https://fa409c632f67d2c782.gradio.live\n",
            "\n",
            "This share link expires in 1 week. For free permanent hosting and GPU upgrades, run `gradio deploy` from the terminal in the working directory to deploy to Hugging Face Spaces (https://huggingface.co/spaces)\n"
          ]
        },
        {
          "output_type": "display_data",
          "data": {
            "text/plain": [
              "<IPython.core.display.HTML object>"
            ],
            "text/html": [
              "<div><iframe src=\"https://fa409c632f67d2c782.gradio.live\" width=\"100%\" height=\"500\" allow=\"autoplay; camera; microphone; clipboard-read; clipboard-write;\" frameborder=\"0\" allowfullscreen></iframe></div>"
            ]
          },
          "metadata": {}
        },
        {
          "output_type": "execute_result",
          "data": {
            "text/plain": []
          },
          "metadata": {},
          "execution_count": 4
        }
      ]
    },
    {
      "cell_type": "markdown",
      "source": [
        "**Customizing Layout and Appearance**"
      ],
      "metadata": {
        "id": "lUZnBJWM0RrP"
      }
    },
    {
      "cell_type": "code",
      "source": [
        "import gradio as gr\n",
        "\n",
        "# Define image samples\n",
        "image_samples = [\n",
        "    [\"images/image1.jpg\"],\n",
        "    [\"images/image2.jpg\"],\n",
        "    [\"images/image3.jpg\"]\n",
        "]\n",
        "\n",
        "# Create a Gradio Blocks app\n",
        "with gr.Blocks() as demo:\n",
        "    # Create a Dataset component with an image component\n",
        "    dataset = gr.Dataset(\n",
        "        components=[gr.Image()],\n",
        "        samples=image_samples,\n",
        "        layout=\"gallery\",\n",
        "        headers=[\"Sample Image\"],\n",
        "        samples_per_page=2,\n",
        "        visible=True,\n",
        "        elem_id=\"custom-dataset\",\n",
        "        elem_classes=[\"custom-class\"]\n",
        "    )\n",
        "\n",
        "# Launch the app\n",
        "demo.launch()"
      ],
      "metadata": {
        "colab": {
          "base_uri": "https://localhost:8080/",
          "height": 646
        },
        "id": "b9dEKc1D0N0o",
        "outputId": "42f5046b-3a88-4464-b7da-4e8e95d01944"
      },
      "execution_count": 5,
      "outputs": [
        {
          "output_type": "stream",
          "name": "stdout",
          "text": [
            "It looks like you are running Gradio on a hosted Jupyter notebook, which requires `share=True`. Automatically setting `share=True` (you can turn this off by setting `share=False` in `launch()` explicitly).\n",
            "\n",
            "Colab notebook detected. To show errors in colab notebook, set debug=True in launch()\n",
            "* Running on public URL: https://4be6b8573a63a95436.gradio.live\n",
            "\n",
            "This share link expires in 1 week. For free permanent hosting and GPU upgrades, run `gradio deploy` from the terminal in the working directory to deploy to Hugging Face Spaces (https://huggingface.co/spaces)\n"
          ]
        },
        {
          "output_type": "display_data",
          "data": {
            "text/plain": [
              "<IPython.core.display.HTML object>"
            ],
            "text/html": [
              "<div><iframe src=\"https://4be6b8573a63a95436.gradio.live\" width=\"100%\" height=\"500\" allow=\"autoplay; camera; microphone; clipboard-read; clipboard-write;\" frameborder=\"0\" allowfullscreen></iframe></div>"
            ]
          },
          "metadata": {}
        },
        {
          "output_type": "execute_result",
          "data": {
            "text/plain": []
          },
          "metadata": {},
          "execution_count": 5
        }
      ]
    },
    {
      "cell_type": "markdown",
      "source": [
        "**Displaying Audio Samples**"
      ],
      "metadata": {
        "id": "Zy41Xma40V5j"
      }
    },
    {
      "cell_type": "code",
      "source": [
        "import gradio as gr\n",
        "\n",
        "# Define audio samples\n",
        "audio_samples = [\n",
        "    [\"audios/audio1.mp3\"],\n",
        "    [\"audios/audio2.mp3\"],\n",
        "    [\"audios/audio3.mp3\"]\n",
        "]\n",
        "\n",
        "# Create a Gradio Blocks app\n",
        "with gr.Blocks() as demo:\n",
        "    # Create a Dataset component with an audio component\n",
        "    dataset = gr.Dataset(components=[gr.Audio()], samples=audio_samples, layout=\"gallery\", headers=[\"Sample Audio\"])\n",
        "\n",
        "# Launch the app\n",
        "demo.launch()"
      ],
      "metadata": {
        "colab": {
          "base_uri": "https://localhost:8080/",
          "height": 646
        },
        "id": "qQNNu3Ex0URo",
        "outputId": "e6c05ec3-a942-4310-a944-9d06bf331235"
      },
      "execution_count": 6,
      "outputs": [
        {
          "output_type": "stream",
          "name": "stdout",
          "text": [
            "It looks like you are running Gradio on a hosted Jupyter notebook, which requires `share=True`. Automatically setting `share=True` (you can turn this off by setting `share=False` in `launch()` explicitly).\n",
            "\n",
            "Colab notebook detected. To show errors in colab notebook, set debug=True in launch()\n",
            "* Running on public URL: https://83cd97d5cd2fd5d1ea.gradio.live\n",
            "\n",
            "This share link expires in 1 week. For free permanent hosting and GPU upgrades, run `gradio deploy` from the terminal in the working directory to deploy to Hugging Face Spaces (https://huggingface.co/spaces)\n"
          ]
        },
        {
          "output_type": "display_data",
          "data": {
            "text/plain": [
              "<IPython.core.display.HTML object>"
            ],
            "text/html": [
              "<div><iframe src=\"https://83cd97d5cd2fd5d1ea.gradio.live\" width=\"100%\" height=\"500\" allow=\"autoplay; camera; microphone; clipboard-read; clipboard-write;\" frameborder=\"0\" allowfullscreen></iframe></div>"
            ]
          },
          "metadata": {}
        },
        {
          "output_type": "execute_result",
          "data": {
            "text/plain": []
          },
          "metadata": {},
          "execution_count": 6
        }
      ]
    },
    {
      "cell_type": "markdown",
      "source": [
        "**Displaying Video Samples**"
      ],
      "metadata": {
        "id": "DZLa_f9k0ZvC"
      }
    },
    {
      "cell_type": "code",
      "source": [
        "import gradio as gr\n",
        "\n",
        "# Define video samples\n",
        "video_samples = [\n",
        "    [\"videos/video1.mp4\"],\n",
        "    [\"videos/video2.mp4\"],\n",
        "    [\"videos/video3.mp4\"]\n",
        "]\n",
        "\n",
        "# Create a Gradio Blocks app\n",
        "with gr.Blocks() as demo:\n",
        "    # Create a Dataset component with a video component\n",
        "    dataset = gr.Dataset(components=[gr.Video()], samples=video_samples, layout=\"gallery\", headers=[\"Sample Video\"])\n",
        "\n",
        "# Launch the app\n",
        "demo.launch()"
      ],
      "metadata": {
        "colab": {
          "base_uri": "https://localhost:8080/",
          "height": 646
        },
        "id": "JQPg5C660YPJ",
        "outputId": "d313e322-32a1-4e3d-a61e-68fe20b026a9"
      },
      "execution_count": 7,
      "outputs": [
        {
          "output_type": "stream",
          "name": "stdout",
          "text": [
            "It looks like you are running Gradio on a hosted Jupyter notebook, which requires `share=True`. Automatically setting `share=True` (you can turn this off by setting `share=False` in `launch()` explicitly).\n",
            "\n",
            "Colab notebook detected. To show errors in colab notebook, set debug=True in launch()\n",
            "* Running on public URL: https://f7c332ab897a3a0a27.gradio.live\n",
            "\n",
            "This share link expires in 1 week. For free permanent hosting and GPU upgrades, run `gradio deploy` from the terminal in the working directory to deploy to Hugging Face Spaces (https://huggingface.co/spaces)\n"
          ]
        },
        {
          "output_type": "display_data",
          "data": {
            "text/plain": [
              "<IPython.core.display.HTML object>"
            ],
            "text/html": [
              "<div><iframe src=\"https://f7c332ab897a3a0a27.gradio.live\" width=\"100%\" height=\"500\" allow=\"autoplay; camera; microphone; clipboard-read; clipboard-write;\" frameborder=\"0\" allowfullscreen></iframe></div>"
            ]
          },
          "metadata": {}
        },
        {
          "output_type": "execute_result",
          "data": {
            "text/plain": []
          },
          "metadata": {},
          "execution_count": 7
        }
      ]
    }
  ]
}