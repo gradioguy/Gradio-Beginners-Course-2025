{
  "nbformat": 4,
  "nbformat_minor": 0,
  "metadata": {
    "colab": {
      "provenance": []
    },
    "kernelspec": {
      "name": "python3",
      "display_name": "Python 3"
    },
    "language_info": {
      "name": "python"
    }
  },
  "cells": [
    {
      "cell_type": "markdown",
      "source": [
        "**Clearing a Single TextInput**"
      ],
      "metadata": {
        "id": "y1a14GwHt0E-"
      }
    },
    {
      "cell_type": "code",
      "execution_count": 1,
      "metadata": {
        "colab": {
          "base_uri": "https://localhost:8080/",
          "height": 646
        },
        "id": "SCatVDNKtlmy",
        "outputId": "d5e73f99-a01b-4a0f-d8b8-24ae2439e70f"
      },
      "outputs": [
        {
          "output_type": "stream",
          "name": "stdout",
          "text": [
            "It looks like you are running Gradio on a hosted Jupyter notebook, which requires `share=True`. Automatically setting `share=True` (you can turn this off by setting `share=False` in `launch()` explicitly).\n",
            "\n",
            "Colab notebook detected. To show errors in colab notebook, set debug=True in launch()\n",
            "* Running on public URL: https://313e27c0220b107581.gradio.live\n",
            "\n",
            "This share link expires in 1 week. For free permanent hosting and GPU upgrades, run `gradio deploy` from the terminal in the working directory to deploy to Hugging Face Spaces (https://huggingface.co/spaces)\n"
          ]
        },
        {
          "output_type": "display_data",
          "data": {
            "text/plain": [
              "<IPython.core.display.HTML object>"
            ],
            "text/html": [
              "<div><iframe src=\"https://313e27c0220b107581.gradio.live\" width=\"100%\" height=\"500\" allow=\"autoplay; camera; microphone; clipboard-read; clipboard-write;\" frameborder=\"0\" allowfullscreen></iframe></div>"
            ]
          },
          "metadata": {}
        },
        {
          "output_type": "execute_result",
          "data": {
            "text/plain": []
          },
          "metadata": {},
          "execution_count": 1
        }
      ],
      "source": [
        "import gradio as gr\n",
        "\n",
        "def greet(name):\n",
        "    return f\"Hello {name}!\"\n",
        "\n",
        "with gr.Blocks() as demo:\n",
        "    name = gr.Textbox(label=\"Enter your name\")\n",
        "    output = gr.Textbox(label=\"Output\")\n",
        "    clear_button = gr.ClearButton(components=[name, output], value=\"Clear\")\n",
        "\n",
        "    name.submit(greet, inputs=name, outputs=output)\n",
        "    clear_button.click(greet, inputs=name, outputs=output)\n",
        "\n",
        "demo.launch()"
      ]
    },
    {
      "cell_type": "markdown",
      "source": [
        "**Clearing Image Input and Output**"
      ],
      "metadata": {
        "id": "ljG83JzLtzJe"
      }
    },
    {
      "cell_type": "code",
      "source": [
        "import gradio as gr\n",
        "\n",
        "def process_image(img):\n",
        "    return img\n",
        "\n",
        "with gr.Blocks() as demo:\n",
        "    img_input = gr.Image(label=\"Upload an image\")\n",
        "    img_output = gr.Image(label=\"Processed image\")\n",
        "    clear_button = gr.ClearButton(components=[img_input, img_output], value=\"Clear\")\n",
        "\n",
        "    img_input.upload(process_image, inputs=img_input, outputs=img_output)\n",
        "    clear_button.click(process_image, inputs=img_input, outputs=img_output)\n",
        "\n",
        "demo.launch()"
      ],
      "metadata": {
        "colab": {
          "base_uri": "https://localhost:8080/",
          "height": 646
        },
        "id": "l6V5PCYmt8x2",
        "outputId": "c0650316-b253-4393-c40b-98238f49183c"
      },
      "execution_count": 2,
      "outputs": [
        {
          "output_type": "stream",
          "name": "stdout",
          "text": [
            "It looks like you are running Gradio on a hosted Jupyter notebook, which requires `share=True`. Automatically setting `share=True` (you can turn this off by setting `share=False` in `launch()` explicitly).\n",
            "\n",
            "Colab notebook detected. To show errors in colab notebook, set debug=True in launch()\n",
            "* Running on public URL: https://f857f87ca55268e82e.gradio.live\n",
            "\n",
            "This share link expires in 1 week. For free permanent hosting and GPU upgrades, run `gradio deploy` from the terminal in the working directory to deploy to Hugging Face Spaces (https://huggingface.co/spaces)\n"
          ]
        },
        {
          "output_type": "display_data",
          "data": {
            "text/plain": [
              "<IPython.core.display.HTML object>"
            ],
            "text/html": [
              "<div><iframe src=\"https://f857f87ca55268e82e.gradio.live\" width=\"100%\" height=\"500\" allow=\"autoplay; camera; microphone; clipboard-read; clipboard-write;\" frameborder=\"0\" allowfullscreen></iframe></div>"
            ]
          },
          "metadata": {}
        },
        {
          "output_type": "execute_result",
          "data": {
            "text/plain": []
          },
          "metadata": {},
          "execution_count": 2
        }
      ]
    },
    {
      "cell_type": "markdown",
      "source": [
        "**Clearing Dropdown and Textbox**"
      ],
      "metadata": {
        "id": "eZW0dsyFuAmu"
      }
    },
    {
      "cell_type": "code",
      "source": [
        "import gradio as gr\n",
        "\n",
        "def get_description(animal):\n",
        "    descriptions = {\n",
        "        \"Dog\": \"A domesticated carnivorous mammal.\",\n",
        "        \"Cat\": \"A small, typically furry carnivorous mammal.\",\n",
        "        \"Bird\": \"A warm-blooded vertebrate with feathers, beak, and laying hard-shelled eggs.\"\n",
        "    }\n",
        "    return descriptions.get(animal, \"Unknown animal\")\n",
        "\n",
        "with gr.Blocks() as demo:\n",
        "    animal_dropdown = gr.Dropdown([\"Dog\", \"Cat\", \"Bird\"], label=\"Select an animal\")\n",
        "    description_textbox = gr.Textbox(label=\"Description\")\n",
        "    clear_button = gr.ClearButton(components=[animal_dropdown, description_textbox], value=\"Clear\")\n",
        "\n",
        "    animal_dropdown.change(get_description, inputs=animal_dropdown, outputs=description_textbox)\n",
        "    clear_button.click(get_description, inputs=animal_dropdown, outputs=description_textbox)\n",
        "\n",
        "demo.launch()"
      ],
      "metadata": {
        "colab": {
          "base_uri": "https://localhost:8080/",
          "height": 646
        },
        "id": "1XH3t_lWt_F1",
        "outputId": "13aee278-ac93-4d5c-b766-be4bbb609864"
      },
      "execution_count": 3,
      "outputs": [
        {
          "output_type": "stream",
          "name": "stdout",
          "text": [
            "It looks like you are running Gradio on a hosted Jupyter notebook, which requires `share=True`. Automatically setting `share=True` (you can turn this off by setting `share=False` in `launch()` explicitly).\n",
            "\n",
            "Colab notebook detected. To show errors in colab notebook, set debug=True in launch()\n",
            "* Running on public URL: https://c8e1aa036cd3975b7f.gradio.live\n",
            "\n",
            "This share link expires in 1 week. For free permanent hosting and GPU upgrades, run `gradio deploy` from the terminal in the working directory to deploy to Hugging Face Spaces (https://huggingface.co/spaces)\n"
          ]
        },
        {
          "output_type": "display_data",
          "data": {
            "text/plain": [
              "<IPython.core.display.HTML object>"
            ],
            "text/html": [
              "<div><iframe src=\"https://c8e1aa036cd3975b7f.gradio.live\" width=\"100%\" height=\"500\" allow=\"autoplay; camera; microphone; clipboard-read; clipboard-write;\" frameborder=\"0\" allowfullscreen></iframe></div>"
            ]
          },
          "metadata": {}
        },
        {
          "output_type": "execute_result",
          "data": {
            "text/plain": []
          },
          "metadata": {},
          "execution_count": 3
        }
      ]
    },
    {
      "cell_type": "markdown",
      "source": [
        "**Clearing Radio and Textbox**"
      ],
      "metadata": {
        "id": "0wLa28j-uHup"
      }
    },
    {
      "cell_type": "code",
      "source": [
        "import gradio as gr\n",
        "\n",
        "def get_response(question):\n",
        "    responses = {\n",
        "        \"What is the capital of France?\": \"The capital of France is Paris.\",\n",
        "        \"What is the largest planet?\": \"The largest planet is Jupiter.\"\n",
        "    }\n",
        "    return responses.get(question, \"Unknown question\")\n",
        "\n",
        "with gr.Blocks() as demo:\n",
        "    question_radio = gr.Radio([\"What is the capital of France?\", \"What is the largest planet?\"], label=\"Select a question\")\n",
        "    response_textbox = gr.Textbox(label=\"Response\")\n",
        "    clear_button = gr.ClearButton(components=[question_radio, response_textbox], value=\"Clear\")\n",
        "\n",
        "    question_radio.change(get_response, inputs=question_radio, outputs=response_textbox)\n",
        "    clear_button.click(get_response, inputs=question_radio, outputs=response_textbox)\n",
        "\n",
        "demo.launch()"
      ],
      "metadata": {
        "colab": {
          "base_uri": "https://localhost:8080/",
          "height": 646
        },
        "id": "CBYq9XDeuF0n",
        "outputId": "30f0c701-d0fa-49c5-dc67-cad26ddd7233"
      },
      "execution_count": 4,
      "outputs": [
        {
          "output_type": "stream",
          "name": "stdout",
          "text": [
            "It looks like you are running Gradio on a hosted Jupyter notebook, which requires `share=True`. Automatically setting `share=True` (you can turn this off by setting `share=False` in `launch()` explicitly).\n",
            "\n",
            "Colab notebook detected. To show errors in colab notebook, set debug=True in launch()\n",
            "* Running on public URL: https://8054af7958b7f3c19c.gradio.live\n",
            "\n",
            "This share link expires in 1 week. For free permanent hosting and GPU upgrades, run `gradio deploy` from the terminal in the working directory to deploy to Hugging Face Spaces (https://huggingface.co/spaces)\n"
          ]
        },
        {
          "output_type": "display_data",
          "data": {
            "text/plain": [
              "<IPython.core.display.HTML object>"
            ],
            "text/html": [
              "<div><iframe src=\"https://8054af7958b7f3c19c.gradio.live\" width=\"100%\" height=\"500\" allow=\"autoplay; camera; microphone; clipboard-read; clipboard-write;\" frameborder=\"0\" allowfullscreen></iframe></div>"
            ]
          },
          "metadata": {}
        },
        {
          "output_type": "execute_result",
          "data": {
            "text/plain": []
          },
          "metadata": {},
          "execution_count": 4
        }
      ]
    },
    {
      "cell_type": "markdown",
      "source": [
        "**Clearing Checkbox and Textbox**"
      ],
      "metadata": {
        "id": "JKY5D-3wuMA2"
      }
    },
    {
      "cell_type": "code",
      "source": [
        "import gradio as gr\n",
        "\n",
        "def summarize_features(features):\n",
        "    return \"Selected features: \" + \", \".join(features)\n",
        "\n",
        "with gr.Blocks() as demo:\n",
        "    features_checkbox = gr.CheckboxGroup([\"Fast\", \"Efficient\", \"Reliable\"], label=\"Select features\")\n",
        "    summary_textbox = gr.Textbox(label=\"Summary\")\n",
        "    clear_button = gr.ClearButton(components=[features_checkbox, summary_textbox], value=\"Clear\")\n",
        "\n",
        "    features_checkbox.change(summarize_features, inputs=features_checkbox, outputs=summary_textbox)\n",
        "    clear_button.click(summarize_features, inputs=features_checkbox, outputs=summary_textbox)\n",
        "\n",
        "demo.launch()"
      ],
      "metadata": {
        "colab": {
          "base_uri": "https://localhost:8080/",
          "height": 646
        },
        "id": "CeoWr_oVuKiQ",
        "outputId": "d3bd9947-05ae-4603-837b-fd1c23bec79d"
      },
      "execution_count": 5,
      "outputs": [
        {
          "output_type": "stream",
          "name": "stdout",
          "text": [
            "It looks like you are running Gradio on a hosted Jupyter notebook, which requires `share=True`. Automatically setting `share=True` (you can turn this off by setting `share=False` in `launch()` explicitly).\n",
            "\n",
            "Colab notebook detected. To show errors in colab notebook, set debug=True in launch()\n",
            "* Running on public URL: https://7a1ccec319485969dd.gradio.live\n",
            "\n",
            "This share link expires in 1 week. For free permanent hosting and GPU upgrades, run `gradio deploy` from the terminal in the working directory to deploy to Hugging Face Spaces (https://huggingface.co/spaces)\n"
          ]
        },
        {
          "output_type": "display_data",
          "data": {
            "text/plain": [
              "<IPython.core.display.HTML object>"
            ],
            "text/html": [
              "<div><iframe src=\"https://7a1ccec319485969dd.gradio.live\" width=\"100%\" height=\"500\" allow=\"autoplay; camera; microphone; clipboard-read; clipboard-write;\" frameborder=\"0\" allowfullscreen></iframe></div>"
            ]
          },
          "metadata": {}
        },
        {
          "output_type": "execute_result",
          "data": {
            "text/plain": []
          },
          "metadata": {},
          "execution_count": 5
        }
      ]
    },
    {
      "cell_type": "markdown",
      "source": [
        "**Clearing Slider and Textbox**"
      ],
      "metadata": {
        "id": "n33ZpCcXuR4E"
      }
    },
    {
      "cell_type": "code",
      "source": [
        "import gradio as gr\n",
        "\n",
        "def describe_age(age):\n",
        "    return f\"You are {age} years old.\"\n",
        "\n",
        "with gr.Blocks() as demo:\n",
        "    age_slider = gr.Slider(0, 100, step=1, label=\"Age\")\n",
        "    description_textbox = gr.Textbox(label=\"Description\")\n",
        "    clear_button = gr.ClearButton(components=[age_slider, description_textbox], value=\"Clear\")\n",
        "\n",
        "    age_slider.change(describe_age, inputs=age_slider, outputs=description_textbox)\n",
        "    clear_button.click(describe_age, inputs=age_slider, outputs=description_textbox)\n",
        "\n",
        "demo.launch()"
      ],
      "metadata": {
        "colab": {
          "base_uri": "https://localhost:8080/",
          "height": 646
        },
        "id": "ydMmLYg0uPOG",
        "outputId": "fb661612-0e2b-4453-bd35-c6b569bd3e8d"
      },
      "execution_count": 6,
      "outputs": [
        {
          "output_type": "stream",
          "name": "stdout",
          "text": [
            "It looks like you are running Gradio on a hosted Jupyter notebook, which requires `share=True`. Automatically setting `share=True` (you can turn this off by setting `share=False` in `launch()` explicitly).\n",
            "\n",
            "Colab notebook detected. To show errors in colab notebook, set debug=True in launch()\n",
            "* Running on public URL: https://d6db4bb776a7577152.gradio.live\n",
            "\n",
            "This share link expires in 1 week. For free permanent hosting and GPU upgrades, run `gradio deploy` from the terminal in the working directory to deploy to Hugging Face Spaces (https://huggingface.co/spaces)\n"
          ]
        },
        {
          "output_type": "display_data",
          "data": {
            "text/plain": [
              "<IPython.core.display.HTML object>"
            ],
            "text/html": [
              "<div><iframe src=\"https://d6db4bb776a7577152.gradio.live\" width=\"100%\" height=\"500\" allow=\"autoplay; camera; microphone; clipboard-read; clipboard-write;\" frameborder=\"0\" allowfullscreen></iframe></div>"
            ]
          },
          "metadata": {}
        },
        {
          "output_type": "execute_result",
          "data": {
            "text/plain": []
          },
          "metadata": {},
          "execution_count": 6
        }
      ]
    },
    {
      "cell_type": "markdown",
      "source": [
        "**Clearing RadioGroup and Textbox**"
      ],
      "metadata": {
        "id": "L5j5r4mAuWSA"
      }
    },
    {
      "cell_type": "code",
      "source": [
        "import gradio as gr\n",
        "\n",
        "def get_answer(question):\n",
        "    answers = {\n",
        "        \"What is 2 + 2?\": \"2 + 2 = 4\",\n",
        "        \"What is 5 * 5?\": \"5 * 5 = 25\"\n",
        "    }\n",
        "    return answers.get(question, \"Unknown question\")\n",
        "\n",
        "with gr.Blocks() as demo:\n",
        "    question_radiogroup = gr.Radio([\"What is 2 + 2?\", \"What is 5 * 5?\"], label=\"Select a question\")\n",
        "    answer_textbox = gr.Textbox(label=\"Answer\")\n",
        "    clear_button = gr.ClearButton(components=[question_radiogroup, answer_textbox], value=\"Clear\")\n",
        "\n",
        "    question_radiogroup.change(get_answer, inputs=question_radiogroup, outputs=answer_textbox)\n",
        "    clear_button.click(get_answer, inputs=question_radiogroup, outputs=answer_textbox)\n",
        "\n",
        "demo.launch()\n"
      ],
      "metadata": {
        "colab": {
          "base_uri": "https://localhost:8080/",
          "height": 646
        },
        "id": "pY_FEWCXuUkZ",
        "outputId": "81ff8695-4f25-455d-8d7f-bd0a9c46ee96"
      },
      "execution_count": 7,
      "outputs": [
        {
          "output_type": "stream",
          "name": "stdout",
          "text": [
            "It looks like you are running Gradio on a hosted Jupyter notebook, which requires `share=True`. Automatically setting `share=True` (you can turn this off by setting `share=False` in `launch()` explicitly).\n",
            "\n",
            "Colab notebook detected. To show errors in colab notebook, set debug=True in launch()\n",
            "* Running on public URL: https://3ef235c81e37d34305.gradio.live\n",
            "\n",
            "This share link expires in 1 week. For free permanent hosting and GPU upgrades, run `gradio deploy` from the terminal in the working directory to deploy to Hugging Face Spaces (https://huggingface.co/spaces)\n"
          ]
        },
        {
          "output_type": "display_data",
          "data": {
            "text/plain": [
              "<IPython.core.display.HTML object>"
            ],
            "text/html": [
              "<div><iframe src=\"https://3ef235c81e37d34305.gradio.live\" width=\"100%\" height=\"500\" allow=\"autoplay; camera; microphone; clipboard-read; clipboard-write;\" frameborder=\"0\" allowfullscreen></iframe></div>"
            ]
          },
          "metadata": {}
        },
        {
          "output_type": "execute_result",
          "data": {
            "text/plain": []
          },
          "metadata": {},
          "execution_count": 7
        }
      ]
    },
    {
      "cell_type": "code",
      "source": [],
      "metadata": {
        "id": "7vyyt6M7uZMp"
      },
      "execution_count": null,
      "outputs": []
    }
  ]
}