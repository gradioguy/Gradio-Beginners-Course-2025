{
  "nbformat": 4,
  "nbformat_minor": 0,
  "metadata": {
    "colab": {
      "provenance": []
    },
    "kernelspec": {
      "name": "python3",
      "display_name": "Python 3"
    },
    "language_info": {
      "name": "python"
    }
  },
  "cells": [
    {
      "cell_type": "markdown",
      "source": [
        "**Basic Label Display**"
      ],
      "metadata": {
        "id": "m42PZjb9K1rG"
      }
    },
    {
      "cell_type": "code",
      "execution_count": 1,
      "metadata": {
        "colab": {
          "base_uri": "https://localhost:8080/",
          "height": 646
        },
        "id": "L2iIGtN1KyxR",
        "outputId": "2e94452a-3b36-4719-d985-11cab6a677ac"
      },
      "outputs": [
        {
          "output_type": "stream",
          "name": "stdout",
          "text": [
            "It looks like you are running Gradio on a hosted Jupyter notebook, which requires `share=True`. Automatically setting `share=True` (you can turn this off by setting `share=False` in `launch()` explicitly).\n",
            "\n",
            "Colab notebook detected. To show errors in colab notebook, set debug=True in launch()\n",
            "* Running on public URL: https://92b6d4304d1d09fe31.gradio.live\n",
            "\n",
            "This share link expires in 1 week. For free permanent hosting and GPU upgrades, run `gradio deploy` from the terminal in the working directory to deploy to Hugging Face Spaces (https://huggingface.co/spaces)\n"
          ]
        },
        {
          "output_type": "display_data",
          "data": {
            "text/plain": [
              "<IPython.core.display.HTML object>"
            ],
            "text/html": [
              "<div><iframe src=\"https://92b6d4304d1d09fe31.gradio.live\" width=\"100%\" height=\"500\" allow=\"autoplay; camera; microphone; clipboard-read; clipboard-write;\" frameborder=\"0\" allowfullscreen></iframe></div>"
            ]
          },
          "metadata": {}
        },
        {
          "output_type": "execute_result",
          "data": {
            "text/plain": []
          },
          "metadata": {},
          "execution_count": 1
        }
      ],
      "source": [
        "import gradio as gr\n",
        "\n",
        "def predict():\n",
        "    return \"Positive\"\n",
        "\n",
        "iface = gr.Interface(\n",
        "    fn=predict,\n",
        "    inputs=None,\n",
        "    outputs=gr.Label(),\n",
        "    title=\"Basic Label Example\"\n",
        ")\n",
        "iface.launch()"
      ]
    },
    {
      "cell_type": "markdown",
      "source": [
        "**Label with Confidence Scores**"
      ],
      "metadata": {
        "id": "LujOnHpoK5M5"
      }
    },
    {
      "cell_type": "code",
      "source": [
        "import gradio as gr\n",
        "\n",
        "def predict():\n",
        "    return {\"Positive\": 0.85, \"Negative\": 0.15}\n",
        "\n",
        "iface = gr.Interface(\n",
        "    fn=predict,\n",
        "    inputs=None,\n",
        "    outputs=gr.Label(num_top_classes=2),\n",
        "    title=\"Label with Confidence Scores\"\n",
        ")\n",
        "iface.launch()"
      ],
      "metadata": {
        "colab": {
          "base_uri": "https://localhost:8080/",
          "height": 646
        },
        "id": "GNt6L4MKK30-",
        "outputId": "42e00c38-f70a-41b9-c1f0-6aa28bb93cdf"
      },
      "execution_count": 2,
      "outputs": [
        {
          "output_type": "stream",
          "name": "stdout",
          "text": [
            "It looks like you are running Gradio on a hosted Jupyter notebook, which requires `share=True`. Automatically setting `share=True` (you can turn this off by setting `share=False` in `launch()` explicitly).\n",
            "\n",
            "Colab notebook detected. To show errors in colab notebook, set debug=True in launch()\n",
            "* Running on public URL: https://4c61b53fabc1102c7f.gradio.live\n",
            "\n",
            "This share link expires in 1 week. For free permanent hosting and GPU upgrades, run `gradio deploy` from the terminal in the working directory to deploy to Hugging Face Spaces (https://huggingface.co/spaces)\n"
          ]
        },
        {
          "output_type": "display_data",
          "data": {
            "text/plain": [
              "<IPython.core.display.HTML object>"
            ],
            "text/html": [
              "<div><iframe src=\"https://4c61b53fabc1102c7f.gradio.live\" width=\"100%\" height=\"500\" allow=\"autoplay; camera; microphone; clipboard-read; clipboard-write;\" frameborder=\"0\" allowfullscreen></iframe></div>"
            ]
          },
          "metadata": {}
        },
        {
          "output_type": "execute_result",
          "data": {
            "text/plain": []
          },
          "metadata": {},
          "execution_count": 2
        }
      ]
    },
    {
      "cell_type": "markdown",
      "source": [
        "**Update label based on condition**"
      ],
      "metadata": {
        "id": "2AYIpPKiK9ZF"
      }
    },
    {
      "cell_type": "code",
      "source": [
        "import gradio as gr\n",
        "\n",
        "def predict(text):\n",
        "    if \"positive\" in text.lower():\n",
        "        return \"Positive\"\n",
        "    else:\n",
        "        return \"Negative\"\n",
        "\n",
        "iface = gr.Interface(\n",
        "    fn=predict,\n",
        "    inputs=gr.Textbox(label=\"Enter Text\"),\n",
        "    outputs=gr.Label(),\n",
        "    title=\"Dynamic Label Update\"\n",
        ")\n",
        "iface.launch()"
      ],
      "metadata": {
        "colab": {
          "base_uri": "https://localhost:8080/",
          "height": 646
        },
        "id": "jKcsVO24K71q",
        "outputId": "1bc8e6c3-987b-4b59-e2b0-215397dd7b18"
      },
      "execution_count": 3,
      "outputs": [
        {
          "output_type": "stream",
          "name": "stdout",
          "text": [
            "It looks like you are running Gradio on a hosted Jupyter notebook, which requires `share=True`. Automatically setting `share=True` (you can turn this off by setting `share=False` in `launch()` explicitly).\n",
            "\n",
            "Colab notebook detected. To show errors in colab notebook, set debug=True in launch()\n",
            "* Running on public URL: https://e86bb6aadf215ed26f.gradio.live\n",
            "\n",
            "This share link expires in 1 week. For free permanent hosting and GPU upgrades, run `gradio deploy` from the terminal in the working directory to deploy to Hugging Face Spaces (https://huggingface.co/spaces)\n"
          ]
        },
        {
          "output_type": "display_data",
          "data": {
            "text/plain": [
              "<IPython.core.display.HTML object>"
            ],
            "text/html": [
              "<div><iframe src=\"https://e86bb6aadf215ed26f.gradio.live\" width=\"100%\" height=\"500\" allow=\"autoplay; camera; microphone; clipboard-read; clipboard-write;\" frameborder=\"0\" allowfullscreen></iframe></div>"
            ]
          },
          "metadata": {}
        },
        {
          "output_type": "execute_result",
          "data": {
            "text/plain": []
          },
          "metadata": {},
          "execution_count": 3
        }
      ]
    },
    {
      "cell_type": "markdown",
      "source": [
        "**Label with Custom Appearance**"
      ],
      "metadata": {
        "id": "0lqgpxXPLBZR"
      }
    },
    {
      "cell_type": "code",
      "source": [
        "import gradio as gr\n",
        "\n",
        "def predict():\n",
        "    return {\"Positive\": 0.85, \"Negative\": 0.15}\n",
        "\n",
        "custom_css = \"\"\"\n",
        "@import url('https://cdn.tailwindcss.com');\n",
        "\n",
        ".custom-label {\n",
        "    @apply text-xl font-bold text-white text-center p-4 rounded-lg shadow-lg\n",
        "    bg-gradient-to-r from-purple-600 via-pink-500 to-yellow-500;\n",
        "    animation: fadeIn 0.8s ease-in-out, colorShift 6s infinite linear;\n",
        "}\n",
        "\n",
        "@keyframes fadeIn {\n",
        "    from { opacity: 0; transform: translateY(-10px); }\n",
        "    to { opacity: 1; transform: translateY(0); }\n",
        "}\n",
        "\n",
        "@keyframes colorShift {\n",
        "    0% { background: linear-gradient(90deg, #6a11cb, #2575fc); }\n",
        "    25% { background: linear-gradient(90deg, #ff0080, #ff8c00); }\n",
        "    50% { background: linear-gradient(90deg, #00ff99, #00ccff); }\n",
        "    75% { background: linear-gradient(90deg, #ffdd00, #ff5500); }\n",
        "    100% { background: linear-gradient(90deg, #6a11cb, #2575fc); }\n",
        "}\n",
        "\"\"\"\n",
        "\n",
        "iface = gr.Interface(\n",
        "    fn=predict,\n",
        "    inputs=None,\n",
        "    outputs=gr.Label(elem_classes=[\"custom-label\"]),\n",
        "    title=\"Custom Appearance Label\",\n",
        "    css=custom_css\n",
        ")\n",
        "\n",
        "iface.launch()"
      ],
      "metadata": {
        "colab": {
          "base_uri": "https://localhost:8080/",
          "height": 646
        },
        "id": "5I8OR2TSLAHx",
        "outputId": "44428fe2-a400-4ec6-f6b7-46d181d4c86c"
      },
      "execution_count": 4,
      "outputs": [
        {
          "output_type": "stream",
          "name": "stdout",
          "text": [
            "It looks like you are running Gradio on a hosted Jupyter notebook, which requires `share=True`. Automatically setting `share=True` (you can turn this off by setting `share=False` in `launch()` explicitly).\n",
            "\n",
            "Colab notebook detected. To show errors in colab notebook, set debug=True in launch()\n",
            "* Running on public URL: https://2c79476b94569cc0f3.gradio.live\n",
            "\n",
            "This share link expires in 1 week. For free permanent hosting and GPU upgrades, run `gradio deploy` from the terminal in the working directory to deploy to Hugging Face Spaces (https://huggingface.co/spaces)\n"
          ]
        },
        {
          "output_type": "display_data",
          "data": {
            "text/plain": [
              "<IPython.core.display.HTML object>"
            ],
            "text/html": [
              "<div><iframe src=\"https://2c79476b94569cc0f3.gradio.live\" width=\"100%\" height=\"500\" allow=\"autoplay; camera; microphone; clipboard-read; clipboard-write;\" frameborder=\"0\" allowfullscreen></iframe></div>"
            ]
          },
          "metadata": {}
        },
        {
          "output_type": "execute_result",
          "data": {
            "text/plain": []
          },
          "metadata": {},
          "execution_count": 4
        }
      ]
    },
    {
      "cell_type": "markdown",
      "source": [
        "**Label with Multiple Outputs**"
      ],
      "metadata": {
        "id": "QBMK5YyRLLrl"
      }
    },
    {
      "cell_type": "code",
      "source": [
        "import gradio as gr\n",
        "\n",
        "def predict(text):\n",
        "    if \"positive\" in text.lower():\n",
        "        return {\"Positive\": 0.85, \"Negative\": 0.15}\n",
        "    elif \"negative\" in text.lower():\n",
        "        return {\"Positive\": 0.15, \"Negative\": 0.85}\n",
        "    else:\n",
        "        return {\"Positive\": 0.5, \"Negative\": 0.5}\n",
        "\n",
        "iface = gr.Interface(\n",
        "    fn=predict,\n",
        "    inputs=gr.Textbox(label=\"Enter Text\"),\n",
        "    outputs=gr.Label(num_top_classes=2),\n",
        "    title=\"Label with Multiple Outputs\"\n",
        ")\n",
        "iface.launch()"
      ],
      "metadata": {
        "colab": {
          "base_uri": "https://localhost:8080/",
          "height": 646
        },
        "id": "DEWJu5l6LFr5",
        "outputId": "b57cffc5-f7f1-4444-e5a3-3ce13de6adee"
      },
      "execution_count": 5,
      "outputs": [
        {
          "output_type": "stream",
          "name": "stdout",
          "text": [
            "It looks like you are running Gradio on a hosted Jupyter notebook, which requires `share=True`. Automatically setting `share=True` (you can turn this off by setting `share=False` in `launch()` explicitly).\n",
            "\n",
            "Colab notebook detected. To show errors in colab notebook, set debug=True in launch()\n",
            "* Running on public URL: https://ab3f9ed32a56383fc5.gradio.live\n",
            "\n",
            "This share link expires in 1 week. For free permanent hosting and GPU upgrades, run `gradio deploy` from the terminal in the working directory to deploy to Hugging Face Spaces (https://huggingface.co/spaces)\n"
          ]
        },
        {
          "output_type": "display_data",
          "data": {
            "text/plain": [
              "<IPython.core.display.HTML object>"
            ],
            "text/html": [
              "<div><iframe src=\"https://ab3f9ed32a56383fc5.gradio.live\" width=\"100%\" height=\"500\" allow=\"autoplay; camera; microphone; clipboard-read; clipboard-write;\" frameborder=\"0\" allowfullscreen></iframe></div>"
            ]
          },
          "metadata": {}
        },
        {
          "output_type": "execute_result",
          "data": {
            "text/plain": []
          },
          "metadata": {},
          "execution_count": 5
        }
      ]
    },
    {
      "cell_type": "code",
      "source": [],
      "metadata": {
        "id": "P3K6qY4zLN6O"
      },
      "execution_count": null,
      "outputs": []
    }
  ]
}