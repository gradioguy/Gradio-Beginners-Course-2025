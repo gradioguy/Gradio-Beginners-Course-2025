{
  "nbformat": 4,
  "nbformat_minor": 0,
  "metadata": {
    "colab": {
      "provenance": []
    },
    "kernelspec": {
      "name": "python3",
      "display_name": "Python 3"
    },
    "language_info": {
      "name": "python"
    }
  },
  "cells": [
    {
      "cell_type": "markdown",
      "source": [
        "**Basic Image Editor**"
      ],
      "metadata": {
        "id": "ldcYhhkpJJvE"
      }
    },
    {
      "cell_type": "code",
      "execution_count": 1,
      "metadata": {
        "colab": {
          "base_uri": "https://localhost:8080/",
          "height": 646
        },
        "id": "tJXPPISTItTO",
        "outputId": "d51ed028-34ba-48c1-a212-3e5feea69a1b"
      },
      "outputs": [
        {
          "output_type": "stream",
          "name": "stdout",
          "text": [
            "It looks like you are running Gradio on a hosted Jupyter notebook, which requires `share=True`. Automatically setting `share=True` (you can turn this off by setting `share=False` in `launch()` explicitly).\n",
            "\n",
            "Colab notebook detected. To show errors in colab notebook, set debug=True in launch()\n",
            "* Running on public URL: https://3fda8456f32ee7063a.gradio.live\n",
            "\n",
            "This share link expires in 1 week. For free permanent hosting and GPU upgrades, run `gradio deploy` from the terminal in the working directory to deploy to Hugging Face Spaces (https://huggingface.co/spaces)\n"
          ]
        },
        {
          "output_type": "display_data",
          "data": {
            "text/plain": [
              "<IPython.core.display.HTML object>"
            ],
            "text/html": [
              "<div><iframe src=\"https://3fda8456f32ee7063a.gradio.live\" width=\"100%\" height=\"500\" allow=\"autoplay; camera; microphone; clipboard-read; clipboard-write;\" frameborder=\"0\" allowfullscreen></iframe></div>"
            ]
          },
          "metadata": {}
        },
        {
          "output_type": "execute_result",
          "data": {
            "text/plain": []
          },
          "metadata": {},
          "execution_count": 1
        }
      ],
      "source": [
        "import gradio as gr\n",
        "\n",
        "def predict(im):\n",
        "    return im[\"composite\"]\n",
        "\n",
        "with gr.Blocks() as demo:\n",
        "    im_editor = gr.ImageEditor(type=\"pil\")\n",
        "    im_preview = gr.Image(type=\"pil\")\n",
        "    im_editor.change(predict, outputs=im_preview, inputs=im_editor)\n",
        "\n",
        "demo.launch()"
      ]
    },
    {
      "cell_type": "markdown",
      "source": [
        "**Image Editor with Multiple Layers**"
      ],
      "metadata": {
        "id": "NOtct-UuJUI5"
      }
    },
    {
      "cell_type": "code",
      "source": [
        "import gradio as gr\n",
        "\n",
        "def predict(im):\n",
        "    return im[\"composite\"]\n",
        "\n",
        "with gr.Blocks() as demo:\n",
        "    im_editor = gr.ImageEditor(type=\"pil\", layers=True)\n",
        "    im_preview = gr.Image(type=\"pil\")\n",
        "    im_editor.change(predict, outputs=im_preview, inputs=im_editor)\n",
        "\n",
        "demo.launch()"
      ],
      "metadata": {
        "colab": {
          "base_uri": "https://localhost:8080/",
          "height": 646
        },
        "id": "jq5wfkUCJT5O",
        "outputId": "68e87810-5944-4b99-e06b-36638d257b17"
      },
      "execution_count": 2,
      "outputs": [
        {
          "output_type": "stream",
          "name": "stdout",
          "text": [
            "It looks like you are running Gradio on a hosted Jupyter notebook, which requires `share=True`. Automatically setting `share=True` (you can turn this off by setting `share=False` in `launch()` explicitly).\n",
            "\n",
            "Colab notebook detected. To show errors in colab notebook, set debug=True in launch()\n",
            "* Running on public URL: https://f3b4f808b36808ceda.gradio.live\n",
            "\n",
            "This share link expires in 1 week. For free permanent hosting and GPU upgrades, run `gradio deploy` from the terminal in the working directory to deploy to Hugging Face Spaces (https://huggingface.co/spaces)\n"
          ]
        },
        {
          "output_type": "display_data",
          "data": {
            "text/plain": [
              "<IPython.core.display.HTML object>"
            ],
            "text/html": [
              "<div><iframe src=\"https://f3b4f808b36808ceda.gradio.live\" width=\"100%\" height=\"500\" allow=\"autoplay; camera; microphone; clipboard-read; clipboard-write;\" frameborder=\"0\" allowfullscreen></iframe></div>"
            ]
          },
          "metadata": {}
        },
        {
          "output_type": "execute_result",
          "data": {
            "text/plain": []
          },
          "metadata": {},
          "execution_count": 2
        }
      ]
    },
    {
      "cell_type": "markdown",
      "source": [
        "**Image Editor with Fixed Canvas**"
      ],
      "metadata": {
        "id": "pvA6euUfJXZR"
      }
    },
    {
      "cell_type": "code",
      "source": [
        "import gradio as gr\n",
        "\n",
        "def predict(im):\n",
        "    return im[\"composite\"]\n",
        "\n",
        "with gr.Blocks() as demo:\n",
        "    im_editor = gr.ImageEditor(type=\"pil\", canvas_size=(512, 512), fixed_canvas=True)\n",
        "    im_preview = gr.Image(type=\"pil\")\n",
        "    im_editor.change(predict, outputs=im_preview, inputs=im_editor)\n",
        "\n",
        "demo.launch()"
      ],
      "metadata": {
        "colab": {
          "base_uri": "https://localhost:8080/",
          "height": 646
        },
        "id": "VhDJ-L1TJbra",
        "outputId": "f5e6bdfe-d42a-47b2-ec62-10bcf1bc5cd2"
      },
      "execution_count": 3,
      "outputs": [
        {
          "output_type": "stream",
          "name": "stdout",
          "text": [
            "It looks like you are running Gradio on a hosted Jupyter notebook, which requires `share=True`. Automatically setting `share=True` (you can turn this off by setting `share=False` in `launch()` explicitly).\n",
            "\n",
            "Colab notebook detected. To show errors in colab notebook, set debug=True in launch()\n",
            "* Running on public URL: https://546037ea0ed299756b.gradio.live\n",
            "\n",
            "This share link expires in 1 week. For free permanent hosting and GPU upgrades, run `gradio deploy` from the terminal in the working directory to deploy to Hugging Face Spaces (https://huggingface.co/spaces)\n"
          ]
        },
        {
          "output_type": "display_data",
          "data": {
            "text/plain": [
              "<IPython.core.display.HTML object>"
            ],
            "text/html": [
              "<div><iframe src=\"https://546037ea0ed299756b.gradio.live\" width=\"100%\" height=\"500\" allow=\"autoplay; camera; microphone; clipboard-read; clipboard-write;\" frameborder=\"0\" allowfullscreen></iframe></div>"
            ]
          },
          "metadata": {}
        },
        {
          "output_type": "execute_result",
          "data": {
            "text/plain": []
          },
          "metadata": {},
          "execution_count": 3
        }
      ]
    },
    {
      "cell_type": "markdown",
      "source": [
        "**Multiple Image Editors with Individual Previews**"
      ],
      "metadata": {
        "id": "WEhw9x5yJek5"
      }
    },
    {
      "cell_type": "code",
      "source": [
        "import gradio as gr\n",
        "\n",
        "def predict(im):\n",
        "    return im[\"composite\"]\n",
        "\n",
        "with gr.Blocks() as demo:\n",
        "    im_editor1 = gr.ImageEditor(type=\"pil\", label=\"Image Editor 1\")\n",
        "    im_editor2 = gr.ImageEditor(type=\"pil\", label=\"Image Editor 2\")\n",
        "    im_editor3 = gr.ImageEditor(type=\"pil\", label=\"Image Editor 3\")\n",
        "\n",
        "    im_preview1 = gr.Image(type=\"pil\", label=\"Preview 1\")\n",
        "    im_preview2 = gr.Image(type=\"pil\", label=\"Preview 2\")\n",
        "    im_preview3 = gr.Image(type=\"pil\", label=\"Preview 3\")\n",
        "\n",
        "    im_editor1.change(predict, outputs=im_preview1, inputs=im_editor1)\n",
        "    im_editor2.change(predict, outputs=im_preview2, inputs=im_editor2)\n",
        "    im_editor3.change(predict, outputs=im_preview3, inputs=im_editor3)\n",
        "\n",
        "demo.launch()"
      ],
      "metadata": {
        "colab": {
          "base_uri": "https://localhost:8080/",
          "height": 646
        },
        "id": "vp0RvfabJMNm",
        "outputId": "ec93dd49-5d7a-47ed-f027-a0074874f567"
      },
      "execution_count": 4,
      "outputs": [
        {
          "output_type": "stream",
          "name": "stdout",
          "text": [
            "It looks like you are running Gradio on a hosted Jupyter notebook, which requires `share=True`. Automatically setting `share=True` (you can turn this off by setting `share=False` in `launch()` explicitly).\n",
            "\n",
            "Colab notebook detected. To show errors in colab notebook, set debug=True in launch()\n",
            "* Running on public URL: https://d37a7de038cc98ce6a.gradio.live\n",
            "\n",
            "This share link expires in 1 week. For free permanent hosting and GPU upgrades, run `gradio deploy` from the terminal in the working directory to deploy to Hugging Face Spaces (https://huggingface.co/spaces)\n"
          ]
        },
        {
          "output_type": "display_data",
          "data": {
            "text/plain": [
              "<IPython.core.display.HTML object>"
            ],
            "text/html": [
              "<div><iframe src=\"https://d37a7de038cc98ce6a.gradio.live\" width=\"100%\" height=\"500\" allow=\"autoplay; camera; microphone; clipboard-read; clipboard-write;\" frameborder=\"0\" allowfullscreen></iframe></div>"
            ]
          },
          "metadata": {}
        },
        {
          "output_type": "execute_result",
          "data": {
            "text/plain": []
          },
          "metadata": {},
          "execution_count": 4
        }
      ]
    },
    {
      "cell_type": "code",
      "source": [],
      "metadata": {
        "id": "L4rb6ij4Jg8Y"
      },
      "execution_count": null,
      "outputs": []
    }
  ]
}