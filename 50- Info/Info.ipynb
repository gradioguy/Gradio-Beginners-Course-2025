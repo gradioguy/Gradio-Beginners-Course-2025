{
  "nbformat": 4,
  "nbformat_minor": 0,
  "metadata": {
    "colab": {
      "provenance": []
    },
    "kernelspec": {
      "name": "python3",
      "display_name": "Python 3"
    },
    "language_info": {
      "name": "python"
    }
  },
  "cells": [
    {
      "cell_type": "markdown",
      "source": [
        "**Basic Info Message**"
      ],
      "metadata": {
        "id": "Ycm3l2N_iW2y"
      }
    },
    {
      "cell_type": "code",
      "execution_count": 1,
      "metadata": {
        "colab": {
          "base_uri": "https://localhost:8080/",
          "height": 646
        },
        "id": "3asNN2-2iUQH",
        "outputId": "487095dd-646f-47fb-cf60-9aa6ca15ee49"
      },
      "outputs": [
        {
          "output_type": "stream",
          "name": "stdout",
          "text": [
            "It looks like you are running Gradio on a hosted Jupyter notebook, which requires `share=True`. Automatically setting `share=True` (you can turn this off by setting `share=False` in `launch()` explicitly).\n",
            "\n",
            "Colab notebook detected. To show errors in colab notebook, set debug=True in launch()\n",
            "* Running on public URL: https://b9317076e5c3e7bbea.gradio.live\n",
            "\n",
            "This share link expires in 1 week. For free permanent hosting and GPU upgrades, run `gradio deploy` from the terminal in the working directory to deploy to Hugging Face Spaces (https://huggingface.co/spaces)\n"
          ]
        },
        {
          "output_type": "display_data",
          "data": {
            "text/plain": [
              "<IPython.core.display.HTML object>"
            ],
            "text/html": [
              "<div><iframe src=\"https://b9317076e5c3e7bbea.gradio.live\" width=\"100%\" height=\"500\" allow=\"autoplay; camera; microphone; clipboard-read; clipboard-write;\" frameborder=\"0\" allowfullscreen></iframe></div>"
            ]
          },
          "metadata": {}
        },
        {
          "output_type": "execute_result",
          "data": {
            "text/plain": []
          },
          "metadata": {},
          "execution_count": 1
        }
      ],
      "source": [
        "import gradio as gr\n",
        "\n",
        "def show_info():\n",
        "    gr.Info(\"This is a basic info message.\")\n",
        "    return \"Message Shown\"\n",
        "\n",
        "with gr.Blocks() as demo:\n",
        "    gr.Markdown(\"Click the button to show an info message.\")\n",
        "    btn = gr.Button(\"Show Info\")\n",
        "    btn.click(show_info, None, None)\n",
        "\n",
        "demo.queue().launch()"
      ]
    },
    {
      "cell_type": "markdown",
      "source": [
        "**Info Message with Custom Duration**"
      ],
      "metadata": {
        "id": "BwlMa2RiidmC"
      }
    },
    {
      "cell_type": "code",
      "source": [
        "import gradio as gr\n",
        "\n",
        "def show_info():\n",
        "    gr.Info(\"This message will disappear in 10 seconds.\", duration=10)\n",
        "    return \"Check the info modal!\"\n",
        "\n",
        "with gr.Blocks() as demo:\n",
        "    gr.Markdown(\"Click the button to see a timed info message.\")\n",
        "    btn = gr.Button(\"Show Timed Info\")\n",
        "    output = gr.Textbox(label=\"Output\")\n",
        "    btn.click(fn=show_info, inputs=None, outputs=output)\n",
        "\n",
        "demo.queue().launch()"
      ],
      "metadata": {
        "colab": {
          "base_uri": "https://localhost:8080/",
          "height": 646
        },
        "id": "EbbSh0XGiZ1-",
        "outputId": "6609f207-d122-4e1c-feb4-27c4c40494b2"
      },
      "execution_count": 2,
      "outputs": [
        {
          "output_type": "stream",
          "name": "stdout",
          "text": [
            "It looks like you are running Gradio on a hosted Jupyter notebook, which requires `share=True`. Automatically setting `share=True` (you can turn this off by setting `share=False` in `launch()` explicitly).\n",
            "\n",
            "Colab notebook detected. To show errors in colab notebook, set debug=True in launch()\n",
            "* Running on public URL: https://fd106f51eb742bed08.gradio.live\n",
            "\n",
            "This share link expires in 1 week. For free permanent hosting and GPU upgrades, run `gradio deploy` from the terminal in the working directory to deploy to Hugging Face Spaces (https://huggingface.co/spaces)\n"
          ]
        },
        {
          "output_type": "display_data",
          "data": {
            "text/plain": [
              "<IPython.core.display.HTML object>"
            ],
            "text/html": [
              "<div><iframe src=\"https://fd106f51eb742bed08.gradio.live\" width=\"100%\" height=\"500\" allow=\"autoplay; camera; microphone; clipboard-read; clipboard-write;\" frameborder=\"0\" allowfullscreen></iframe></div>"
            ]
          },
          "metadata": {}
        },
        {
          "output_type": "execute_result",
          "data": {
            "text/plain": []
          },
          "metadata": {},
          "execution_count": 2
        }
      ]
    },
    {
      "cell_type": "markdown",
      "source": [
        "**Info Message with Custom Title**"
      ],
      "metadata": {
        "id": "oy2yIW9RihQ1"
      }
    },
    {
      "cell_type": "code",
      "source": [
        "import gradio as gr\n",
        "\n",
        "def show_info():\n",
        "    gr.Info(\"This message has a custom title.\", title=\"Custom Title\")\n",
        "    return \"Check the info modal!\"\n",
        "\n",
        "with gr.Blocks() as demo:\n",
        "    gr.Markdown(\"Click the button to see an info message with a custom title.\")\n",
        "    btn = gr.Button(\"Show Custom Title Info\")\n",
        "    output = gr.Textbox(label=\"Output\")\n",
        "    btn.click(fn=show_info, inputs=None, outputs=output)\n",
        "\n",
        "demo.queue().launch()"
      ],
      "metadata": {
        "colab": {
          "base_uri": "https://localhost:8080/",
          "height": 646
        },
        "id": "WAU5uwQNiflL",
        "outputId": "829a9e23-30d2-4f75-b7d7-31d2ebb96f9c"
      },
      "execution_count": 3,
      "outputs": [
        {
          "output_type": "stream",
          "name": "stdout",
          "text": [
            "It looks like you are running Gradio on a hosted Jupyter notebook, which requires `share=True`. Automatically setting `share=True` (you can turn this off by setting `share=False` in `launch()` explicitly).\n",
            "\n",
            "Colab notebook detected. To show errors in colab notebook, set debug=True in launch()\n",
            "* Running on public URL: https://fb013f2a688ca0623d.gradio.live\n",
            "\n",
            "This share link expires in 1 week. For free permanent hosting and GPU upgrades, run `gradio deploy` from the terminal in the working directory to deploy to Hugging Face Spaces (https://huggingface.co/spaces)\n"
          ]
        },
        {
          "output_type": "display_data",
          "data": {
            "text/plain": [
              "<IPython.core.display.HTML object>"
            ],
            "text/html": [
              "<div><iframe src=\"https://fb013f2a688ca0623d.gradio.live\" width=\"100%\" height=\"500\" allow=\"autoplay; camera; microphone; clipboard-read; clipboard-write;\" frameborder=\"0\" allowfullscreen></iframe></div>"
            ]
          },
          "metadata": {}
        },
        {
          "output_type": "execute_result",
          "data": {
            "text/plain": []
          },
          "metadata": {},
          "execution_count": 3
        }
      ]
    },
    {
      "cell_type": "markdown",
      "source": [
        "**Info Message Triggered by Multiple Events**"
      ],
      "metadata": {
        "id": "v99V0ERWikW2"
      }
    },
    {
      "cell_type": "code",
      "source": [
        "import gradio as gr\n",
        "\n",
        "def info_fn():\n",
        "    gr.Info(\"This is an info message triggered by multiple events.\")\n",
        "\n",
        "with gr.Blocks() as demo:\n",
        "    gr.Markdown(\"Click either button to see an info message.\")\n",
        "    btn1 = gr.Button(\"Button 1\")\n",
        "    btn2 = gr.Button(\"Button 2\")\n",
        "    btn1.click(info_fn, None, None)\n",
        "    btn2.click(info_fn, None, None)\n",
        "\n",
        "demo.queue().launch()"
      ],
      "metadata": {
        "colab": {
          "base_uri": "https://localhost:8080/",
          "height": 646
        },
        "id": "8S5XLyddin6Y",
        "outputId": "f098b51c-1f67-4316-d87a-26b6bbde7f74"
      },
      "execution_count": 4,
      "outputs": [
        {
          "output_type": "stream",
          "name": "stdout",
          "text": [
            "It looks like you are running Gradio on a hosted Jupyter notebook, which requires `share=True`. Automatically setting `share=True` (you can turn this off by setting `share=False` in `launch()` explicitly).\n",
            "\n",
            "Colab notebook detected. To show errors in colab notebook, set debug=True in launch()\n",
            "* Running on public URL: https://a46d85e37675601cd2.gradio.live\n",
            "\n",
            "This share link expires in 1 week. For free permanent hosting and GPU upgrades, run `gradio deploy` from the terminal in the working directory to deploy to Hugging Face Spaces (https://huggingface.co/spaces)\n"
          ]
        },
        {
          "output_type": "display_data",
          "data": {
            "text/plain": [
              "<IPython.core.display.HTML object>"
            ],
            "text/html": [
              "<div><iframe src=\"https://a46d85e37675601cd2.gradio.live\" width=\"100%\" height=\"500\" allow=\"autoplay; camera; microphone; clipboard-read; clipboard-write;\" frameborder=\"0\" allowfullscreen></iframe></div>"
            ]
          },
          "metadata": {}
        },
        {
          "output_type": "execute_result",
          "data": {
            "text/plain": []
          },
          "metadata": {},
          "execution_count": 4
        }
      ]
    },
    {
      "cell_type": "markdown",
      "source": [
        "**Info Message with Dynamic Content**"
      ],
      "metadata": {
        "id": "TnLxiK35irK2"
      }
    },
    {
      "cell_type": "code",
      "source": [
        "import gradio as gr\n",
        "\n",
        "def show_info(name):\n",
        "    gr.Info(f\"Hello, {name}! Welcome to the demo.\")\n",
        "    return f\"Hello, {name}!\"\n",
        "\n",
        "with gr.Blocks() as demo:\n",
        "    gr.Markdown(\"Enter your name and click the button to see a personalized info message.\")\n",
        "    name_input = gr.Textbox(label=\"Your Name\")\n",
        "    btn = gr.Button(\"Show Personalized Info\")\n",
        "    output = gr.Textbox(label=\"Output\")\n",
        "    btn.click(fn=show_info, inputs=name_input, outputs=output)\n",
        "\n",
        "demo.queue().launch()"
      ],
      "metadata": {
        "colab": {
          "base_uri": "https://localhost:8080/",
          "height": 646
        },
        "id": "gJNR0WbTis4t",
        "outputId": "a70fb435-383a-4b3b-857a-f581691fc783"
      },
      "execution_count": 5,
      "outputs": [
        {
          "output_type": "stream",
          "name": "stdout",
          "text": [
            "It looks like you are running Gradio on a hosted Jupyter notebook, which requires `share=True`. Automatically setting `share=True` (you can turn this off by setting `share=False` in `launch()` explicitly).\n",
            "\n",
            "Colab notebook detected. To show errors in colab notebook, set debug=True in launch()\n",
            "* Running on public URL: https://dceaf7d35598f92b46.gradio.live\n",
            "\n",
            "This share link expires in 1 week. For free permanent hosting and GPU upgrades, run `gradio deploy` from the terminal in the working directory to deploy to Hugging Face Spaces (https://huggingface.co/spaces)\n"
          ]
        },
        {
          "output_type": "display_data",
          "data": {
            "text/plain": [
              "<IPython.core.display.HTML object>"
            ],
            "text/html": [
              "<div><iframe src=\"https://dceaf7d35598f92b46.gradio.live\" width=\"100%\" height=\"500\" allow=\"autoplay; camera; microphone; clipboard-read; clipboard-write;\" frameborder=\"0\" allowfullscreen></iframe></div>"
            ]
          },
          "metadata": {}
        },
        {
          "output_type": "execute_result",
          "data": {
            "text/plain": []
          },
          "metadata": {},
          "execution_count": 5
        }
      ]
    },
    {
      "cell_type": "markdown",
      "source": [
        "**Chained Events with Info Message**"
      ],
      "metadata": {
        "id": "IOXY7lTyiuY3"
      }
    },
    {
      "cell_type": "code",
      "source": [
        "import gradio as gr\n",
        "\n",
        "def first_event():\n",
        "    gr.Info(\"First event triggered.\")\n",
        "    return \"First event triggered\"\n",
        "\n",
        "def second_event():\n",
        "    gr.Info(\"Second event triggered.\")\n",
        "    return \"Second event triggered\"\n",
        "\n",
        "with gr.Blocks() as demo:\n",
        "    gr.Markdown(\"Click the button to trigger two events with info messages.\")\n",
        "    btn = gr.Button(\"Trigger Events\")\n",
        "    output1 = gr.Textbox(label=\"Output 1\")\n",
        "    output2 = gr.Textbox(label=\"Output 2\")\n",
        "    btn.click(fn=first_event, inputs=None, outputs=output1).then(fn=second_event, inputs=None, outputs=output2)\n",
        "\n",
        "demo.queue().launch()"
      ],
      "metadata": {
        "colab": {
          "base_uri": "https://localhost:8080/",
          "height": 646
        },
        "id": "A4ggc6Jmivth",
        "outputId": "2c01c530-2135-44b3-e851-fd567d1379b3"
      },
      "execution_count": 6,
      "outputs": [
        {
          "output_type": "stream",
          "name": "stdout",
          "text": [
            "It looks like you are running Gradio on a hosted Jupyter notebook, which requires `share=True`. Automatically setting `share=True` (you can turn this off by setting `share=False` in `launch()` explicitly).\n",
            "\n",
            "Colab notebook detected. To show errors in colab notebook, set debug=True in launch()\n",
            "* Running on public URL: https://86d11a5f930bb1474f.gradio.live\n",
            "\n",
            "This share link expires in 1 week. For free permanent hosting and GPU upgrades, run `gradio deploy` from the terminal in the working directory to deploy to Hugging Face Spaces (https://huggingface.co/spaces)\n"
          ]
        },
        {
          "output_type": "display_data",
          "data": {
            "text/plain": [
              "<IPython.core.display.HTML object>"
            ],
            "text/html": [
              "<div><iframe src=\"https://86d11a5f930bb1474f.gradio.live\" width=\"100%\" height=\"500\" allow=\"autoplay; camera; microphone; clipboard-read; clipboard-write;\" frameborder=\"0\" allowfullscreen></iframe></div>"
            ]
          },
          "metadata": {}
        },
        {
          "output_type": "execute_result",
          "data": {
            "text/plain": []
          },
          "metadata": {},
          "execution_count": 6
        }
      ]
    },
    {
      "cell_type": "markdown",
      "source": [
        "**Info Message with Conditional Logic**"
      ],
      "metadata": {
        "id": "WMmTb9_yixXx"
      }
    },
    {
      "cell_type": "code",
      "source": [
        "import gradio as gr\n",
        "\n",
        "def check_number(num):\n",
        "    if num > 10:\n",
        "        gr.Info(\"Number is greater than 10.\")\n",
        "    else:\n",
        "        gr.Info(\"Number is less than or equal to 10.\")\n",
        "    return f\"You entered: {num}\"\n",
        "\n",
        "with gr.Blocks() as demo:\n",
        "    gr.Markdown(\"Enter a number and click the button to see an info message based on the condition.\")\n",
        "    num_input = gr.Number(label=\"Enter Number\")\n",
        "    btn = gr.Button(\"Check Number\")\n",
        "    output = gr.Textbox(label=\"Output\")\n",
        "    btn.click(fn=check_number, inputs=num_input, outputs=output)\n",
        "\n",
        "demo.queue().launch()"
      ],
      "metadata": {
        "colab": {
          "base_uri": "https://localhost:8080/",
          "height": 646
        },
        "id": "6YSlNoQ4izNq",
        "outputId": "52a7cba9-a42e-4bf7-db28-36f75d4be844"
      },
      "execution_count": 7,
      "outputs": [
        {
          "output_type": "stream",
          "name": "stdout",
          "text": [
            "It looks like you are running Gradio on a hosted Jupyter notebook, which requires `share=True`. Automatically setting `share=True` (you can turn this off by setting `share=False` in `launch()` explicitly).\n",
            "\n",
            "Colab notebook detected. To show errors in colab notebook, set debug=True in launch()\n",
            "* Running on public URL: https://15b49f5a1287aa7a15.gradio.live\n",
            "\n",
            "This share link expires in 1 week. For free permanent hosting and GPU upgrades, run `gradio deploy` from the terminal in the working directory to deploy to Hugging Face Spaces (https://huggingface.co/spaces)\n"
          ]
        },
        {
          "output_type": "display_data",
          "data": {
            "text/plain": [
              "<IPython.core.display.HTML object>"
            ],
            "text/html": [
              "<div><iframe src=\"https://15b49f5a1287aa7a15.gradio.live\" width=\"100%\" height=\"500\" allow=\"autoplay; camera; microphone; clipboard-read; clipboard-write;\" frameborder=\"0\" allowfullscreen></iframe></div>"
            ]
          },
          "metadata": {}
        },
        {
          "output_type": "execute_result",
          "data": {
            "text/plain": []
          },
          "metadata": {},
          "execution_count": 7
        }
      ]
    },
    {
      "cell_type": "markdown",
      "source": [
        "**Info Message with Multiple Outputs**"
      ],
      "metadata": {
        "id": "jvhg9UQNi0zF"
      }
    },
    {
      "cell_type": "code",
      "source": [
        "import gradio as gr\n",
        "\n",
        "def process_data(data):\n",
        "    gr.Info(\"Data processing complete.\")\n",
        "    return data.upper(), data.lower()\n",
        "\n",
        "with gr.Blocks() as demo:\n",
        "    gr.Markdown(\"Enter some text and click the button to see an info message and processed outputs.\")\n",
        "    text_input = gr.Textbox(label=\"Enter Text\")\n",
        "    btn = gr.Button(\"Process Data\")\n",
        "    output1 = gr.Textbox(label=\"Uppercase\")\n",
        "    output2 = gr.Textbox(label=\"Lowercase\")\n",
        "    btn.click(fn=process_data, inputs=text_input, outputs=[output1, output2])\n",
        "\n",
        "demo.queue().launch()"
      ],
      "metadata": {
        "colab": {
          "base_uri": "https://localhost:8080/",
          "height": 646
        },
        "id": "9AdoMk0_i27Q",
        "outputId": "f11c04e5-0903-4caa-9491-1f14b0136fab"
      },
      "execution_count": 8,
      "outputs": [
        {
          "output_type": "stream",
          "name": "stdout",
          "text": [
            "It looks like you are running Gradio on a hosted Jupyter notebook, which requires `share=True`. Automatically setting `share=True` (you can turn this off by setting `share=False` in `launch()` explicitly).\n",
            "\n",
            "Colab notebook detected. To show errors in colab notebook, set debug=True in launch()\n",
            "* Running on public URL: https://9f18078ae5e5d2e32d.gradio.live\n",
            "\n",
            "This share link expires in 1 week. For free permanent hosting and GPU upgrades, run `gradio deploy` from the terminal in the working directory to deploy to Hugging Face Spaces (https://huggingface.co/spaces)\n"
          ]
        },
        {
          "output_type": "display_data",
          "data": {
            "text/plain": [
              "<IPython.core.display.HTML object>"
            ],
            "text/html": [
              "<div><iframe src=\"https://9f18078ae5e5d2e32d.gradio.live\" width=\"100%\" height=\"500\" allow=\"autoplay; camera; microphone; clipboard-read; clipboard-write;\" frameborder=\"0\" allowfullscreen></iframe></div>"
            ]
          },
          "metadata": {}
        },
        {
          "output_type": "execute_result",
          "data": {
            "text/plain": []
          },
          "metadata": {},
          "execution_count": 8
        }
      ]
    },
    {
      "cell_type": "code",
      "source": [],
      "metadata": {
        "id": "n1oFqbiri-oh"
      },
      "execution_count": 8,
      "outputs": []
    }
  ]
}