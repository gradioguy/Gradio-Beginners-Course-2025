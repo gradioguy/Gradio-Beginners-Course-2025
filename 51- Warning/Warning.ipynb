{
  "nbformat": 4,
  "nbformat_minor": 0,
  "metadata": {
    "colab": {
      "provenance": []
    },
    "kernelspec": {
      "name": "python3",
      "display_name": "Python 3"
    },
    "language_info": {
      "name": "python"
    }
  },
  "cells": [
    {
      "cell_type": "markdown",
      "source": [
        "**Basic Warning**"
      ],
      "metadata": {
        "id": "r2E1WEwnjUGA"
      }
    },
    {
      "cell_type": "code",
      "execution_count": 1,
      "metadata": {
        "colab": {
          "base_uri": "https://localhost:8080/",
          "height": 646
        },
        "id": "BuG0aHrnjPXS",
        "outputId": "812c8f01-1f18-4b19-9865-b04b33e2a7a0"
      },
      "outputs": [
        {
          "output_type": "stream",
          "name": "stdout",
          "text": [
            "It looks like you are running Gradio on a hosted Jupyter notebook, which requires `share=True`. Automatically setting `share=True` (you can turn this off by setting `share=False` in `launch()` explicitly).\n",
            "\n",
            "Colab notebook detected. To show errors in colab notebook, set debug=True in launch()\n",
            "* Running on public URL: https://3ecef2f3466cb26247.gradio.live\n",
            "\n",
            "This share link expires in 1 week. For free permanent hosting and GPU upgrades, run `gradio deploy` from the terminal in the working directory to deploy to Hugging Face Spaces (https://huggingface.co/spaces)\n"
          ]
        },
        {
          "output_type": "display_data",
          "data": {
            "text/plain": [
              "<IPython.core.display.HTML object>"
            ],
            "text/html": [
              "<div><iframe src=\"https://3ecef2f3466cb26247.gradio.live\" width=\"100%\" height=\"500\" allow=\"autoplay; camera; microphone; clipboard-read; clipboard-write;\" frameborder=\"0\" allowfullscreen></iframe></div>"
            ]
          },
          "metadata": {}
        },
        {
          "output_type": "execute_result",
          "data": {
            "text/plain": []
          },
          "metadata": {},
          "execution_count": 1
        }
      ],
      "source": [
        "import gradio as gr\n",
        "\n",
        "def show_warning():\n",
        "    gr.Warning(\"This is a basic warning ⛔️!\", duration=5)\n",
        "    return \"Warning shown!\"\n",
        "\n",
        "with gr.Blocks() as demo:\n",
        "    btn = gr.Button(\"Show Warning\")\n",
        "    output = gr.Textbox()\n",
        "    btn.click(show_warning, inputs=None, outputs=output)\n",
        "\n",
        "demo.queue().launch()"
      ]
    },
    {
      "cell_type": "markdown",
      "source": [
        "**Warning with Custom Title**"
      ],
      "metadata": {
        "id": "QWtYfyEJjX11"
      }
    },
    {
      "cell_type": "code",
      "source": [
        "import gradio as gr\n",
        "\n",
        "def custom_title_warning():\n",
        "    gr.Warning(\"This is a warning with a custom title ⛔️!\", title=\"Attention!\", duration=5)\n",
        "    return \"Custom title warning shown!\"\n",
        "\n",
        "with gr.Blocks() as demo:\n",
        "    btn = gr.Button(\"Show Custom Title Warning\")\n",
        "    output = gr.Textbox()\n",
        "    btn.click(custom_title_warning, inputs=None, outputs=output)\n",
        "\n",
        "demo.queue().launch()"
      ],
      "metadata": {
        "colab": {
          "base_uri": "https://localhost:8080/",
          "height": 646
        },
        "id": "aVvs6apNjZYW",
        "outputId": "a351a0e1-d788-4bac-c2d5-1bf78290f957"
      },
      "execution_count": 2,
      "outputs": [
        {
          "output_type": "stream",
          "name": "stdout",
          "text": [
            "It looks like you are running Gradio on a hosted Jupyter notebook, which requires `share=True`. Automatically setting `share=True` (you can turn this off by setting `share=False` in `launch()` explicitly).\n",
            "\n",
            "Colab notebook detected. To show errors in colab notebook, set debug=True in launch()\n",
            "* Running on public URL: https://83a6400dff999fbef1.gradio.live\n",
            "\n",
            "This share link expires in 1 week. For free permanent hosting and GPU upgrades, run `gradio deploy` from the terminal in the working directory to deploy to Hugging Face Spaces (https://huggingface.co/spaces)\n"
          ]
        },
        {
          "output_type": "display_data",
          "data": {
            "text/plain": [
              "<IPython.core.display.HTML object>"
            ],
            "text/html": [
              "<div><iframe src=\"https://83a6400dff999fbef1.gradio.live\" width=\"100%\" height=\"500\" allow=\"autoplay; camera; microphone; clipboard-read; clipboard-write;\" frameborder=\"0\" allowfullscreen></iframe></div>"
            ]
          },
          "metadata": {}
        },
        {
          "output_type": "execute_result",
          "data": {
            "text/plain": []
          },
          "metadata": {},
          "execution_count": 2
        }
      ]
    },
    {
      "cell_type": "markdown",
      "source": [
        "**Warning with Long Duration**"
      ],
      "metadata": {
        "id": "_2hRKtR1jdwJ"
      }
    },
    {
      "cell_type": "code",
      "source": [
        "import gradio as gr\n",
        "\n",
        "def long_duration_warning():\n",
        "    gr.Warning(\"This warning will stay for 10 seconds ⛔️!\", duration=10)\n",
        "    return \"Long duration warning shown!\"\n",
        "\n",
        "with gr.Blocks() as demo:\n",
        "    btn = gr.Button(\"Show Long Duration Warning\")\n",
        "    output = gr.Textbox()\n",
        "    btn.click(long_duration_warning, inputs=None, outputs=output)\n",
        "\n",
        "demo.queue().launch()"
      ],
      "metadata": {
        "colab": {
          "base_uri": "https://localhost:8080/",
          "height": 646
        },
        "id": "HLlwfqvrjfRe",
        "outputId": "7cd2f50b-4bb0-4cbd-a289-2de6a55d69f5"
      },
      "execution_count": 3,
      "outputs": [
        {
          "output_type": "stream",
          "name": "stdout",
          "text": [
            "It looks like you are running Gradio on a hosted Jupyter notebook, which requires `share=True`. Automatically setting `share=True` (you can turn this off by setting `share=False` in `launch()` explicitly).\n",
            "\n",
            "Colab notebook detected. To show errors in colab notebook, set debug=True in launch()\n",
            "* Running on public URL: https://a665c2d7567e430045.gradio.live\n",
            "\n",
            "This share link expires in 1 week. For free permanent hosting and GPU upgrades, run `gradio deploy` from the terminal in the working directory to deploy to Hugging Face Spaces (https://huggingface.co/spaces)\n"
          ]
        },
        {
          "output_type": "display_data",
          "data": {
            "text/plain": [
              "<IPython.core.display.HTML object>"
            ],
            "text/html": [
              "<div><iframe src=\"https://a665c2d7567e430045.gradio.live\" width=\"100%\" height=\"500\" allow=\"autoplay; camera; microphone; clipboard-read; clipboard-write;\" frameborder=\"0\" allowfullscreen></iframe></div>"
            ]
          },
          "metadata": {}
        },
        {
          "output_type": "execute_result",
          "data": {
            "text/plain": []
          },
          "metadata": {},
          "execution_count": 3
        }
      ]
    },
    {
      "cell_type": "markdown",
      "source": [
        "**Warning with Permanent Display**"
      ],
      "metadata": {
        "id": "pT4GSNi6jg4w"
      }
    },
    {
      "cell_type": "code",
      "source": [
        "import gradio as gr\n",
        "\n",
        "def permanent_warning():\n",
        "    gr.Warning(\"This warning will stay until dismissed ⛔️!\", duration=None)\n",
        "    return \"Permanent warning shown!\"\n",
        "\n",
        "with gr.Blocks() as demo:\n",
        "    btn = gr.Button(\"Show Permanent Warning\")\n",
        "    output = gr.Textbox()\n",
        "    btn.click(permanent_warning, inputs=None, outputs=output)\n",
        "\n",
        "demo.queue().launch()"
      ],
      "metadata": {
        "colab": {
          "base_uri": "https://localhost:8080/",
          "height": 646
        },
        "id": "A0cgtYR4jiPh",
        "outputId": "57a109b7-1df3-40dd-d9d5-58748a5d77ba"
      },
      "execution_count": 4,
      "outputs": [
        {
          "output_type": "stream",
          "name": "stdout",
          "text": [
            "It looks like you are running Gradio on a hosted Jupyter notebook, which requires `share=True`. Automatically setting `share=True` (you can turn this off by setting `share=False` in `launch()` explicitly).\n",
            "\n",
            "Colab notebook detected. To show errors in colab notebook, set debug=True in launch()\n",
            "* Running on public URL: https://03c7661b488ae70bbd.gradio.live\n",
            "\n",
            "This share link expires in 1 week. For free permanent hosting and GPU upgrades, run `gradio deploy` from the terminal in the working directory to deploy to Hugging Face Spaces (https://huggingface.co/spaces)\n"
          ]
        },
        {
          "output_type": "display_data",
          "data": {
            "text/plain": [
              "<IPython.core.display.HTML object>"
            ],
            "text/html": [
              "<div><iframe src=\"https://03c7661b488ae70bbd.gradio.live\" width=\"100%\" height=\"500\" allow=\"autoplay; camera; microphone; clipboard-read; clipboard-write;\" frameborder=\"0\" allowfullscreen></iframe></div>"
            ]
          },
          "metadata": {}
        },
        {
          "output_type": "execute_result",
          "data": {
            "text/plain": []
          },
          "metadata": {},
          "execution_count": 4
        }
      ]
    },
    {
      "cell_type": "markdown",
      "source": [
        "**Warning Triggered by Input Validation**"
      ],
      "metadata": {
        "id": "JjmMwlL2jj4G"
      }
    },
    {
      "cell_type": "code",
      "source": [
        "import gradio as gr\n",
        "\n",
        "def validate_input(text):\n",
        "    if len(text) < 5:\n",
        "        gr.Warning(\"Input must be at least 5 characters long ⛔️!\", duration=5)\n",
        "        return \"Invalid input\"\n",
        "    return \"Valid input\"\n",
        "\n",
        "with gr.Blocks() as demo:\n",
        "    input_text = gr.Textbox(label=\"Enter text\")\n",
        "    btn = gr.Button(\"Validate Input\")\n",
        "    output = gr.Textbox()\n",
        "    btn.click(validate_input, inputs=input_text, outputs=output)\n",
        "\n",
        "demo.queue().launch()"
      ],
      "metadata": {
        "colab": {
          "base_uri": "https://localhost:8080/",
          "height": 646
        },
        "id": "WSNM2KDdjlHe",
        "outputId": "eb6a3834-2a1a-47bd-b827-8e35d90e0293"
      },
      "execution_count": 5,
      "outputs": [
        {
          "output_type": "stream",
          "name": "stdout",
          "text": [
            "It looks like you are running Gradio on a hosted Jupyter notebook, which requires `share=True`. Automatically setting `share=True` (you can turn this off by setting `share=False` in `launch()` explicitly).\n",
            "\n",
            "Colab notebook detected. To show errors in colab notebook, set debug=True in launch()\n",
            "* Running on public URL: https://0e319be4fbea2d547b.gradio.live\n",
            "\n",
            "This share link expires in 1 week. For free permanent hosting and GPU upgrades, run `gradio deploy` from the terminal in the working directory to deploy to Hugging Face Spaces (https://huggingface.co/spaces)\n"
          ]
        },
        {
          "output_type": "display_data",
          "data": {
            "text/plain": [
              "<IPython.core.display.HTML object>"
            ],
            "text/html": [
              "<div><iframe src=\"https://0e319be4fbea2d547b.gradio.live\" width=\"100%\" height=\"500\" allow=\"autoplay; camera; microphone; clipboard-read; clipboard-write;\" frameborder=\"0\" allowfullscreen></iframe></div>"
            ]
          },
          "metadata": {}
        },
        {
          "output_type": "execute_result",
          "data": {
            "text/plain": []
          },
          "metadata": {},
          "execution_count": 5
        }
      ]
    },
    {
      "cell_type": "markdown",
      "source": [
        "**Warning Triggered by Button Click**"
      ],
      "metadata": {
        "id": "mSpMAPzDjnGT"
      }
    },
    {
      "cell_type": "code",
      "source": [
        "import gradio as gr\n",
        "\n",
        "def show_warning_on_click():\n",
        "    gr.Warning(\"Button was clicked ⛔️!\", duration=5)\n",
        "    return \"Button clicked!\"\n",
        "\n",
        "with gr.Blocks() as demo:\n",
        "    btn = gr.Button(\"Click Me\")\n",
        "    output = gr.Textbox()\n",
        "    btn.click(show_warning_on_click, inputs=None, outputs=output)\n",
        "\n",
        "demo.queue().launch()"
      ],
      "metadata": {
        "colab": {
          "base_uri": "https://localhost:8080/",
          "height": 646
        },
        "id": "erzTYObzjolv",
        "outputId": "0ba95a34-2b84-4fb1-dd41-9685f57d7174"
      },
      "execution_count": 6,
      "outputs": [
        {
          "output_type": "stream",
          "name": "stdout",
          "text": [
            "It looks like you are running Gradio on a hosted Jupyter notebook, which requires `share=True`. Automatically setting `share=True` (you can turn this off by setting `share=False` in `launch()` explicitly).\n",
            "\n",
            "Colab notebook detected. To show errors in colab notebook, set debug=True in launch()\n",
            "* Running on public URL: https://40fa0ef72ef86b63da.gradio.live\n",
            "\n",
            "This share link expires in 1 week. For free permanent hosting and GPU upgrades, run `gradio deploy` from the terminal in the working directory to deploy to Hugging Face Spaces (https://huggingface.co/spaces)\n"
          ]
        },
        {
          "output_type": "display_data",
          "data": {
            "text/plain": [
              "<IPython.core.display.HTML object>"
            ],
            "text/html": [
              "<div><iframe src=\"https://40fa0ef72ef86b63da.gradio.live\" width=\"100%\" height=\"500\" allow=\"autoplay; camera; microphone; clipboard-read; clipboard-write;\" frameborder=\"0\" allowfullscreen></iframe></div>"
            ]
          },
          "metadata": {}
        },
        {
          "output_type": "execute_result",
          "data": {
            "text/plain": []
          },
          "metadata": {},
          "execution_count": 6
        }
      ]
    },
    {
      "cell_type": "markdown",
      "source": [
        "**Warning with Conditional Display**"
      ],
      "metadata": {
        "id": "EfoHK4LCjqrl"
      }
    },
    {
      "cell_type": "code",
      "source": [
        "import gradio as gr\n",
        "\n",
        "def conditional_warning(condition):\n",
        "    if condition:\n",
        "        gr.Warning(\"Condition met ⛔️!\", duration=5)\n",
        "        return \"Condition met\"\n",
        "    return \"Condition not met\"\n",
        "\n",
        "with gr.Blocks() as demo:\n",
        "    checkbox = gr.Checkbox(label=\"Check to trigger warning\")\n",
        "    btn = gr.Button(\"Check Condition\")\n",
        "    output = gr.Textbox()\n",
        "    btn.click(conditional_warning, inputs=checkbox, outputs=output)\n",
        "\n",
        "demo.queue().launch()"
      ],
      "metadata": {
        "colab": {
          "base_uri": "https://localhost:8080/",
          "height": 646
        },
        "id": "yzdURV4gjsIO",
        "outputId": "993f8a54-6e0e-44e5-c62c-2371d9aa9a3c"
      },
      "execution_count": 7,
      "outputs": [
        {
          "output_type": "stream",
          "name": "stdout",
          "text": [
            "It looks like you are running Gradio on a hosted Jupyter notebook, which requires `share=True`. Automatically setting `share=True` (you can turn this off by setting `share=False` in `launch()` explicitly).\n",
            "\n",
            "Colab notebook detected. To show errors in colab notebook, set debug=True in launch()\n",
            "* Running on public URL: https://1fa8db18d1dcd548b8.gradio.live\n",
            "\n",
            "This share link expires in 1 week. For free permanent hosting and GPU upgrades, run `gradio deploy` from the terminal in the working directory to deploy to Hugging Face Spaces (https://huggingface.co/spaces)\n"
          ]
        },
        {
          "output_type": "display_data",
          "data": {
            "text/plain": [
              "<IPython.core.display.HTML object>"
            ],
            "text/html": [
              "<div><iframe src=\"https://1fa8db18d1dcd548b8.gradio.live\" width=\"100%\" height=\"500\" allow=\"autoplay; camera; microphone; clipboard-read; clipboard-write;\" frameborder=\"0\" allowfullscreen></iframe></div>"
            ]
          },
          "metadata": {}
        },
        {
          "output_type": "execute_result",
          "data": {
            "text/plain": []
          },
          "metadata": {},
          "execution_count": 7
        }
      ]
    },
    {
      "cell_type": "code",
      "source": [],
      "metadata": {
        "id": "BlR0O8iSjv0e"
      },
      "execution_count": 7,
      "outputs": []
    }
  ]
}