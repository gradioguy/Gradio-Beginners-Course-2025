{
  "nbformat": 4,
  "nbformat_minor": 0,
  "metadata": {
    "colab": {
      "provenance": []
    },
    "kernelspec": {
      "name": "python3",
      "display_name": "Python 3"
    },
    "language_info": {
      "name": "python"
    }
  },
  "cells": [
    {
      "cell_type": "markdown",
      "source": [
        "**Basic MultimodalTextbox**"
      ],
      "metadata": {
        "id": "pWHcLhR0VOZh"
      }
    },
    {
      "cell_type": "code",
      "execution_count": 1,
      "metadata": {
        "colab": {
          "base_uri": "https://localhost:8080/",
          "height": 646
        },
        "id": "zZl-3DPtVLGc",
        "outputId": "caa98a29-5f19-4782-82b9-35405ca49789"
      },
      "outputs": [
        {
          "output_type": "stream",
          "name": "stdout",
          "text": [
            "It looks like you are running Gradio on a hosted Jupyter notebook, which requires `share=True`. Automatically setting `share=True` (you can turn this off by setting `share=False` in `launch()` explicitly).\n",
            "\n",
            "Colab notebook detected. To show errors in colab notebook, set debug=True in launch()\n",
            "* Running on public URL: https://2f575131660ff2f46d.gradio.live\n",
            "\n",
            "This share link expires in 1 week. For free permanent hosting and GPU upgrades, run `gradio deploy` from the terminal in the working directory to deploy to Hugging Face Spaces (https://huggingface.co/spaces)\n"
          ]
        },
        {
          "output_type": "display_data",
          "data": {
            "text/plain": [
              "<IPython.core.display.HTML object>"
            ],
            "text/html": [
              "<div><iframe src=\"https://2f575131660ff2f46d.gradio.live\" width=\"100%\" height=\"500\" allow=\"autoplay; camera; microphone; clipboard-read; clipboard-write;\" frameborder=\"0\" allowfullscreen></iframe></div>"
            ]
          },
          "metadata": {}
        },
        {
          "output_type": "execute_result",
          "data": {
            "text/plain": []
          },
          "metadata": {},
          "execution_count": 1
        }
      ],
      "source": [
        "import gradio as gr\n",
        "\n",
        "def multimodal_example(value):\n",
        "    return value\n",
        "\n",
        "with gr.Blocks() as demo:\n",
        "    input_textbox = gr.MultimodalTextbox(\n",
        "        placeholder=\"Enter text or upload files...\",\n",
        "        file_count=\"multiple\",\n",
        "        sources=[\"upload\"],\n",
        "        file_types=[\"image\", \"video\"],\n",
        "        label=\"Upload or type message\"\n",
        "    )\n",
        "    output_textbox = gr.MultimodalTextbox(label=\"Output\")\n",
        "\n",
        "    input_textbox.change(multimodal_example, inputs=input_textbox, outputs=output_textbox)\n",
        "\n",
        "demo.launch()"
      ]
    },
    {
      "cell_type": "markdown",
      "source": [
        "**MultimodalTextbox with Microphone Input**"
      ],
      "metadata": {
        "id": "4jDcuj0mVSJF"
      }
    },
    {
      "cell_type": "code",
      "source": [
        "import gradio as gr\n",
        "\n",
        "def process_audio(value):\n",
        "    text = value.get(\"text\", \"\")\n",
        "    files = value.get(\"files\", [])\n",
        "    return f\"Received Text: {text}\\nReceived Audio Files: {files}\"\n",
        "\n",
        "with gr.Blocks() as demo:\n",
        "    input_box = gr.MultimodalTextbox(label=\"Enter text or record audio\", sources=[\"microphone\"], file_count=\"multiple\")\n",
        "    output_box = gr.Textbox(label=\"Processed Output\")\n",
        "    input_box.change(fn=process_audio, inputs=input_box, outputs=output_box)\n",
        "\n",
        "demo.launch()"
      ],
      "metadata": {
        "colab": {
          "base_uri": "https://localhost:8080/",
          "height": 646
        },
        "id": "J878_M3gVQxQ",
        "outputId": "f528db41-cab4-4af2-c95a-45be91c8d1ee"
      },
      "execution_count": 2,
      "outputs": [
        {
          "output_type": "stream",
          "name": "stdout",
          "text": [
            "It looks like you are running Gradio on a hosted Jupyter notebook, which requires `share=True`. Automatically setting `share=True` (you can turn this off by setting `share=False` in `launch()` explicitly).\n",
            "\n",
            "Colab notebook detected. To show errors in colab notebook, set debug=True in launch()\n",
            "* Running on public URL: https://b4c07300231aa7d80d.gradio.live\n",
            "\n",
            "This share link expires in 1 week. For free permanent hosting and GPU upgrades, run `gradio deploy` from the terminal in the working directory to deploy to Hugging Face Spaces (https://huggingface.co/spaces)\n"
          ]
        },
        {
          "output_type": "display_data",
          "data": {
            "text/plain": [
              "<IPython.core.display.HTML object>"
            ],
            "text/html": [
              "<div><iframe src=\"https://b4c07300231aa7d80d.gradio.live\" width=\"100%\" height=\"500\" allow=\"autoplay; camera; microphone; clipboard-read; clipboard-write;\" frameborder=\"0\" allowfullscreen></iframe></div>"
            ]
          },
          "metadata": {}
        },
        {
          "output_type": "execute_result",
          "data": {
            "text/plain": []
          },
          "metadata": {},
          "execution_count": 2
        }
      ]
    },
    {
      "cell_type": "markdown",
      "source": [
        "**Basic Chatbot with Multimodal Input**"
      ],
      "metadata": {
        "id": "nsmWi015VXBk"
      }
    },
    {
      "cell_type": "code",
      "source": [
        "import gradio as gr\n",
        "import time\n",
        "\n",
        "def add_message(history, message):\n",
        "    for x in message[\"files\"]:\n",
        "        history.append({\"role\": \"user\", \"content\": {\"path\": x}})\n",
        "    if message[\"text\"] is not None:\n",
        "        history.append({\"role\": \"user\", \"content\": message[\"text\"]})\n",
        "    return history, gr.MultimodalTextbox(value=None, interactive=False)\n",
        "\n",
        "def bot(history: list):\n",
        "    response = \"**That's cool!**\"\n",
        "    history.append({\"role\": \"assistant\", \"content\": \"\"})\n",
        "    for character in response:\n",
        "        history[-1][\"content\"] += character\n",
        "        time.sleep(0.05)\n",
        "        yield history\n",
        "\n",
        "with gr.Blocks() as demo:\n",
        "    chatbot = gr.Chatbot(elem_id=\"chatbot\", bubble_full_width=False, type=\"messages\")\n",
        "    chat_input = gr.MultimodalTextbox(interactive=True, file_count=\"multiple\", placeholder=\"Enter message or upload file...\", show_label=False, sources=[\"microphone\", \"upload\"])\n",
        "    chat_msg = chat_input.submit(add_message, [chatbot, chat_input], [chatbot, chat_input])\n",
        "    bot_msg = chat_msg.then(bot, chatbot, chatbot, api_name=\"bot_response\")\n",
        "    bot_msg.then(lambda: gr.MultimodalTextbox(interactive=True), None, [chat_input])\n",
        "\n",
        "if __name__ == \"__main__\":\n",
        "    demo.launch()"
      ],
      "metadata": {
        "colab": {
          "base_uri": "https://localhost:8080/",
          "height": 680
        },
        "id": "-Y1rM-oBVVOO",
        "outputId": "6b70e6ff-57da-4160-d8d5-19ef1f486da7"
      },
      "execution_count": 3,
      "outputs": [
        {
          "output_type": "stream",
          "name": "stderr",
          "text": [
            "/tmp/ipython-input-561981865.py:20: DeprecationWarning: The 'bubble_full_width' parameter is deprecated and will be removed in a future version. This parameter no longer has any effect.\n",
            "  chatbot = gr.Chatbot(elem_id=\"chatbot\", bubble_full_width=False, type=\"messages\")\n"
          ]
        },
        {
          "output_type": "stream",
          "name": "stdout",
          "text": [
            "It looks like you are running Gradio on a hosted Jupyter notebook, which requires `share=True`. Automatically setting `share=True` (you can turn this off by setting `share=False` in `launch()` explicitly).\n",
            "\n",
            "Colab notebook detected. To show errors in colab notebook, set debug=True in launch()\n",
            "* Running on public URL: https://f646d77ce18ce84b4e.gradio.live\n",
            "\n",
            "This share link expires in 1 week. For free permanent hosting and GPU upgrades, run `gradio deploy` from the terminal in the working directory to deploy to Hugging Face Spaces (https://huggingface.co/spaces)\n"
          ]
        },
        {
          "output_type": "display_data",
          "data": {
            "text/plain": [
              "<IPython.core.display.HTML object>"
            ],
            "text/html": [
              "<div><iframe src=\"https://f646d77ce18ce84b4e.gradio.live\" width=\"100%\" height=\"500\" allow=\"autoplay; camera; microphone; clipboard-read; clipboard-write;\" frameborder=\"0\" allowfullscreen></iframe></div>"
            ]
          },
          "metadata": {}
        }
      ]
    },
    {
      "cell_type": "markdown",
      "source": [
        "**Multimodal Input with Multiple File Types**"
      ],
      "metadata": {
        "id": "J6JLkCLWVcXc"
      }
    },
    {
      "cell_type": "code",
      "source": [
        "import gradio as gr\n",
        "\n",
        "def process_files(value):\n",
        "    if value[\"files\"]:\n",
        "        return {\"text\": f\"Files received: {value['files']}\"}\n",
        "    else:\n",
        "        return {\"text\": \"No files uploaded.\"}\n",
        "\n",
        "with gr.Blocks() as demo:\n",
        "    input_textbox = gr.MultimodalTextbox(\n",
        "        placeholder=\"Upload files...\",\n",
        "        file_count=\"multiple\",\n",
        "        sources=[\"upload\"],\n",
        "        file_types=[\"image\", \"audio\", \"video\"],\n",
        "        label=\"Upload files\"\n",
        "    )\n",
        "    output_textbox = gr.MultimodalTextbox(label=\"Output\")\n",
        "\n",
        "    input_textbox.change(process_files, inputs=input_textbox, outputs=output_textbox)\n",
        "\n",
        "demo.launch()"
      ],
      "metadata": {
        "colab": {
          "base_uri": "https://localhost:8080/",
          "height": 646
        },
        "id": "aKvjBPuxVaJj",
        "outputId": "692cb93a-39f2-4eb8-d595-0b4d3b426408"
      },
      "execution_count": 4,
      "outputs": [
        {
          "output_type": "stream",
          "name": "stdout",
          "text": [
            "It looks like you are running Gradio on a hosted Jupyter notebook, which requires `share=True`. Automatically setting `share=True` (you can turn this off by setting `share=False` in `launch()` explicitly).\n",
            "\n",
            "Colab notebook detected. To show errors in colab notebook, set debug=True in launch()\n",
            "* Running on public URL: https://d71f603c4830d45c71.gradio.live\n",
            "\n",
            "This share link expires in 1 week. For free permanent hosting and GPU upgrades, run `gradio deploy` from the terminal in the working directory to deploy to Hugging Face Spaces (https://huggingface.co/spaces)\n"
          ]
        },
        {
          "output_type": "display_data",
          "data": {
            "text/plain": [
              "<IPython.core.display.HTML object>"
            ],
            "text/html": [
              "<div><iframe src=\"https://d71f603c4830d45c71.gradio.live\" width=\"100%\" height=\"500\" allow=\"autoplay; camera; microphone; clipboard-read; clipboard-write;\" frameborder=\"0\" allowfullscreen></iframe></div>"
            ]
          },
          "metadata": {}
        },
        {
          "output_type": "execute_result",
          "data": {
            "text/plain": []
          },
          "metadata": {},
          "execution_count": 4
        }
      ]
    },
    {
      "cell_type": "markdown",
      "source": [
        "**MultimodalTextbox with File Type Restrictions**"
      ],
      "metadata": {
        "id": "Bh4ijNf_Vgwm"
      }
    },
    {
      "cell_type": "code",
      "source": [
        "import gradio as gr\n",
        "\n",
        "def process_files(value):\n",
        "    files = value.get(\"files\", [])\n",
        "    return f\"Received Files: {files}\"\n",
        "\n",
        "with gr.Blocks() as demo:\n",
        "    input_box = gr.MultimodalTextbox(label=\"Upload images only\", sources=[\"upload\"], file_types=[\"image/png\", \"image/jpeg\"], file_count=\"single\")\n",
        "    output_box = gr.Textbox(label=\"Processed Output\")\n",
        "    input_box.change(fn=process_files, inputs=input_box, outputs=output_box)\n",
        "\n",
        "demo.launch()"
      ],
      "metadata": {
        "colab": {
          "base_uri": "https://localhost:8080/",
          "height": 646
        },
        "id": "ABvamfMzVe5o",
        "outputId": "1b7c77d4-5962-4713-fe26-9e63f54d727f"
      },
      "execution_count": 5,
      "outputs": [
        {
          "output_type": "stream",
          "name": "stdout",
          "text": [
            "It looks like you are running Gradio on a hosted Jupyter notebook, which requires `share=True`. Automatically setting `share=True` (you can turn this off by setting `share=False` in `launch()` explicitly).\n",
            "\n",
            "Colab notebook detected. To show errors in colab notebook, set debug=True in launch()\n",
            "* Running on public URL: https://2e27861228f12790e7.gradio.live\n",
            "\n",
            "This share link expires in 1 week. For free permanent hosting and GPU upgrades, run `gradio deploy` from the terminal in the working directory to deploy to Hugging Face Spaces (https://huggingface.co/spaces)\n"
          ]
        },
        {
          "output_type": "display_data",
          "data": {
            "text/plain": [
              "<IPython.core.display.HTML object>"
            ],
            "text/html": [
              "<div><iframe src=\"https://2e27861228f12790e7.gradio.live\" width=\"100%\" height=\"500\" allow=\"autoplay; camera; microphone; clipboard-read; clipboard-write;\" frameborder=\"0\" allowfullscreen></iframe></div>"
            ]
          },
          "metadata": {}
        },
        {
          "output_type": "execute_result",
          "data": {
            "text/plain": []
          },
          "metadata": {},
          "execution_count": 5
        }
      ]
    },
    {
      "cell_type": "markdown",
      "source": [
        "**Uploading directory and counting total files based on their type**"
      ],
      "metadata": {
        "id": "McgoDeh2VnIv"
      }
    },
    {
      "cell_type": "code",
      "source": [
        "import os\n",
        "import gradio as gr\n",
        "from collections import defaultdict\n",
        "\n",
        "def process_directory(value):\n",
        "    files = value.get(\"files\", [])\n",
        "\n",
        "    # Count total files\n",
        "    total_files = len(files)\n",
        "\n",
        "    # Count files by extension\n",
        "    file_types = defaultdict(int)\n",
        "    for file in files:\n",
        "        ext = os.path.splitext(file)[1].lower()  # Get file extension\n",
        "        file_types[ext] += 1\n",
        "\n",
        "    # Format the output\n",
        "    output = f\"Total Files: {total_files}\\n\\nFile Types:\\n\"\n",
        "    output += \"\\n\".join(f\"{ext if ext else 'No Extension'}: {count}\" for ext, count in file_types.items())\n",
        "\n",
        "    return output\n",
        "\n",
        "with gr.Blocks() as demo:\n",
        "    input_box = gr.MultimodalTextbox(label=\"Upload a directory\", sources=[\"upload\"], file_count=\"directory\")\n",
        "    output_box = gr.Textbox(label=\"Processed Output\")\n",
        "    input_box.change(fn=process_directory, inputs=input_box, outputs=output_box)\n",
        "\n",
        "demo.launch()"
      ],
      "metadata": {
        "colab": {
          "base_uri": "https://localhost:8080/",
          "height": 646
        },
        "id": "dUiCD4u4Vi6o",
        "outputId": "dbd836cb-c960-4489-e1c1-85b2b2155d53"
      },
      "execution_count": 6,
      "outputs": [
        {
          "output_type": "stream",
          "name": "stdout",
          "text": [
            "It looks like you are running Gradio on a hosted Jupyter notebook, which requires `share=True`. Automatically setting `share=True` (you can turn this off by setting `share=False` in `launch()` explicitly).\n",
            "\n",
            "Colab notebook detected. To show errors in colab notebook, set debug=True in launch()\n",
            "* Running on public URL: https://bdf596e22fd1553bbb.gradio.live\n",
            "\n",
            "This share link expires in 1 week. For free permanent hosting and GPU upgrades, run `gradio deploy` from the terminal in the working directory to deploy to Hugging Face Spaces (https://huggingface.co/spaces)\n"
          ]
        },
        {
          "output_type": "display_data",
          "data": {
            "text/plain": [
              "<IPython.core.display.HTML object>"
            ],
            "text/html": [
              "<div><iframe src=\"https://bdf596e22fd1553bbb.gradio.live\" width=\"100%\" height=\"500\" allow=\"autoplay; camera; microphone; clipboard-read; clipboard-write;\" frameborder=\"0\" allowfullscreen></iframe></div>"
            ]
          },
          "metadata": {}
        },
        {
          "output_type": "execute_result",
          "data": {
            "text/plain": []
          },
          "metadata": {},
          "execution_count": 6
        }
      ]
    },
    {
      "cell_type": "code",
      "source": [],
      "metadata": {
        "id": "HvDNy5ZkWC8c"
      },
      "execution_count": null,
      "outputs": []
    }
  ]
}