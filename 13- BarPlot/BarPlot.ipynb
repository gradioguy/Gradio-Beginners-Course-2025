{
 "cells": [
  {
   "cell_type": "code",
   "execution_count": 3,
   "id": "7e51339a-3b70-4b89-8e44-0d83ff37d5be",
   "metadata": {},
   "outputs": [
    {
     "name": "stdout",
     "output_type": "stream",
     "text": [
      "* Running on local URL:  http://127.0.0.1:7860\n",
      "\n",
      "To create a public link, set `share=True` in `launch()`.\n"
     ]
    },
    {
     "data": {
      "text/html": [
       "<div><iframe src=\"http://127.0.0.1:7860/\" width=\"100%\" height=\"500\" allow=\"autoplay; camera; microphone; clipboard-read; clipboard-write;\" frameborder=\"0\" allowfullscreen></iframe></div>"
      ],
      "text/plain": [
       "<IPython.core.display.HTML object>"
      ]
     },
     "metadata": {},
     "output_type": "display_data"
    },
    {
     "data": {
      "text/plain": []
     },
     "execution_count": 3,
     "metadata": {},
     "output_type": "execute_result"
    }
   ],
   "source": [
    "import gradio as gr\n",
    "import pandas as pd\n",
    "from random import randint\n",
    "\n",
    "temp_sensor_data = pd.DataFrame({\n",
    "    \"time\": pd.date_range(\"2021-01-01\", end=\"2021-01-05\", periods=200),\n",
    "    \"temperature\": [randint(50 + 10 * (i % 2), 65 + 15 * (i % 2)) for i in range(200)],\n",
    "})\n",
    "\n",
    "def plot_temperature(dataframe):\n",
    "    return dataframe\n",
    "\n",
    "with gr.Blocks() as demo:\n",
    "    gr.Markdown(\"## Temperature Data Over Time\")\n",
    "    plot = gr.BarPlot(temp_sensor_data, x=\"time\", y=\"temperature\", title=\"Temperature Over Time\")\n",
    "\n",
    "demo.launch()"
   ]
  },
  {
   "cell_type": "code",
   "execution_count": 5,
   "id": "ccc3cb22-3b9d-4c8d-84fd-48957423154d",
   "metadata": {},
   "outputs": [
    {
     "name": "stdout",
     "output_type": "stream",
     "text": [
      "* Running on local URL:  http://127.0.0.1:7861\n",
      "\n",
      "To create a public link, set `share=True` in `launch()`.\n"
     ]
    },
    {
     "data": {
      "text/html": [
       "<div><iframe src=\"http://127.0.0.1:7861/\" width=\"100%\" height=\"500\" allow=\"autoplay; camera; microphone; clipboard-read; clipboard-write;\" frameborder=\"0\" allowfullscreen></iframe></div>"
      ],
      "text/plain": [
       "<IPython.core.display.HTML object>"
      ]
     },
     "metadata": {},
     "output_type": "display_data"
    },
    {
     "data": {
      "text/plain": []
     },
     "execution_count": 5,
     "metadata": {},
     "output_type": "execute_result"
    }
   ],
   "source": [
    "import gradio as gr\n",
    "import pandas as pd\n",
    "from random import random\n",
    "\n",
    "food_rating_data = pd.DataFrame({\n",
    "    \"cuisine\":[[\"Italian\", \"Mexican\", \"Chinese\"][i%3] for i in range(100)],\n",
    "    \"rating\": [random() * 4 + 0.5 * (i%3) for i in range(100)],\n",
    "})\n",
    "\n",
    "def plot_ratings(dataframe):\n",
    "    return dataframe\n",
    "\n",
    "with gr.Blocks() as demo:\n",
    "    gr.Markdown(\"## Food Ratings by Cuisine\")\n",
    "    plot = gr.BarPlot(food_rating_data, x = \"cuisine\", y=\"rating\", title=\"Food Ratings\")\n",
    "\n",
    "demo.launch()"
   ]
  },
  {
   "cell_type": "code",
   "execution_count": 10,
   "id": "50555028-72d5-4bbb-b314-ea58028dc88d",
   "metadata": {},
   "outputs": [
    {
     "name": "stdout",
     "output_type": "stream",
     "text": [
      "* Running on local URL:  http://127.0.0.1:7866\n",
      "\n",
      "To create a public link, set `share=True` in `launch()`.\n"
     ]
    },
    {
     "data": {
      "text/html": [
       "<div><iframe src=\"http://127.0.0.1:7866/\" width=\"100%\" height=\"500\" allow=\"autoplay; camera; microphone; clipboard-read; clipboard-write;\" frameborder=\"0\" allowfullscreen></iframe></div>"
      ],
      "text/plain": [
       "<IPython.core.display.HTML object>"
      ]
     },
     "metadata": {},
     "output_type": "display_data"
    },
    {
     "data": {
      "text/plain": []
     },
     "execution_count": 10,
     "metadata": {},
     "output_type": "execute_result"
    }
   ],
   "source": [
    "import pandas as pd\n",
    "import gradio as gr\n",
    "\n",
    "temp_sensor_data = pd.DataFrame({\n",
    "    \"time\": pd.date_range(\"2021-01-01\", end=\"2021-01-05\", periods=200),\n",
    "    \"temperature\": [randint(50 + 10 * (i % 2), 65 + 15 * (i % 2)) for i in range(200)],\n",
    "    \"location\": [\"indoor\", \"outdoor\"] * 100,\n",
    "})\n",
    "\n",
    "def plot_temperature(dataframe):\n",
    "    return dataframe\n",
    "\n",
    "with gr.Blocks() as demo:\n",
    "    gr.Markdown(\"## Temperature Data Over Time by Location\")\n",
    "    plot = gr.BarPlot(temp_sensor_data, x=\"time\", y=\"temperature\", color=\"location\", title=\"Temperature Over Time by Location\")\n",
    "\n",
    "demo.launch()"
   ]
  },
  {
   "cell_type": "code",
   "execution_count": 12,
   "id": "f2ad20f0-beff-4b9f-8b9d-a4cf1fac746a",
   "metadata": {},
   "outputs": [
    {
     "name": "stdout",
     "output_type": "stream",
     "text": [
      "* Running on local URL:  http://127.0.0.1:7867\n",
      "\n",
      "To create a public link, set `share=True` in `launch()`.\n"
     ]
    },
    {
     "data": {
      "text/html": [
       "<div><iframe src=\"http://127.0.0.1:7867/\" width=\"100%\" height=\"500\" allow=\"autoplay; camera; microphone; clipboard-read; clipboard-write;\" frameborder=\"0\" allowfullscreen></iframe></div>"
      ],
      "text/plain": [
       "<IPython.core.display.HTML object>"
      ]
     },
     "metadata": {},
     "output_type": "display_data"
    },
    {
     "data": {
      "text/plain": []
     },
     "execution_count": 12,
     "metadata": {},
     "output_type": "execute_result"
    }
   ],
   "source": [
    "import gradio as gr\n",
    "import pandas as pd\n",
    "\n",
    "temp_sensor_data = pd.DataFrame({\n",
    "    \"time\": pd.date_range(\"2021-01-01\", end=\"2021-01-05\", periods=200),\n",
    "    \"temperature\": [randint(50 + 10 *(i%2), 65 + 15 *(i%2)) for i in range(200)],\n",
    "})\n",
    "\n",
    "def plot_temperature(dataframe):\n",
    "    return dataframe\n",
    "\n",
    "with gr.Blocks() as demo:\n",
    "    gr.Markdown(\"## Temperature Data Over Time\")\n",
    "    plot = gr.BarPlot(temp_sensor_data, x=\"time\", y=\"temperature\", title=\"Temperature Data Over Time\", x_title=\"Date\", y_title=\"Temperature (F)\")\n",
    "\n",
    "demo.launch()"
   ]
  },
  {
   "cell_type": "code",
   "execution_count": 14,
   "id": "c50367fc-ae8c-49c0-a40b-42b7be753f60",
   "metadata": {},
   "outputs": [
    {
     "name": "stdout",
     "output_type": "stream",
     "text": [
      "* Running on local URL:  http://127.0.0.1:7869\n",
      "\n",
      "To create a public link, set `share=True` in `launch()`.\n"
     ]
    },
    {
     "data": {
      "text/html": [
       "<div><iframe src=\"http://127.0.0.1:7869/\" width=\"100%\" height=\"500\" allow=\"autoplay; camera; microphone; clipboard-read; clipboard-write;\" frameborder=\"0\" allowfullscreen></iframe></div>"
      ],
      "text/plain": [
       "<IPython.core.display.HTML object>"
      ]
     },
     "metadata": {},
     "output_type": "display_data"
    },
    {
     "data": {
      "text/plain": []
     },
     "execution_count": 14,
     "metadata": {},
     "output_type": "execute_result"
    }
   ],
   "source": [
    "import gradio as gr\n",
    "import pandas as pd\n",
    "\n",
    "temp_sensor_data = pd.DataFrame({\n",
    "    \"time\": pd.date_range(\"2021-01-01\", end=\"2021-01-05\", periods=200),\n",
    "    \"temperature\": [randint(50 + 10*(i%2), 65 + 15 *(i%2)) for i in range(200)],\n",
    "    \"location\":[\"indoor\", \"outdoor\"] * 100,\n",
    "})\n",
    "\n",
    "def plot_temperature(dataframe):\n",
    "    return dataframe\n",
    "\n",
    "with gr.Blocks() as demo:\n",
    "    color_map = {\"indoor\": \"green\", \"outdoor\": \"red\"}\n",
    "    gr.Markdown(\"## Temperature Data Over Time by Location\")\n",
    "    plot = gr.BarPlot(temp_sensor_data, x=\"time\", y=\"temperature\", color=\"location\", color_map=color_map, title=\"Temperature Over Time by Location\")\n",
    "\n",
    "demo.launch()"
   ]
  },
  {
   "cell_type": "code",
   "execution_count": 16,
   "id": "0e886878-5047-460a-b31c-ea48e4bf2e0b",
   "metadata": {},
   "outputs": [
    {
     "name": "stdout",
     "output_type": "stream",
     "text": [
      "* Running on local URL:  http://127.0.0.1:7871\n",
      "\n",
      "To create a public link, set `share=True` in `launch()`.\n"
     ]
    },
    {
     "data": {
      "text/html": [
       "<div><iframe src=\"http://127.0.0.1:7871/\" width=\"100%\" height=\"500\" allow=\"autoplay; camera; microphone; clipboard-read; clipboard-write;\" frameborder=\"0\" allowfullscreen></iframe></div>"
      ],
      "text/plain": [
       "<IPython.core.display.HTML object>"
      ]
     },
     "metadata": {},
     "output_type": "display_data"
    },
    {
     "data": {
      "text/plain": []
     },
     "execution_count": 16,
     "metadata": {},
     "output_type": "execute_result"
    }
   ],
   "source": [
    "import gradio as gr\n",
    "import pandas as pd\n",
    "\n",
    "temp_sensor_data = pd.DataFrame({\n",
    "    \"time\": pd.date_range(\"2021-01-01\", end=\"2021-01-05\", periods=200),\n",
    "    \"temperature\":[randint(50 + 10 *(i%2), 65 + 15 *(i%2)) for i in range(200)],\n",
    "})\n",
    "\n",
    "def plot_temperature(dataframe):\n",
    "    return dataframe\n",
    "\n",
    "with gr.Blocks() as demo:\n",
    "    gr.Markdown(\"## Temperature Data Over Time\")\n",
    "    plot = gr.BarPlot(temp_sensor_data, x=\"time\", y=\"temperature\", y_lim=[50, 80], title=\"Temperature Over Time\")\n",
    "\n",
    "demo.launch()"
   ]
  },
  {
   "cell_type": "code",
   "execution_count": 17,
   "id": "ee2e7f90-e29e-44e1-b79e-80a6b1eeb3f2",
   "metadata": {},
   "outputs": [
    {
     "name": "stdout",
     "output_type": "stream",
     "text": [
      "* Running on local URL:  http://127.0.0.1:7872\n",
      "\n",
      "To create a public link, set `share=True` in `launch()`.\n"
     ]
    },
    {
     "data": {
      "text/html": [
       "<div><iframe src=\"http://127.0.0.1:7872/\" width=\"100%\" height=\"500\" allow=\"autoplay; camera; microphone; clipboard-read; clipboard-write;\" frameborder=\"0\" allowfullscreen></iframe></div>"
      ],
      "text/plain": [
       "<IPython.core.display.HTML object>"
      ]
     },
     "metadata": {},
     "output_type": "display_data"
    },
    {
     "data": {
      "text/plain": []
     },
     "execution_count": 17,
     "metadata": {},
     "output_type": "execute_result"
    }
   ],
   "source": [
    "import gradio as gr\n",
    "import pandas as pd\n",
    "\n",
    "temp_sensor_data = pd.DataFrame({\n",
    "    \"time\": pd.date_range(\"2021-01-01\", end=\"2021-01-05\", periods=200),\n",
    "    \"temperature\":[randint(50 + 10 *(i%2), 65 + 15 *(i%2)) for i in range(200)],\n",
    "})\n",
    "\n",
    "def plot_temperature(dataframe):\n",
    "    return dataframe\n",
    "\n",
    "with gr.Blocks() as demo:\n",
    "    gr.Markdown(\"## Temperature Data Over Time\")\n",
    "    plot = gr.BarPlot(temp_sensor_data, x=\"time\",x_label_angle=45, y_label_angle=0, y=\"temperature\", y_lim=[50, 80], title=\"Temperature Over Time\")\n",
    "\n",
    "demo.launch()"
   ]
  },
  {
   "cell_type": "code",
   "execution_count": null,
   "id": "65ecc510-9ee8-4269-8a67-12279ec4d987",
   "metadata": {},
   "outputs": [],
   "source": []
  },
  {
   "cell_type": "code",
   "execution_count": null,
   "id": "d32987dd-0115-4b34-9249-4334c5afb1ca",
   "metadata": {},
   "outputs": [],
   "source": []
  },
  {
   "cell_type": "code",
   "execution_count": null,
   "id": "8252e28e-0462-4235-8165-5f310240745d",
   "metadata": {},
   "outputs": [],
   "source": []
  },
  {
   "cell_type": "code",
   "execution_count": null,
   "id": "88bf5c6b-3982-4ba0-a403-604fa325bcd2",
   "metadata": {},
   "outputs": [],
   "source": []
  },
  {
   "cell_type": "code",
   "execution_count": null,
   "id": "7e7c9209-7631-4704-9ff2-5be6db02ba34",
   "metadata": {},
   "outputs": [],
   "source": []
  },
  {
   "cell_type": "code",
   "execution_count": null,
   "id": "e82eb08e-114c-4ea5-88ab-c1d404a257a7",
   "metadata": {},
   "outputs": [],
   "source": []
  },
  {
   "cell_type": "code",
   "execution_count": null,
   "id": "5368d69c-63c9-4ba8-b721-6704af2e5a46",
   "metadata": {},
   "outputs": [],
   "source": []
  }
 ],
 "metadata": {
  "kernelspec": {
   "display_name": "Python 3 (ipykernel)",
   "language": "python",
   "name": "python3"
  },
  "language_info": {
   "codemirror_mode": {
    "name": "ipython",
    "version": 3
   },
   "file_extension": ".py",
   "mimetype": "text/x-python",
   "name": "python",
   "nbconvert_exporter": "python",
   "pygments_lexer": "ipython3",
   "version": "3.12.7"
  }
 },
 "nbformat": 4,
 "nbformat_minor": 5
}
