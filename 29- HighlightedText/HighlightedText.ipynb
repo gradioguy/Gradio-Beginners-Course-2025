{
  "nbformat": 4,
  "nbformat_minor": 0,
  "metadata": {
    "colab": {
      "provenance": []
    },
    "kernelspec": {
      "name": "python3",
      "display_name": "Python 3"
    },
    "language_info": {
      "name": "python"
    }
  },
  "cells": [
    {
      "cell_type": "markdown",
      "source": [
        "**Basic Usage as Output Component**"
      ],
      "metadata": {
        "id": "iqyS-3hBArq2"
      }
    },
    {
      "cell_type": "code",
      "execution_count": 1,
      "metadata": {
        "colab": {
          "base_uri": "https://localhost:8080/",
          "height": 646
        },
        "id": "9cG5KThWAjsN",
        "outputId": "c18619cc-7942-4af1-e269-0d04a2f329a9"
      },
      "outputs": [
        {
          "output_type": "stream",
          "name": "stdout",
          "text": [
            "It looks like you are running Gradio on a hosted Jupyter notebook, which requires `share=True`. Automatically setting `share=True` (you can turn this off by setting `share=False` in `launch()` explicitly).\n",
            "\n",
            "Colab notebook detected. To show errors in colab notebook, set debug=True in launch()\n",
            "* Running on public URL: https://0f799bf9193340a367.gradio.live\n",
            "\n",
            "This share link expires in 1 week. For free permanent hosting and GPU upgrades, run `gradio deploy` from the terminal in the working directory to deploy to Hugging Face Spaces (https://huggingface.co/spaces)\n"
          ]
        },
        {
          "output_type": "display_data",
          "data": {
            "text/plain": [
              "<IPython.core.display.HTML object>"
            ],
            "text/html": [
              "<div><iframe src=\"https://0f799bf9193340a367.gradio.live\" width=\"100%\" height=\"500\" allow=\"autoplay; camera; microphone; clipboard-read; clipboard-write;\" frameborder=\"0\" allowfullscreen></iframe></div>"
            ]
          },
          "metadata": {}
        },
        {
          "output_type": "execute_result",
          "data": {
            "text/plain": []
          },
          "metadata": {},
          "execution_count": 1
        }
      ],
      "source": [
        "import gradio as gr\n",
        "\n",
        "def tag_text(text):\n",
        "    tags = [(\"The\", \"ARTICLE\"), (\"quick\", \"ADJECTIVE\"), (\"brown\", \"ADJECTIVE\"),\n",
        "            (\"fox\", \"NOUN\"), (\"jumps\", \"VERB\"), (\"over\", \"PREPOSITION\"),\n",
        "            (\"the\", \"ARTICLE\"), (\"lazy\", \"ADJECTIVE\"), (\"dog\", \"NOUN\")]\n",
        "    return tags\n",
        "\n",
        "demo = gr.Interface(\n",
        "    fn=tag_text,\n",
        "    inputs=gr.Textbox(label=\"Input Text\", value=\"The quick brown fox jumps over the lazy dog.\"),\n",
        "    outputs=gr.HighlightedText(label=\"Highlighted Text\", show_legend=True, color_map={\"ARTICLE\": \"blue\", \"ADJECTIVE\": \"green\", \"NOUN\": \"orange\", \"VERB\": \"red\", \"PREPOSITION\": \"purple\"})\n",
        ")\n",
        "demo.launch()\n"
      ]
    },
    {
      "cell_type": "markdown",
      "source": [
        "**Using a Dictionary for Output**"
      ],
      "metadata": {
        "id": "B0Vx8mLYAuhR"
      }
    },
    {
      "cell_type": "code",
      "source": [
        "import gradio as gr\n",
        "\n",
        "def tag_text_dict(text):\n",
        "    entities = [\n",
        "        {\"entity\": \"ARTICLE\", \"start\": 0, \"end\": 3},\n",
        "        {\"entity\": \"ADJECTIVE\", \"start\": 4, \"end\": 9},\n",
        "        {\"entity\": \"ADJECTIVE\", \"start\": 10, \"end\": 15},\n",
        "        {\"entity\": \"NOUN\", \"start\": 16, \"end\": 19},\n",
        "        {\"entity\": \"VERB\", \"start\": 20, \"end\": 25},\n",
        "        {\"entity\": \"PREPOSITION\", \"start\": 26, \"end\": 30},\n",
        "        {\"entity\": \"ARTICLE\", \"start\": 31, \"end\": 34},\n",
        "        {\"entity\": \"ADJECTIVE\", \"start\": 35, \"end\": 39},\n",
        "        {\"entity\": \"NOUN\", \"start\": 40, \"end\": 43}\n",
        "    ]\n",
        "    return {\"text\": text, \"entities\": entities}\n",
        "\n",
        "demo = gr.Interface(\n",
        "    fn=tag_text_dict,\n",
        "    inputs=gr.Textbox(label=\"Input Text\", value=\"The quick brown fox jumps over the lazy dog.\"),\n",
        "    outputs=gr.HighlightedText(label=\"Highlighted Text\", show_legend=True, color_map={\"ARTICLE\": \"blue\", \"ADJECTIVE\": \"green\", \"NOUN\": \"orange\", \"VERB\": \"red\", \"PREPOSITION\": \"purple\"})\n",
        ")\n",
        "demo.launch()"
      ],
      "metadata": {
        "colab": {
          "base_uri": "https://localhost:8080/",
          "height": 646
        },
        "id": "GCwJ98X_AuFr",
        "outputId": "9f6a70cb-2d7a-4967-f733-414c9c17106d"
      },
      "execution_count": 2,
      "outputs": [
        {
          "output_type": "stream",
          "name": "stdout",
          "text": [
            "It looks like you are running Gradio on a hosted Jupyter notebook, which requires `share=True`. Automatically setting `share=True` (you can turn this off by setting `share=False` in `launch()` explicitly).\n",
            "\n",
            "Colab notebook detected. To show errors in colab notebook, set debug=True in launch()\n",
            "* Running on public URL: https://ec0b33f05366d94e09.gradio.live\n",
            "\n",
            "This share link expires in 1 week. For free permanent hosting and GPU upgrades, run `gradio deploy` from the terminal in the working directory to deploy to Hugging Face Spaces (https://huggingface.co/spaces)\n"
          ]
        },
        {
          "output_type": "display_data",
          "data": {
            "text/plain": [
              "<IPython.core.display.HTML object>"
            ],
            "text/html": [
              "<div><iframe src=\"https://ec0b33f05366d94e09.gradio.live\" width=\"100%\" height=\"500\" allow=\"autoplay; camera; microphone; clipboard-read; clipboard-write;\" frameborder=\"0\" allowfullscreen></iframe></div>"
            ]
          },
          "metadata": {}
        },
        {
          "output_type": "execute_result",
          "data": {
            "text/plain": []
          },
          "metadata": {},
          "execution_count": 2
        }
      ]
    },
    {
      "cell_type": "markdown",
      "source": [
        "**Highlighting Differences Between Two Texts**"
      ],
      "metadata": {
        "id": "N7VnSWoJAxyE"
      }
    },
    {
      "cell_type": "code",
      "source": [
        "from difflib import Differ\n",
        "import gradio as gr\n",
        "\n",
        "def diff_texts(text1, text2):\n",
        "    d = Differ()\n",
        "    return [\n",
        "        (token[2:], token[0] if token[0] != \" \" else None)\n",
        "        for token in d.compare(text1, text2)\n",
        "    ]\n",
        "\n",
        "demo = gr.Interface(\n",
        "    fn=diff_texts,\n",
        "    inputs=[\n",
        "        gr.Textbox(value=\"The quick brown fox jumped over the lazy dogs.\", label=\"Text 1\"),\n",
        "        gr.Textbox(value=\"The fast brown fox jumps over lazy dogs.\", label=\"Text 2\"),\n",
        "    ],\n",
        "    outputs=gr.HighlightedText(\n",
        "        color_map={\"+\": \"red\", \"-\": \"green\"},\n",
        "        show_legend=True,\n",
        "        combine_adjacent=True,\n",
        "    ),\n",
        "    title=\"Text Diff\",\n",
        "    description=\"This demo highlights the differences between two input texts.\"\n",
        ")\n",
        "\n",
        "demo.launch()"
      ],
      "metadata": {
        "colab": {
          "base_uri": "https://localhost:8080/",
          "height": 646
        },
        "id": "8mroNVBRAxND",
        "outputId": "c885f8f9-10a4-46d6-b4f3-5c4bf10323eb"
      },
      "execution_count": 3,
      "outputs": [
        {
          "output_type": "stream",
          "name": "stdout",
          "text": [
            "It looks like you are running Gradio on a hosted Jupyter notebook, which requires `share=True`. Automatically setting `share=True` (you can turn this off by setting `share=False` in `launch()` explicitly).\n",
            "\n",
            "Colab notebook detected. To show errors in colab notebook, set debug=True in launch()\n",
            "* Running on public URL: https://3442aeb4a9d955519b.gradio.live\n",
            "\n",
            "This share link expires in 1 week. For free permanent hosting and GPU upgrades, run `gradio deploy` from the terminal in the working directory to deploy to Hugging Face Spaces (https://huggingface.co/spaces)\n"
          ]
        },
        {
          "output_type": "display_data",
          "data": {
            "text/plain": [
              "<IPython.core.display.HTML object>"
            ],
            "text/html": [
              "<div><iframe src=\"https://3442aeb4a9d955519b.gradio.live\" width=\"100%\" height=\"500\" allow=\"autoplay; camera; microphone; clipboard-read; clipboard-write;\" frameborder=\"0\" allowfullscreen></iframe></div>"
            ]
          },
          "metadata": {}
        },
        {
          "output_type": "execute_result",
          "data": {
            "text/plain": []
          },
          "metadata": {},
          "execution_count": 3
        }
      ]
    },
    {
      "cell_type": "markdown",
      "source": [
        "**Named Entity Recognition (NER)**"
      ],
      "metadata": {
        "id": "JZgAacZmA6W3"
      }
    },
    {
      "cell_type": "code",
      "source": [
        "import gradio as gr\n",
        "\n",
        "def named_entity_recognition(text):\n",
        "    # Simulated named entity recognition\n",
        "    return [\n",
        "        (\"The\", None),\n",
        "        (\"quick\", None),\n",
        "        (\"brown\", None),\n",
        "        (\"fox\", \"ANIMAL\"),\n",
        "        (\"jumps\", None),\n",
        "        (\"over\", None),\n",
        "        (\"the\", None),\n",
        "        (\"lazy\", None),\n",
        "        (\"dog\", \"ANIMAL\"),\n",
        "    ]\n",
        "\n",
        "demo = gr.Interface(\n",
        "    fn=named_entity_recognition,\n",
        "    inputs=gr.Textbox(value=\"The quick brown fox jumps over the lazy dog.\"),\n",
        "    outputs=gr.HighlightedText(\n",
        "        color_map={\"ANIMAL\": \"blue\"},\n",
        "        show_legend=True,\n",
        "        combine_adjacent=True,\n",
        "    ),\n",
        "    title=\"Named Entity Recognition\",\n",
        "    description=\"This demo highlights named entities in the input text.\"\n",
        ")\n",
        "\n",
        "demo.launch()"
      ],
      "metadata": {
        "colab": {
          "base_uri": "https://localhost:8080/",
          "height": 646
        },
        "id": "PHB5_A-MA271",
        "outputId": "d99b90ea-cf2a-4174-fa48-08f2c61a0284"
      },
      "execution_count": 4,
      "outputs": [
        {
          "output_type": "stream",
          "name": "stdout",
          "text": [
            "It looks like you are running Gradio on a hosted Jupyter notebook, which requires `share=True`. Automatically setting `share=True` (you can turn this off by setting `share=False` in `launch()` explicitly).\n",
            "\n",
            "Colab notebook detected. To show errors in colab notebook, set debug=True in launch()\n",
            "* Running on public URL: https://33c8b9462c8a797402.gradio.live\n",
            "\n",
            "This share link expires in 1 week. For free permanent hosting and GPU upgrades, run `gradio deploy` from the terminal in the working directory to deploy to Hugging Face Spaces (https://huggingface.co/spaces)\n"
          ]
        },
        {
          "output_type": "display_data",
          "data": {
            "text/plain": [
              "<IPython.core.display.HTML object>"
            ],
            "text/html": [
              "<div><iframe src=\"https://33c8b9462c8a797402.gradio.live\" width=\"100%\" height=\"500\" allow=\"autoplay; camera; microphone; clipboard-read; clipboard-write;\" frameborder=\"0\" allowfullscreen></iframe></div>"
            ]
          },
          "metadata": {}
        },
        {
          "output_type": "execute_result",
          "data": {
            "text/plain": []
          },
          "metadata": {},
          "execution_count": 4
        }
      ]
    },
    {
      "cell_type": "markdown",
      "source": [
        "**Highlighting with Custom Colors**"
      ],
      "metadata": {
        "id": "LH21INWfEIV9"
      }
    },
    {
      "cell_type": "code",
      "source": [
        "import gradio as gr\n",
        "\n",
        "def pos_tagging(text):\n",
        "    # Simulated part-of-speech tagging\n",
        "    return [\n",
        "        (\"The\", \"ARTICLE\"),\n",
        "        (\"quick\", \"ADJECTIVE\"),\n",
        "        (\"brown\", \"ADJECTIVE\"),\n",
        "        (\"fox\", \"NOUN\"),\n",
        "        (\"jumps\", \"VERB\"),\n",
        "        (\"over\", \"PREPOSITION\"),\n",
        "        (\"the\", \"ARTICLE\"),\n",
        "        (\"lazy\", \"ADJECTIVE\"),\n",
        "        (\"dog\", \"NOUN\"),\n",
        "    ]\n",
        "\n",
        "demo = gr.Interface(\n",
        "    fn=pos_tagging,\n",
        "    inputs=gr.Textbox(value=\"The quick brown fox jumps over the lazy dog.\"),\n",
        "    outputs=gr.HighlightedText(\n",
        "        color_map={\"ARTICLE\": \"#0000FF\", \"ADJECTIVE\": \"#008000\", \"NOUN\": \"#FFA500\", \"VERB\": \"#FF0000\", \"PREPOSITION\": \"#800080\"},\n",
        "        show_legend=True,\n",
        "        combine_adjacent=False,\n",
        "    ),\n",
        "    title=\"Part-of-Speech Tagging with Custom Colors\",\n",
        "    description=\"This demo highlights the part-of-speech tags in the input text with custom colors.\"\n",
        ")\n",
        "\n",
        "demo.launch()"
      ],
      "metadata": {
        "colab": {
          "base_uri": "https://localhost:8080/",
          "height": 646
        },
        "id": "p0bJZhZPEEBi",
        "outputId": "1cb19253-fac9-4808-dd9e-9fe55382eca2"
      },
      "execution_count": 5,
      "outputs": [
        {
          "output_type": "stream",
          "name": "stdout",
          "text": [
            "It looks like you are running Gradio on a hosted Jupyter notebook, which requires `share=True`. Automatically setting `share=True` (you can turn this off by setting `share=False` in `launch()` explicitly).\n",
            "\n",
            "Colab notebook detected. To show errors in colab notebook, set debug=True in launch()\n",
            "* Running on public URL: https://36398df698e0eda062.gradio.live\n",
            "\n",
            "This share link expires in 1 week. For free permanent hosting and GPU upgrades, run `gradio deploy` from the terminal in the working directory to deploy to Hugging Face Spaces (https://huggingface.co/spaces)\n"
          ]
        },
        {
          "output_type": "display_data",
          "data": {
            "text/plain": [
              "<IPython.core.display.HTML object>"
            ],
            "text/html": [
              "<div><iframe src=\"https://36398df698e0eda062.gradio.live\" width=\"100%\" height=\"500\" allow=\"autoplay; camera; microphone; clipboard-read; clipboard-write;\" frameborder=\"0\" allowfullscreen></iframe></div>"
            ]
          },
          "metadata": {}
        },
        {
          "output_type": "execute_result",
          "data": {
            "text/plain": []
          },
          "metadata": {},
          "execution_count": 5
        }
      ]
    },
    {
      "cell_type": "code",
      "source": [],
      "metadata": {
        "id": "4Nf7WajtEO4k"
      },
      "execution_count": null,
      "outputs": []
    }
  ]
}