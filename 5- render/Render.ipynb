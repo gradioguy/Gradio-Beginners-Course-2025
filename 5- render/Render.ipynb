{
  "nbformat": 4,
  "nbformat_minor": 0,
  "metadata": {
    "colab": {
      "provenance": []
    },
    "kernelspec": {
      "name": "python3",
      "display_name": "Python 3"
    },
    "language_info": {
      "name": "python"
    }
  },
  "cells": [
    {
      "cell_type": "code",
      "source": [
        "import gradio as gr\n",
        "\n",
        "with gr.Blocks() as demo:\n",
        "  input_text = gr.Textbox(label=\"Enter text\")\n",
        "\n",
        "  @gr.render(inputs=input_text)\n",
        "  def show_letters(text):\n",
        "    if not text:\n",
        "      gr.Markdown(\"Enter some text to split it into letters.\")\n",
        "    else:\n",
        "      for letter in text:\n",
        "        gr.Textbox(label=f\"Letter {letter}\", value=letter)\n",
        "  demo.launch()"
      ],
      "metadata": {
        "colab": {
          "base_uri": "https://localhost:8080/",
          "height": 650
        },
        "id": "o_3BvvnXvBz1",
        "outputId": "345cfec8-bae0-4d1f-d3b8-cd1cebcb956b"
      },
      "execution_count": 3,
      "outputs": [
        {
          "output_type": "stream",
          "name": "stdout",
          "text": [
            "Running Gradio in a Colab notebook requires sharing enabled. Automatically setting `share=True` (you can turn this off by setting `share=False` in `launch()` explicitly).\n",
            "\n",
            "Colab notebook detected. To show errors in colab notebook, set debug=True in launch()\n",
            "* Running on public URL: https://79f5bbe2d99aafcb1a.gradio.live\n",
            "\n",
            "This share link expires in 72 hours. For free permanent hosting and GPU upgrades, run `gradio deploy` from the terminal in the working directory to deploy to Hugging Face Spaces (https://huggingface.co/spaces)\n"
          ]
        },
        {
          "output_type": "display_data",
          "data": {
            "text/plain": [
              "<IPython.core.display.HTML object>"
            ],
            "text/html": [
              "<div><iframe src=\"https://79f5bbe2d99aafcb1a.gradio.live\" width=\"100%\" height=\"500\" allow=\"autoplay; camera; microphone; clipboard-read; clipboard-write;\" frameborder=\"0\" allowfullscreen></iframe></div>"
            ]
          },
          "metadata": {}
        }
      ]
    },
    {
      "cell_type": "code",
      "source": [
        "import gradio as gr\n",
        "\n",
        "with gr.Blocks() as demo:\n",
        "  input_text = gr.Textbox(label=\"Enter text\")\n",
        "  mode = gr.Radio([\"text\", \"button\"], label=\"Mode\", value=\"text\")\n",
        "\n",
        "  @gr.render(inputs=[input_text, mode])\n",
        "  def toggle_mode(text, mode):\n",
        "    if mode == \"text\":\n",
        "      for letter in text:\n",
        "        gr.Textbox(label=f\"Letter {letter}\", value=letter)\n",
        "    else:\n",
        "      for letter in text:\n",
        "        gr.Button(letter)\n",
        "  demo.launch()"
      ],
      "metadata": {
        "colab": {
          "base_uri": "https://localhost:8080/",
          "height": 650
        },
        "id": "HsosL36Xw7B-",
        "outputId": "f7859e60-cc76-4536-f284-3b4ccb769bb3"
      },
      "execution_count": 4,
      "outputs": [
        {
          "output_type": "stream",
          "name": "stdout",
          "text": [
            "Running Gradio in a Colab notebook requires sharing enabled. Automatically setting `share=True` (you can turn this off by setting `share=False` in `launch()` explicitly).\n",
            "\n",
            "Colab notebook detected. To show errors in colab notebook, set debug=True in launch()\n",
            "* Running on public URL: https://05c43c0afb05c6e5a5.gradio.live\n",
            "\n",
            "This share link expires in 72 hours. For free permanent hosting and GPU upgrades, run `gradio deploy` from the terminal in the working directory to deploy to Hugging Face Spaces (https://huggingface.co/spaces)\n"
          ]
        },
        {
          "output_type": "display_data",
          "data": {
            "text/plain": [
              "<IPython.core.display.HTML object>"
            ],
            "text/html": [
              "<div><iframe src=\"https://05c43c0afb05c6e5a5.gradio.live\" width=\"100%\" height=\"500\" allow=\"autoplay; camera; microphone; clipboard-read; clipboard-write;\" frameborder=\"0\" allowfullscreen></iframe></div>"
            ]
          },
          "metadata": {}
        }
      ]
    },
    {
      "cell_type": "code",
      "source": [
        "import gradio as gr\n",
        "\n",
        "with gr.Blocks() as demo:\n",
        "  field_count = gr.State(1)\n",
        "  add_field = gr.Button(\"Add Field\")\n",
        "  add_field.click(lambda n: n+1, field_count, field_count)\n",
        "\n",
        "  @gr.render(inputs=field_count)\n",
        "  def render_form(count):\n",
        "    fields = []\n",
        "    for i in range(count):\n",
        "      with gr.Row():\n",
        "        fields.append(gr.Textbox(label=f\"Field {i+1}\"))\n",
        "    gr.Button(\"Submit\")\n",
        "  demo.launch()"
      ],
      "metadata": {
        "colab": {
          "base_uri": "https://localhost:8080/",
          "height": 650
        },
        "id": "f7OTP6z1x-49",
        "outputId": "5de8fdc6-b146-4576-b429-0f3df1f97674"
      },
      "execution_count": 5,
      "outputs": [
        {
          "output_type": "stream",
          "name": "stdout",
          "text": [
            "Running Gradio in a Colab notebook requires sharing enabled. Automatically setting `share=True` (you can turn this off by setting `share=False` in `launch()` explicitly).\n",
            "\n",
            "Colab notebook detected. To show errors in colab notebook, set debug=True in launch()\n",
            "* Running on public URL: https://4384b6323719761445.gradio.live\n",
            "\n",
            "This share link expires in 72 hours. For free permanent hosting and GPU upgrades, run `gradio deploy` from the terminal in the working directory to deploy to Hugging Face Spaces (https://huggingface.co/spaces)\n"
          ]
        },
        {
          "output_type": "display_data",
          "data": {
            "text/plain": [
              "<IPython.core.display.HTML object>"
            ],
            "text/html": [
              "<div><iframe src=\"https://4384b6323719761445.gradio.live\" width=\"100%\" height=\"500\" allow=\"autoplay; camera; microphone; clipboard-read; clipboard-write;\" frameborder=\"0\" allowfullscreen></iframe></div>"
            ]
          },
          "metadata": {}
        }
      ]
    },
    {
      "cell_type": "code",
      "source": [
        "import gradio as gr\n",
        "\n",
        "with gr.Blocks() as demo:\n",
        "  question_count = gr.State(1)\n",
        "  add_question = gr.Button(\"Add Question\")\n",
        "  add_question.click(lambda n: n+1, question_count, question_count)\n",
        "\n",
        "  @gr.render(inputs=question_count)\n",
        "  def render_form(count):\n",
        "    questions = []\n",
        "    for i in range(count):\n",
        "      with gr.Column():\n",
        "        questions.append(gr.Textbox(label=f\"Question {i+1}\", placeholder=\"Enter question here\"))\n",
        "    gr.Button(\"Submit Quiz\")\n",
        "\n",
        "  demo.launch()"
      ],
      "metadata": {
        "colab": {
          "base_uri": "https://localhost:8080/",
          "height": 650
        },
        "id": "S9qwcDqVyvHN",
        "outputId": "c4d57a15-7b73-456e-9aed-9e2e764d9b35"
      },
      "execution_count": 6,
      "outputs": [
        {
          "output_type": "stream",
          "name": "stdout",
          "text": [
            "Running Gradio in a Colab notebook requires sharing enabled. Automatically setting `share=True` (you can turn this off by setting `share=False` in `launch()` explicitly).\n",
            "\n",
            "Colab notebook detected. To show errors in colab notebook, set debug=True in launch()\n",
            "* Running on public URL: https://d4e866406d51ba5452.gradio.live\n",
            "\n",
            "This share link expires in 72 hours. For free permanent hosting and GPU upgrades, run `gradio deploy` from the terminal in the working directory to deploy to Hugging Face Spaces (https://huggingface.co/spaces)\n"
          ]
        },
        {
          "output_type": "display_data",
          "data": {
            "text/plain": [
              "<IPython.core.display.HTML object>"
            ],
            "text/html": [
              "<div><iframe src=\"https://d4e866406d51ba5452.gradio.live\" width=\"100%\" height=\"500\" allow=\"autoplay; camera; microphone; clipboard-read; clipboard-write;\" frameborder=\"0\" allowfullscreen></iframe></div>"
            ]
          },
          "metadata": {}
        }
      ]
    },
    {
      "cell_type": "code",
      "source": [
        "import gradio as gr\n",
        "from PIL import Image\n",
        "\n",
        "with gr.Blocks() as demo:\n",
        "  grid_size = gr.State(3)\n",
        "  size_input = gr.Number(label=\"Grid Size\", value=3)\n",
        "  size_input.change(lambda n: n, size_input, grid_size)\n",
        "\n",
        "  @gr.render(inputs=grid_size)\n",
        "  def render_gallery(size):\n",
        "    with gr.Row():\n",
        "      for _ in range(size):\n",
        "        gr.Image(Image.new(\"RGB\", (200, 200)), label=\"Placeholder Image\")\n",
        "\n",
        "  demo.launch()"
      ],
      "metadata": {
        "colab": {
          "base_uri": "https://localhost:8080/",
          "height": 650
        },
        "id": "gROJA8Pbzu5u",
        "outputId": "6269d9e2-8f8d-40fd-c8e4-4abe3f6354da"
      },
      "execution_count": 7,
      "outputs": [
        {
          "output_type": "stream",
          "name": "stdout",
          "text": [
            "Running Gradio in a Colab notebook requires sharing enabled. Automatically setting `share=True` (you can turn this off by setting `share=False` in `launch()` explicitly).\n",
            "\n",
            "Colab notebook detected. To show errors in colab notebook, set debug=True in launch()\n",
            "* Running on public URL: https://986148cbfa7e7ebcf8.gradio.live\n",
            "\n",
            "This share link expires in 72 hours. For free permanent hosting and GPU upgrades, run `gradio deploy` from the terminal in the working directory to deploy to Hugging Face Spaces (https://huggingface.co/spaces)\n"
          ]
        },
        {
          "output_type": "display_data",
          "data": {
            "text/plain": [
              "<IPython.core.display.HTML object>"
            ],
            "text/html": [
              "<div><iframe src=\"https://986148cbfa7e7ebcf8.gradio.live\" width=\"100%\" height=\"500\" allow=\"autoplay; camera; microphone; clipboard-read; clipboard-write;\" frameborder=\"0\" allowfullscreen></iframe></div>"
            ]
          },
          "metadata": {}
        }
      ]
    },
    {
      "cell_type": "code",
      "source": [
        "import gradio as gr\n",
        "\n",
        "with gr.Blocks() as demo:\n",
        "  language_pairs = gr.State([\"en->es\", \"en->fr\"])\n",
        "  add_pair = gr.Button(\"Add Language Pair\")\n",
        "  add_pair.click(lambda pairs: pairs + [\"en->de\"], language_pairs, language_pairs)\n",
        "\n",
        "  @gr.render(inputs=language_pairs)\n",
        "  def render_translation(pairs):\n",
        "    for pair in pairs:\n",
        "      with gr.Row():\n",
        "        gr.Textbox(label=f\"Source ({pair.split('->')[0]})\")\n",
        "        gr.Textbox(label=f\"Translation ({pair.split('->')[1]})\")\n",
        "\n",
        "  demo.launch()"
      ],
      "metadata": {
        "colab": {
          "base_uri": "https://localhost:8080/",
          "height": 650
        },
        "id": "9VgkaTNd0fA9",
        "outputId": "2d3a642a-aba1-4969-9363-162e3b572102"
      },
      "execution_count": 8,
      "outputs": [
        {
          "output_type": "stream",
          "name": "stdout",
          "text": [
            "Running Gradio in a Colab notebook requires sharing enabled. Automatically setting `share=True` (you can turn this off by setting `share=False` in `launch()` explicitly).\n",
            "\n",
            "Colab notebook detected. To show errors in colab notebook, set debug=True in launch()\n",
            "* Running on public URL: https://94e82fcd109f92db85.gradio.live\n",
            "\n",
            "This share link expires in 72 hours. For free permanent hosting and GPU upgrades, run `gradio deploy` from the terminal in the working directory to deploy to Hugging Face Spaces (https://huggingface.co/spaces)\n"
          ]
        },
        {
          "output_type": "display_data",
          "data": {
            "text/plain": [
              "<IPython.core.display.HTML object>"
            ],
            "text/html": [
              "<div><iframe src=\"https://94e82fcd109f92db85.gradio.live\" width=\"100%\" height=\"500\" allow=\"autoplay; camera; microphone; clipboard-read; clipboard-write;\" frameborder=\"0\" allowfullscreen></iframe></div>"
            ]
          },
          "metadata": {}
        }
      ]
    },
    {
      "cell_type": "code",
      "source": [
        "import gradio as gr\n",
        "\n",
        "with gr.Blocks() as demo:\n",
        "  tasks = gr.State([])\n",
        "  add_task = gr.Button(\"Add Task\")\n",
        "  task_input = gr.Textbox(label=\"Enter new task\")\n",
        "  add_task.click(lambda inp, tasks: tasks + [inp], [task_input, tasks], tasks)\n",
        "\n",
        "\n",
        "  @gr.render(inputs=tasks)\n",
        "  def render_tasks(task_list):\n",
        "    for task in task_list:\n",
        "      with gr.Row():\n",
        "        gr.Textbox(label=\"\", value=task, interactive=False)\n",
        "\n",
        "  demo.launch()"
      ],
      "metadata": {
        "colab": {
          "base_uri": "https://localhost:8080/",
          "height": 650
        },
        "id": "vZealIR71oYI",
        "outputId": "0a911078-a2e3-417a-d0c3-40ccea3b5e38"
      },
      "execution_count": 10,
      "outputs": [
        {
          "output_type": "stream",
          "name": "stdout",
          "text": [
            "Running Gradio in a Colab notebook requires sharing enabled. Automatically setting `share=True` (you can turn this off by setting `share=False` in `launch()` explicitly).\n",
            "\n",
            "Colab notebook detected. To show errors in colab notebook, set debug=True in launch()\n",
            "* Running on public URL: https://65ec4616926f658e79.gradio.live\n",
            "\n",
            "This share link expires in 72 hours. For free permanent hosting and GPU upgrades, run `gradio deploy` from the terminal in the working directory to deploy to Hugging Face Spaces (https://huggingface.co/spaces)\n"
          ]
        },
        {
          "output_type": "display_data",
          "data": {
            "text/plain": [
              "<IPython.core.display.HTML object>"
            ],
            "text/html": [
              "<div><iframe src=\"https://65ec4616926f658e79.gradio.live\" width=\"100%\" height=\"500\" allow=\"autoplay; camera; microphone; clipboard-read; clipboard-write;\" frameborder=\"0\" allowfullscreen></iframe></div>"
            ]
          },
          "metadata": {}
        }
      ]
    },
    {
      "cell_type": "code",
      "source": [],
      "metadata": {
        "id": "RCNHSAaa2dte"
      },
      "execution_count": null,
      "outputs": []
    }
  ]
}