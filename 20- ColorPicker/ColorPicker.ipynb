{
  "nbformat": 4,
  "nbformat_minor": 0,
  "metadata": {
    "colab": {
      "provenance": []
    },
    "kernelspec": {
      "name": "python3",
      "display_name": "Python 3"
    },
    "language_info": {
      "name": "python"
    }
  },
  "cells": [
    {
      "cell_type": "markdown",
      "source": [
        "**Basic Color Picker**"
      ],
      "metadata": {
        "id": "KnzKqmzwxTFv"
      }
    },
    {
      "cell_type": "code",
      "execution_count": 1,
      "metadata": {
        "colab": {
          "base_uri": "https://localhost:8080/",
          "height": 646
        },
        "id": "UKcaYwfYxPGl",
        "outputId": "ee00fc31-2927-4499-ba57-41b050585ebb"
      },
      "outputs": [
        {
          "output_type": "stream",
          "name": "stdout",
          "text": [
            "It looks like you are running Gradio on a hosted Jupyter notebook, which requires `share=True`. Automatically setting `share=True` (you can turn this off by setting `share=False` in `launch()` explicitly).\n",
            "\n",
            "Colab notebook detected. To show errors in colab notebook, set debug=True in launch()\n",
            "* Running on public URL: https://3f1c8738dc5deb4011.gradio.live\n",
            "\n",
            "This share link expires in 1 week. For free permanent hosting and GPU upgrades, run `gradio deploy` from the terminal in the working directory to deploy to Hugging Face Spaces (https://huggingface.co/spaces)\n"
          ]
        },
        {
          "output_type": "display_data",
          "data": {
            "text/plain": [
              "<IPython.core.display.HTML object>"
            ],
            "text/html": [
              "<div><iframe src=\"https://3f1c8738dc5deb4011.gradio.live\" width=\"100%\" height=\"500\" allow=\"autoplay; camera; microphone; clipboard-read; clipboard-write;\" frameborder=\"0\" allowfullscreen></iframe></div>"
            ]
          },
          "metadata": {}
        },
        {
          "output_type": "execute_result",
          "data": {
            "text/plain": []
          },
          "metadata": {},
          "execution_count": 1
        }
      ],
      "source": [
        "import gradio as gr\n",
        "\n",
        "def show_color(color):\n",
        "    return color\n",
        "\n",
        "demo = gr.Interface(\n",
        "    fn=show_color,\n",
        "    inputs=gr.ColorPicker(label=\"Pick a color\"),\n",
        "    outputs=\"text\"\n",
        ")\n",
        "\n",
        "demo.launch()"
      ]
    },
    {
      "cell_type": "markdown",
      "source": [
        "**Color Picker with Default Value**"
      ],
      "metadata": {
        "id": "Mus4KWnSxXLM"
      }
    },
    {
      "cell_type": "code",
      "source": [
        "import gradio as gr\n",
        "\n",
        "def show_color(color):\n",
        "    return color\n",
        "\n",
        "demo = gr.Interface(\n",
        "    fn=show_color,\n",
        "    inputs=gr.ColorPicker(value=\"#FF5733\", label=\"Pick a color\"),\n",
        "    outputs=\"text\"\n",
        ")\n",
        "\n",
        "demo.launch()"
      ],
      "metadata": {
        "colab": {
          "base_uri": "https://localhost:8080/",
          "height": 646
        },
        "id": "UOts_b02xVz4",
        "outputId": "962f2229-1a57-453f-b45b-422cc401d610"
      },
      "execution_count": 2,
      "outputs": [
        {
          "output_type": "stream",
          "name": "stdout",
          "text": [
            "It looks like you are running Gradio on a hosted Jupyter notebook, which requires `share=True`. Automatically setting `share=True` (you can turn this off by setting `share=False` in `launch()` explicitly).\n",
            "\n",
            "Colab notebook detected. To show errors in colab notebook, set debug=True in launch()\n",
            "* Running on public URL: https://661e75be669fbff124.gradio.live\n",
            "\n",
            "This share link expires in 1 week. For free permanent hosting and GPU upgrades, run `gradio deploy` from the terminal in the working directory to deploy to Hugging Face Spaces (https://huggingface.co/spaces)\n"
          ]
        },
        {
          "output_type": "display_data",
          "data": {
            "text/plain": [
              "<IPython.core.display.HTML object>"
            ],
            "text/html": [
              "<div><iframe src=\"https://661e75be669fbff124.gradio.live\" width=\"100%\" height=\"500\" allow=\"autoplay; camera; microphone; clipboard-read; clipboard-write;\" frameborder=\"0\" allowfullscreen></iframe></div>"
            ]
          },
          "metadata": {}
        },
        {
          "output_type": "execute_result",
          "data": {
            "text/plain": []
          },
          "metadata": {},
          "execution_count": 2
        }
      ]
    },
    {
      "cell_type": "markdown",
      "source": [
        "**Color Picker with Dynamic Update**"
      ],
      "metadata": {
        "id": "uAlpqf_pxZh5"
      }
    },
    {
      "cell_type": "code",
      "source": [
        "import gradio as gr\n",
        "\n",
        "def update_color(color):\n",
        "    return color\n",
        "\n",
        "with gr.Blocks() as demo:\n",
        "    color_picker = gr.ColorPicker(label=\"Pick a color\")\n",
        "    output = gr.ColorPicker(label=\"Selected Color\")\n",
        "\n",
        "    color_picker.change(fn=update_color, inputs=color_picker, outputs=output)\n",
        "\n",
        "demo.launch()"
      ],
      "metadata": {
        "colab": {
          "base_uri": "https://localhost:8080/",
          "height": 646
        },
        "id": "WRkaQR8DxfiU",
        "outputId": "ef2ca812-4bac-4b30-c624-9c06fd201fcc"
      },
      "execution_count": 3,
      "outputs": [
        {
          "output_type": "stream",
          "name": "stdout",
          "text": [
            "It looks like you are running Gradio on a hosted Jupyter notebook, which requires `share=True`. Automatically setting `share=True` (you can turn this off by setting `share=False` in `launch()` explicitly).\n",
            "\n",
            "Colab notebook detected. To show errors in colab notebook, set debug=True in launch()\n",
            "* Running on public URL: https://bfbe244fdbddf80513.gradio.live\n",
            "\n",
            "This share link expires in 1 week. For free permanent hosting and GPU upgrades, run `gradio deploy` from the terminal in the working directory to deploy to Hugging Face Spaces (https://huggingface.co/spaces)\n"
          ]
        },
        {
          "output_type": "display_data",
          "data": {
            "text/plain": [
              "<IPython.core.display.HTML object>"
            ],
            "text/html": [
              "<div><iframe src=\"https://bfbe244fdbddf80513.gradio.live\" width=\"100%\" height=\"500\" allow=\"autoplay; camera; microphone; clipboard-read; clipboard-write;\" frameborder=\"0\" allowfullscreen></iframe></div>"
            ]
          },
          "metadata": {}
        },
        {
          "output_type": "execute_result",
          "data": {
            "text/plain": []
          },
          "metadata": {},
          "execution_count": 3
        }
      ]
    },
    {
      "cell_type": "markdown",
      "source": [
        "**Dynamic Text Color Customization**"
      ],
      "metadata": {
        "id": "u7ALrEHXxghf"
      }
    },
    {
      "cell_type": "code",
      "source": [
        "import gradio as gr\n",
        "\n",
        "def change_text_color(text, color):\n",
        "    return f\"<p style='color: {color};'>{text}</p>\"\n",
        "\n",
        "inputs = [\n",
        "    gr.Textbox(label=\"Enter Text\"),\n",
        "    gr.ColorPicker(label=\"Pick a text color\")\n",
        "]\n",
        "outputs = gr.HTML(label=\"Customized Text\")\n",
        "\n",
        "demo = gr.Interface(\n",
        "    fn=change_text_color,\n",
        "    inputs=inputs,\n",
        "    outputs=outputs\n",
        ")\n",
        "\n",
        "demo.launch()"
      ],
      "metadata": {
        "colab": {
          "base_uri": "https://localhost:8080/",
          "height": 646
        },
        "id": "9oHbRhAjxgEt",
        "outputId": "2fb04d09-833e-4927-a022-d887d954d4d4"
      },
      "execution_count": 4,
      "outputs": [
        {
          "output_type": "stream",
          "name": "stdout",
          "text": [
            "It looks like you are running Gradio on a hosted Jupyter notebook, which requires `share=True`. Automatically setting `share=True` (you can turn this off by setting `share=False` in `launch()` explicitly).\n",
            "\n",
            "Colab notebook detected. To show errors in colab notebook, set debug=True in launch()\n",
            "* Running on public URL: https://ab34d0a5caf15954d6.gradio.live\n",
            "\n",
            "This share link expires in 1 week. For free permanent hosting and GPU upgrades, run `gradio deploy` from the terminal in the working directory to deploy to Hugging Face Spaces (https://huggingface.co/spaces)\n"
          ]
        },
        {
          "output_type": "display_data",
          "data": {
            "text/plain": [
              "<IPython.core.display.HTML object>"
            ],
            "text/html": [
              "<div><iframe src=\"https://ab34d0a5caf15954d6.gradio.live\" width=\"100%\" height=\"500\" allow=\"autoplay; camera; microphone; clipboard-read; clipboard-write;\" frameborder=\"0\" allowfullscreen></iframe></div>"
            ]
          },
          "metadata": {}
        },
        {
          "output_type": "execute_result",
          "data": {
            "text/plain": []
          },
          "metadata": {},
          "execution_count": 4
        }
      ]
    },
    {
      "cell_type": "markdown",
      "source": [
        "**Color Picker with Multiple Inputs**"
      ],
      "metadata": {
        "id": "CdWXB3Mcxkfl"
      }
    },
    {
      "cell_type": "code",
      "source": [
        "import gradio as gr\n",
        "\n",
        "def change_bg_color(color, font_size):\n",
        "    return gr.Markdown(f\"<div style='background-color: {color}; font-size: {font_size}px;'>This is a colored box</div>\")\n",
        "\n",
        "color_picker = gr.ColorPicker(label=\"Choose a background color\")\n",
        "font_size_slider = gr.Slider(10, 50, step=1, label=\"Font Size\")\n",
        "outputs = gr.HTML()\n",
        "\n",
        "demo = gr.Interface(\n",
        "    fn=change_bg_color,\n",
        "    inputs=[color_picker, font_size_slider],\n",
        "    outputs=outputs\n",
        ")\n",
        "\n",
        "demo.launch()"
      ],
      "metadata": {
        "colab": {
          "base_uri": "https://localhost:8080/",
          "height": 646
        },
        "id": "HjESYK0kxkCq",
        "outputId": "187b4f99-4124-4085-f345-619ec26dd246"
      },
      "execution_count": 5,
      "outputs": [
        {
          "output_type": "stream",
          "name": "stdout",
          "text": [
            "It looks like you are running Gradio on a hosted Jupyter notebook, which requires `share=True`. Automatically setting `share=True` (you can turn this off by setting `share=False` in `launch()` explicitly).\n",
            "\n",
            "Colab notebook detected. To show errors in colab notebook, set debug=True in launch()\n",
            "* Running on public URL: https://166ed55da2518f8868.gradio.live\n",
            "\n",
            "This share link expires in 1 week. For free permanent hosting and GPU upgrades, run `gradio deploy` from the terminal in the working directory to deploy to Hugging Face Spaces (https://huggingface.co/spaces)\n"
          ]
        },
        {
          "output_type": "display_data",
          "data": {
            "text/plain": [
              "<IPython.core.display.HTML object>"
            ],
            "text/html": [
              "<div><iframe src=\"https://166ed55da2518f8868.gradio.live\" width=\"100%\" height=\"500\" allow=\"autoplay; camera; microphone; clipboard-read; clipboard-write;\" frameborder=\"0\" allowfullscreen></iframe></div>"
            ]
          },
          "metadata": {}
        },
        {
          "output_type": "execute_result",
          "data": {
            "text/plain": []
          },
          "metadata": {},
          "execution_count": 5
        }
      ]
    },
    {
      "cell_type": "markdown",
      "source": [
        "**Color Picker with Animated Gradient Background**"
      ],
      "metadata": {
        "id": "doADuoYPxok7"
      }
    },
    {
      "cell_type": "code",
      "source": [
        "import gradio as gr\n",
        "\n",
        "def create_gradient(color1, color2):\n",
        "    gradient_html = f\"\"\"\n",
        "    <div style=\"\n",
        "        width: 100%;\n",
        "        height: 300px;\n",
        "        background: linear-gradient(45deg, {color1}, {color2});\n",
        "        animation: gradient 10s ease infinite;\n",
        "    \"></div>\n",
        "    <style>\n",
        "    @keyframes gradient {{\n",
        "        0% {{ background-position: 0% 50%; }}\n",
        "        50% {{ background-position: 100% 50%; }}\n",
        "        100% {{ background-position: 0% 50%; }}\n",
        "    }}\n",
        "    </style>\n",
        "    \"\"\"\n",
        "    return gr.HTML(gradient_html)\n",
        "\n",
        "color_picker1 = gr.ColorPicker(label=\"Color 1\", value=\"#FF0000\")\n",
        "color_picker2 = gr.ColorPicker(label=\"Color 2\", value=\"#0000FF\")\n",
        "output = gr.HTML()\n",
        "\n",
        "demo = gr.Interface(\n",
        "    fn=create_gradient,\n",
        "    inputs=[color_picker1, color_picker2],\n",
        "    outputs=output\n",
        ")\n",
        "\n",
        "demo.launch()"
      ],
      "metadata": {
        "colab": {
          "base_uri": "https://localhost:8080/",
          "height": 646
        },
        "id": "O35_JboZxoI9",
        "outputId": "c1fcda35-0762-4f40-8045-80794f16aa68"
      },
      "execution_count": 6,
      "outputs": [
        {
          "output_type": "stream",
          "name": "stdout",
          "text": [
            "It looks like you are running Gradio on a hosted Jupyter notebook, which requires `share=True`. Automatically setting `share=True` (you can turn this off by setting `share=False` in `launch()` explicitly).\n",
            "\n",
            "Colab notebook detected. To show errors in colab notebook, set debug=True in launch()\n",
            "* Running on public URL: https://d4145566b0aaa21294.gradio.live\n",
            "\n",
            "This share link expires in 1 week. For free permanent hosting and GPU upgrades, run `gradio deploy` from the terminal in the working directory to deploy to Hugging Face Spaces (https://huggingface.co/spaces)\n"
          ]
        },
        {
          "output_type": "display_data",
          "data": {
            "text/plain": [
              "<IPython.core.display.HTML object>"
            ],
            "text/html": [
              "<div><iframe src=\"https://d4145566b0aaa21294.gradio.live\" width=\"100%\" height=\"500\" allow=\"autoplay; camera; microphone; clipboard-read; clipboard-write;\" frameborder=\"0\" allowfullscreen></iframe></div>"
            ]
          },
          "metadata": {}
        },
        {
          "output_type": "execute_result",
          "data": {
            "text/plain": []
          },
          "metadata": {},
          "execution_count": 6
        }
      ]
    },
    {
      "cell_type": "markdown",
      "source": [
        "**Color Picker with Interactive Text Animation**"
      ],
      "metadata": {
        "id": "Fuqv1z1oyu08"
      }
    },
    {
      "cell_type": "code",
      "source": [
        "import gradio as gr\n",
        "\n",
        "def create_text_animation(color, text):\n",
        "    animation_html = f\"\"\"\n",
        "    <div style=\"\n",
        "        font-size: 36px;\n",
        "        font-weight: bold;\n",
        "        text-align: center;\n",
        "        animation: text-animation 5s infinite;\n",
        "    \">{text}</div>\n",
        "    <style>\n",
        "    @keyframes text-animation {{\n",
        "        0% {{ color: {color}; }}\n",
        "        25% {{ color: white; }}\n",
        "        50% {{ color: {color}; }}\n",
        "        75% {{ color: white; }}\n",
        "        100% {{ color: {color}; }}\n",
        "    }}\n",
        "    </style>\n",
        "    \"\"\"\n",
        "    return gr.HTML(animation_html)\n",
        "\n",
        "color_picker = gr.ColorPicker(label=\"Text Color\", value=\"#FF0000\")\n",
        "text_input = gr.Textbox(label=\"Enter Text\", value=\"Hello, Gradio!\")\n",
        "output = gr.HTML()\n",
        "\n",
        "demo = gr.Interface(\n",
        "    fn=create_text_animation,\n",
        "    inputs=[color_picker, text_input],\n",
        "    outputs=output\n",
        ")\n",
        "\n",
        "demo.launch()"
      ],
      "metadata": {
        "colab": {
          "base_uri": "https://localhost:8080/",
          "height": 646
        },
        "id": "BAGCzEKSy2An",
        "outputId": "fcc0e377-990a-4765-b91b-7f8868e67c18"
      },
      "execution_count": 7,
      "outputs": [
        {
          "output_type": "stream",
          "name": "stdout",
          "text": [
            "It looks like you are running Gradio on a hosted Jupyter notebook, which requires `share=True`. Automatically setting `share=True` (you can turn this off by setting `share=False` in `launch()` explicitly).\n",
            "\n",
            "Colab notebook detected. To show errors in colab notebook, set debug=True in launch()\n",
            "* Running on public URL: https://d178ce5ef0affebd51.gradio.live\n",
            "\n",
            "This share link expires in 1 week. For free permanent hosting and GPU upgrades, run `gradio deploy` from the terminal in the working directory to deploy to Hugging Face Spaces (https://huggingface.co/spaces)\n"
          ]
        },
        {
          "output_type": "display_data",
          "data": {
            "text/plain": [
              "<IPython.core.display.HTML object>"
            ],
            "text/html": [
              "<div><iframe src=\"https://d178ce5ef0affebd51.gradio.live\" width=\"100%\" height=\"500\" allow=\"autoplay; camera; microphone; clipboard-read; clipboard-write;\" frameborder=\"0\" allowfullscreen></iframe></div>"
            ]
          },
          "metadata": {}
        },
        {
          "output_type": "execute_result",
          "data": {
            "text/plain": []
          },
          "metadata": {},
          "execution_count": 7
        }
      ]
    },
    {
      "cell_type": "code",
      "source": [],
      "metadata": {
        "id": "XpHVLe9Qy2jY"
      },
      "execution_count": null,
      "outputs": []
    }
  ]
}