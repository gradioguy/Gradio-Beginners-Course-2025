{
  "nbformat": 4,
  "nbformat_minor": 0,
  "metadata": {
    "colab": {
      "provenance": []
    },
    "kernelspec": {
      "name": "python3",
      "display_name": "Python 3"
    },
    "language_info": {
      "name": "python"
    }
  },
  "cells": [
    {
      "cell_type": "markdown",
      "source": [
        "**Basic Matplotlib Plot**"
      ],
      "metadata": {
        "id": "TN5rGxqYXxdD"
      }
    },
    {
      "cell_type": "code",
      "execution_count": 1,
      "metadata": {
        "colab": {
          "base_uri": "https://localhost:8080/",
          "height": 646
        },
        "id": "VLP_J-BgXupd",
        "outputId": "1a804149-e9bd-4d21-e723-1b01a4d0f99b"
      },
      "outputs": [
        {
          "output_type": "stream",
          "name": "stdout",
          "text": [
            "It looks like you are running Gradio on a hosted Jupyter notebook, which requires `share=True`. Automatically setting `share=True` (you can turn this off by setting `share=False` in `launch()` explicitly).\n",
            "\n",
            "Colab notebook detected. To show errors in colab notebook, set debug=True in launch()\n",
            "* Running on public URL: https://a7cfba583be8e536e9.gradio.live\n",
            "\n",
            "This share link expires in 1 week. For free permanent hosting and GPU upgrades, run `gradio deploy` from the terminal in the working directory to deploy to Hugging Face Spaces (https://huggingface.co/spaces)\n"
          ]
        },
        {
          "output_type": "display_data",
          "data": {
            "text/plain": [
              "<IPython.core.display.HTML object>"
            ],
            "text/html": [
              "<div><iframe src=\"https://a7cfba583be8e536e9.gradio.live\" width=\"100%\" height=\"500\" allow=\"autoplay; camera; microphone; clipboard-read; clipboard-write;\" frameborder=\"0\" allowfullscreen></iframe></div>"
            ]
          },
          "metadata": {}
        },
        {
          "output_type": "execute_result",
          "data": {
            "text/plain": []
          },
          "metadata": {},
          "execution_count": 1
        }
      ],
      "source": [
        "import matplotlib.pyplot as plt\n",
        "import gradio as gr\n",
        "\n",
        "def plot_function():\n",
        "    fig, ax = plt.subplots()\n",
        "    ax.plot([1, 2, 3], [4, 5, 6])\n",
        "    return fig\n",
        "\n",
        "demo = gr.Interface(fn=plot_function, inputs=None, outputs=\"plot\")\n",
        "demo.launch()"
      ]
    },
    {
      "cell_type": "markdown",
      "source": [
        "**Line Plot with Labels and Title**"
      ],
      "metadata": {
        "id": "lGvBS554X2d9"
      }
    },
    {
      "cell_type": "code",
      "source": [
        "import matplotlib.pyplot as plt\n",
        "import gradio as gr\n",
        "\n",
        "def plot_function():\n",
        "    fig, ax = plt.subplots()\n",
        "    ax.plot([1, 2, 3], [4, 5, 6], label='Line 1')\n",
        "    ax.set_xlabel('X-axis')\n",
        "    ax.set_ylabel('Y-axis')\n",
        "    ax.set_title('Simple Line Plot')\n",
        "    ax.legend()\n",
        "    return fig\n",
        "\n",
        "demo = gr.Interface(fn=plot_function, inputs=None, outputs=\"plot\")\n",
        "demo.launch()"
      ],
      "metadata": {
        "colab": {
          "base_uri": "https://localhost:8080/",
          "height": 646
        },
        "id": "BOYxTSxbX0RT",
        "outputId": "a3159aa4-8678-40ff-e4d1-bb34fd6fb0ac"
      },
      "execution_count": 2,
      "outputs": [
        {
          "output_type": "stream",
          "name": "stdout",
          "text": [
            "It looks like you are running Gradio on a hosted Jupyter notebook, which requires `share=True`. Automatically setting `share=True` (you can turn this off by setting `share=False` in `launch()` explicitly).\n",
            "\n",
            "Colab notebook detected. To show errors in colab notebook, set debug=True in launch()\n",
            "* Running on public URL: https://55e5f8068c806359fc.gradio.live\n",
            "\n",
            "This share link expires in 1 week. For free permanent hosting and GPU upgrades, run `gradio deploy` from the terminal in the working directory to deploy to Hugging Face Spaces (https://huggingface.co/spaces)\n"
          ]
        },
        {
          "output_type": "display_data",
          "data": {
            "text/plain": [
              "<IPython.core.display.HTML object>"
            ],
            "text/html": [
              "<div><iframe src=\"https://55e5f8068c806359fc.gradio.live\" width=\"100%\" height=\"500\" allow=\"autoplay; camera; microphone; clipboard-read; clipboard-write;\" frameborder=\"0\" allowfullscreen></iframe></div>"
            ]
          },
          "metadata": {}
        },
        {
          "output_type": "execute_result",
          "data": {
            "text/plain": []
          },
          "metadata": {},
          "execution_count": 2
        }
      ]
    },
    {
      "cell_type": "markdown",
      "source": [
        "**Bar Chart**"
      ],
      "metadata": {
        "id": "0sWZ4gb2X6xg"
      }
    },
    {
      "cell_type": "code",
      "source": [
        "import matplotlib.pyplot as plt\n",
        "import gradio as gr\n",
        "\n",
        "def plot_function():\n",
        "    fig, ax = plt.subplots()\n",
        "    categories = ['A', 'B', 'C']\n",
        "    values = [3, 1, 2]\n",
        "    ax.bar(categories, values, color='blue')\n",
        "    ax.set_xlabel('Category')\n",
        "    ax.set_ylabel('Value')\n",
        "    ax.set_title('Bar Chart')\n",
        "    return fig\n",
        "\n",
        "demo = gr.Interface(fn=plot_function, inputs=None, outputs=\"plot\")\n",
        "demo.launch()"
      ],
      "metadata": {
        "colab": {
          "base_uri": "https://localhost:8080/",
          "height": 646
        },
        "id": "xlpJ7UmzX5o2",
        "outputId": "ed6c734e-c8d7-4ac3-8169-ab6325e8ec67"
      },
      "execution_count": 3,
      "outputs": [
        {
          "output_type": "stream",
          "name": "stdout",
          "text": [
            "It looks like you are running Gradio on a hosted Jupyter notebook, which requires `share=True`. Automatically setting `share=True` (you can turn this off by setting `share=False` in `launch()` explicitly).\n",
            "\n",
            "Colab notebook detected. To show errors in colab notebook, set debug=True in launch()\n",
            "* Running on public URL: https://21038c2fa2e95fe202.gradio.live\n",
            "\n",
            "This share link expires in 1 week. For free permanent hosting and GPU upgrades, run `gradio deploy` from the terminal in the working directory to deploy to Hugging Face Spaces (https://huggingface.co/spaces)\n"
          ]
        },
        {
          "output_type": "display_data",
          "data": {
            "text/plain": [
              "<IPython.core.display.HTML object>"
            ],
            "text/html": [
              "<div><iframe src=\"https://21038c2fa2e95fe202.gradio.live\" width=\"100%\" height=\"500\" allow=\"autoplay; camera; microphone; clipboard-read; clipboard-write;\" frameborder=\"0\" allowfullscreen></iframe></div>"
            ]
          },
          "metadata": {}
        },
        {
          "output_type": "execute_result",
          "data": {
            "text/plain": []
          },
          "metadata": {},
          "execution_count": 3
        }
      ]
    },
    {
      "cell_type": "markdown",
      "source": [
        "**Plot with Multiple Lines**"
      ],
      "metadata": {
        "id": "bynwFfxcX-Sx"
      }
    },
    {
      "cell_type": "code",
      "source": [
        "import matplotlib.pyplot as plt\n",
        "import gradio as gr\n",
        "\n",
        "def plot_function():\n",
        "    fig, ax = plt.subplots()\n",
        "    x = [0.1 * i for i in range(100)]\n",
        "    y1 = [x_val for x_val in x]\n",
        "    y2 = [x_val ** 2 for x_val in x]\n",
        "    ax.plot(x, y1, label='Linear')\n",
        "    ax.plot(x, y2, label='Quadratic')\n",
        "    ax.set_xlabel('X-axis')\n",
        "    ax.set_ylabel('Y-axis')\n",
        "    ax.set_title('Multiple Lines')\n",
        "    ax.legend()\n",
        "    return fig\n",
        "\n",
        "demo = gr.Interface(fn=plot_function, inputs=None, outputs=\"plot\")\n",
        "demo.launch()"
      ],
      "metadata": {
        "colab": {
          "base_uri": "https://localhost:8080/",
          "height": 646
        },
        "id": "J-C5lTZFX80Y",
        "outputId": "1d97f940-c596-4c6c-b146-5ce2d7ffaf73"
      },
      "execution_count": 4,
      "outputs": [
        {
          "output_type": "stream",
          "name": "stdout",
          "text": [
            "It looks like you are running Gradio on a hosted Jupyter notebook, which requires `share=True`. Automatically setting `share=True` (you can turn this off by setting `share=False` in `launch()` explicitly).\n",
            "\n",
            "Colab notebook detected. To show errors in colab notebook, set debug=True in launch()\n",
            "* Running on public URL: https://b67f2fc1d6dea44c93.gradio.live\n",
            "\n",
            "This share link expires in 1 week. For free permanent hosting and GPU upgrades, run `gradio deploy` from the terminal in the working directory to deploy to Hugging Face Spaces (https://huggingface.co/spaces)\n"
          ]
        },
        {
          "output_type": "display_data",
          "data": {
            "text/plain": [
              "<IPython.core.display.HTML object>"
            ],
            "text/html": [
              "<div><iframe src=\"https://b67f2fc1d6dea44c93.gradio.live\" width=\"100%\" height=\"500\" allow=\"autoplay; camera; microphone; clipboard-read; clipboard-write;\" frameborder=\"0\" allowfullscreen></iframe></div>"
            ]
          },
          "metadata": {}
        },
        {
          "output_type": "execute_result",
          "data": {
            "text/plain": []
          },
          "metadata": {},
          "execution_count": 4
        }
      ]
    },
    {
      "cell_type": "markdown",
      "source": [
        "**Plot with Annotations**"
      ],
      "metadata": {
        "id": "j-GGxtzQYDEV"
      }
    },
    {
      "cell_type": "code",
      "source": [
        "import matplotlib.pyplot as plt\n",
        "import gradio as gr\n",
        "\n",
        "def plot_function():\n",
        "    fig, ax = plt.subplots()\n",
        "    x = [0.1 * i for i in range(100)]\n",
        "    y = [x_val ** 2 for x_val in x]\n",
        "    ax.plot(x, y)\n",
        "    ax.annotate('Start', xy=(0, 0), xytext=(0.5, 10),\n",
        "                arrowprops=dict(facecolor='black', shrink=0.05))\n",
        "    ax.annotate('End', xy=(10, 100), xytext=(5, 80),\n",
        "                arrowprops=dict(facecolor='black', shrink=0.05))\n",
        "    ax.set_xlabel('X-axis')\n",
        "    ax.set_ylabel('Y-axis')\n",
        "    ax.set_title('Annotated Plot')\n",
        "    return fig\n",
        "\n",
        "demo = gr.Interface(fn=plot_function, inputs=None, outputs=\"plot\")\n",
        "demo.launch()"
      ],
      "metadata": {
        "colab": {
          "base_uri": "https://localhost:8080/",
          "height": 646
        },
        "id": "xINuqdeRYBgW",
        "outputId": "9ce70bca-7276-4be2-f77a-ecd7d9602845"
      },
      "execution_count": 5,
      "outputs": [
        {
          "output_type": "stream",
          "name": "stdout",
          "text": [
            "It looks like you are running Gradio on a hosted Jupyter notebook, which requires `share=True`. Automatically setting `share=True` (you can turn this off by setting `share=False` in `launch()` explicitly).\n",
            "\n",
            "Colab notebook detected. To show errors in colab notebook, set debug=True in launch()\n",
            "* Running on public URL: https://963489b86a76f6442e.gradio.live\n",
            "\n",
            "This share link expires in 1 week. For free permanent hosting and GPU upgrades, run `gradio deploy` from the terminal in the working directory to deploy to Hugging Face Spaces (https://huggingface.co/spaces)\n"
          ]
        },
        {
          "output_type": "display_data",
          "data": {
            "text/plain": [
              "<IPython.core.display.HTML object>"
            ],
            "text/html": [
              "<div><iframe src=\"https://963489b86a76f6442e.gradio.live\" width=\"100%\" height=\"500\" allow=\"autoplay; camera; microphone; clipboard-read; clipboard-write;\" frameborder=\"0\" allowfullscreen></iframe></div>"
            ]
          },
          "metadata": {}
        },
        {
          "output_type": "execute_result",
          "data": {
            "text/plain": []
          },
          "metadata": {},
          "execution_count": 5
        }
      ]
    },
    {
      "cell_type": "markdown",
      "source": [
        "**Interactive Sine Wave Plot**"
      ],
      "metadata": {
        "id": "VY0dl8u_YGOt"
      }
    },
    {
      "cell_type": "code",
      "source": [
        "import matplotlib.pyplot as plt\n",
        "import numpy as np\n",
        "import gradio as gr\n",
        "\n",
        "def plot_sine_wave(frequency, amplitude, phase_shift, offset):\n",
        "    # Create a figure with multiple subplots\n",
        "    fig, axs = plt.subplots(2, 2, figsize=(10, 8))\n",
        "\n",
        "    # Generate x values\n",
        "    x = np.linspace(0, 2 * np.pi, 100)\n",
        "\n",
        "    # Calculate y values for the sine wave\n",
        "    y = amplitude * np.sin(frequency * x + phase_shift) + offset\n",
        "\n",
        "    # Plot the sine wave\n",
        "    axs[0, 0].plot(x, y, label=f'Amplitude: {amplitude}\\nFrequency: {frequency}\\nPhase Shift: {phase_shift}\\nOffset: {offset}')\n",
        "    axs[0, 0].set_title('Sine Wave')\n",
        "    axs[0, 0].set_xlabel('X-axis')\n",
        "    axs[0, 0].set_ylabel('Y-axis')\n",
        "    axs[0, 0].legend()\n",
        "\n",
        "    # Plot the sine wave with annotations\n",
        "    axs[0, 1].plot(x, y, label='Sine Wave')\n",
        "    axs[0, 1].annotate('Peak', xy=(np.pi / 2, amplitude + offset), xytext=(np.pi / 2, amplitude + offset + 1),\n",
        "                       arrowprops=dict(facecolor='black', shrink=0.05))\n",
        "    axs[0, 1].annotate('Trough', xy=(3 * np.pi / 2, -amplitude + offset), xytext=(3 * np.pi / 2, -amplitude + offset - 1),\n",
        "                       arrowprops=dict(facecolor='black', shrink=0.05))\n",
        "    axs[0, 1].set_title('Sine Wave with Annotations')\n",
        "    axs[0, 1].set_xlabel('X-axis')\n",
        "    axs[0, 1].set_ylabel('Y-axis')\n",
        "    axs[0, 1].legend()\n",
        "\n",
        "    # Plot the sine wave with a different style\n",
        "    axs[1, 0].plot(x, y, color='green', linestyle='--', marker='o')\n",
        "    axs[1, 0].set_title('Styled Sine Wave')\n",
        "    axs[1, 0].set_xlabel('X-axis')\n",
        "    axs[1, 0].set_ylabel('Y-axis')\n",
        "\n",
        "    # Plot the sine wave with subplots\n",
        "    axs[1, 1].plot(x, y, label='Sine Wave')\n",
        "    axs[1, 1].set_title('Subplot of Sine Wave')\n",
        "    axs[1, 1].set_xlabel('X-axis')\n",
        "    axs[1, 1].set_ylabel('Y-axis')\n",
        "    axs[1, 1].legend()\n",
        "\n",
        "    # Adjust layout\n",
        "    plt.tight_layout()\n",
        "    return fig\n",
        "\n",
        "# Define the Gradio interface\n",
        "demo = gr.Interface(\n",
        "    fn=plot_sine_wave,\n",
        "    inputs=[\n",
        "        gr.Slider(1, 10, value=1, step=0.1, label=\"Frequency\"),\n",
        "        gr.Slider(0.1, 2, value=1, step=0.1, label=\"Amplitude\"),\n",
        "        gr.Slider(0, 2 * np.pi, value=0, step=0.1, label=\"Phase Shift\"),\n",
        "        gr.Slider(-1, 1, value=0, step=0.1, label=\"Offset\")\n",
        "    ],\n",
        "    outputs=\"plot\",\n",
        "    live=True  # Enable live updates\n",
        ")\n",
        "\n",
        "# Launch the Gradio app\n",
        "demo.launch()"
      ],
      "metadata": {
        "colab": {
          "base_uri": "https://localhost:8080/",
          "height": 646
        },
        "id": "aAE5SsgUYEpw",
        "outputId": "8d56f741-1321-4331-c432-ed0ac28e872e"
      },
      "execution_count": 7,
      "outputs": [
        {
          "output_type": "stream",
          "name": "stdout",
          "text": [
            "It looks like you are running Gradio on a hosted Jupyter notebook, which requires `share=True`. Automatically setting `share=True` (you can turn this off by setting `share=False` in `launch()` explicitly).\n",
            "\n",
            "Colab notebook detected. To show errors in colab notebook, set debug=True in launch()\n",
            "* Running on public URL: https://90e56c91dfb4253c82.gradio.live\n",
            "\n",
            "This share link expires in 1 week. For free permanent hosting and GPU upgrades, run `gradio deploy` from the terminal in the working directory to deploy to Hugging Face Spaces (https://huggingface.co/spaces)\n"
          ]
        },
        {
          "output_type": "display_data",
          "data": {
            "text/plain": [
              "<IPython.core.display.HTML object>"
            ],
            "text/html": [
              "<div><iframe src=\"https://90e56c91dfb4253c82.gradio.live\" width=\"100%\" height=\"500\" allow=\"autoplay; camera; microphone; clipboard-read; clipboard-write;\" frameborder=\"0\" allowfullscreen></iframe></div>"
            ]
          },
          "metadata": {}
        },
        {
          "output_type": "execute_result",
          "data": {
            "text/plain": []
          },
          "metadata": {},
          "execution_count": 7
        }
      ]
    },
    {
      "cell_type": "code",
      "source": [],
      "metadata": {
        "id": "3_LE5Vd_YH0U"
      },
      "execution_count": null,
      "outputs": []
    }
  ]
}