{
  "nbformat": 4,
  "nbformat_minor": 0,
  "metadata": {
    "colab": {
      "provenance": []
    },
    "kernelspec": {
      "name": "python3",
      "display_name": "Python 3"
    },
    "language_info": {
      "name": "python"
    }
  },
  "cells": [
    {
      "cell_type": "markdown",
      "source": [
        "**Display Static Images**"
      ],
      "metadata": {
        "id": "yJ6Bemos_U9w"
      }
    },
    {
      "cell_type": "code",
      "execution_count": 1,
      "metadata": {
        "colab": {
          "base_uri": "https://localhost:8080/",
          "height": 646
        },
        "id": "8lLvc-_P_IWQ",
        "outputId": "61d5c741-dc60-4ccd-8242-3d21e4fa4dbc"
      },
      "outputs": [
        {
          "output_type": "stream",
          "name": "stdout",
          "text": [
            "It looks like you are running Gradio on a hosted Jupyter notebook, which requires `share=True`. Automatically setting `share=True` (you can turn this off by setting `share=False` in `launch()` explicitly).\n",
            "\n",
            "Colab notebook detected. To show errors in colab notebook, set debug=True in launch()\n",
            "* Running on public URL: https://be09b3a4dd957118ae.gradio.live\n",
            "\n",
            "This share link expires in 1 week. For free permanent hosting and GPU upgrades, run `gradio deploy` from the terminal in the working directory to deploy to Hugging Face Spaces (https://huggingface.co/spaces)\n"
          ]
        },
        {
          "output_type": "display_data",
          "data": {
            "text/plain": [
              "<IPython.core.display.HTML object>"
            ],
            "text/html": [
              "<div><iframe src=\"https://be09b3a4dd957118ae.gradio.live\" width=\"100%\" height=\"500\" allow=\"autoplay; camera; microphone; clipboard-read; clipboard-write;\" frameborder=\"0\" allowfullscreen></iframe></div>"
            ]
          },
          "metadata": {}
        },
        {
          "output_type": "execute_result",
          "data": {
            "text/plain": []
          },
          "metadata": {},
          "execution_count": 1
        }
      ],
      "source": [
        "import gradio as gr\n",
        "\n",
        "def display_images():\n",
        "    images = [\n",
        "        \"https://example.com/image1.jpg\",\n",
        "        \"https://example.com/image2.jpg\",\n",
        "        \"https://example.com/image3.jpg\"\n",
        "    ]\n",
        "    return images\n",
        "\n",
        "with gr.Blocks() as demo:\n",
        "    gallery = gr.Gallery(label=\"Static Images\", columns=[3], rows=[1], object_fit=\"contain\")\n",
        "    btn = gr.Button(\"Display Images\")\n",
        "\n",
        "    btn.click(display_images, None, gallery)\n",
        "\n",
        "demo.launch()"
      ]
    },
    {
      "cell_type": "markdown",
      "source": [
        "**Display Images with Captions**"
      ],
      "metadata": {
        "id": "sZMLFe1p_dok"
      }
    },
    {
      "cell_type": "code",
      "source": [
        "import gradio as gr\n",
        "\n",
        "def display_images():\n",
        "    images = [\n",
        "        (\"https://example.com/image1.jpg\", \"Caption 1\"),\n",
        "        (\"https://example.com/image2.jpg\", \"Caption 2\"),\n",
        "        (\"https://example.com/image3.jpg\", \"Caption 3\")\n",
        "    ]\n",
        "    return images\n",
        "\n",
        "with gr.Blocks() as demo:\n",
        "    gallery = gr.Gallery(label=\"Images with Captions\", columns=[3], rows=[1], object_fit=\"contain\")\n",
        "    btn = gr.Button(\"Display Images\")\n",
        "\n",
        "    btn.click(display_images, None, gallery)\n",
        "\n",
        "demo.launch()"
      ],
      "metadata": {
        "colab": {
          "base_uri": "https://localhost:8080/",
          "height": 646
        },
        "id": "ILz2apCO_ZoL",
        "outputId": "246103cb-a7de-48e6-e858-f1575bdd070a"
      },
      "execution_count": 2,
      "outputs": [
        {
          "output_type": "stream",
          "name": "stdout",
          "text": [
            "It looks like you are running Gradio on a hosted Jupyter notebook, which requires `share=True`. Automatically setting `share=True` (you can turn this off by setting `share=False` in `launch()` explicitly).\n",
            "\n",
            "Colab notebook detected. To show errors in colab notebook, set debug=True in launch()\n",
            "* Running on public URL: https://70c15700026f1e4d6e.gradio.live\n",
            "\n",
            "This share link expires in 1 week. For free permanent hosting and GPU upgrades, run `gradio deploy` from the terminal in the working directory to deploy to Hugging Face Spaces (https://huggingface.co/spaces)\n"
          ]
        },
        {
          "output_type": "display_data",
          "data": {
            "text/plain": [
              "<IPython.core.display.HTML object>"
            ],
            "text/html": [
              "<div><iframe src=\"https://70c15700026f1e4d6e.gradio.live\" width=\"100%\" height=\"500\" allow=\"autoplay; camera; microphone; clipboard-read; clipboard-write;\" frameborder=\"0\" allowfullscreen></iframe></div>"
            ]
          },
          "metadata": {}
        },
        {
          "output_type": "execute_result",
          "data": {
            "text/plain": []
          },
          "metadata": {},
          "execution_count": 2
        }
      ]
    },
    {
      "cell_type": "markdown",
      "source": [
        "**Allow User Uploads**"
      ],
      "metadata": {
        "id": "PhTiOQA8_nsC"
      }
    },
    {
      "cell_type": "code",
      "source": [
        "import gradio as gr\n",
        "\n",
        "def display_images(images):\n",
        "    return images\n",
        "\n",
        "with gr.Blocks() as demo:\n",
        "    gallery = gr.Gallery(label=\"Upload Images\", columns=[5], object_fit=\"contain\")\n",
        "    btn = gr.Button(\"Upload Images\")\n",
        "\n",
        "    btn.click(display_images, gallery, gallery)\n",
        "\n",
        "demo.launch()"
      ],
      "metadata": {
        "colab": {
          "base_uri": "https://localhost:8080/",
          "height": 646
        },
        "id": "tQmdFI71_nRh",
        "outputId": "2593f366-a1aa-44c9-8bdb-4ee932e51e88"
      },
      "execution_count": 3,
      "outputs": [
        {
          "output_type": "stream",
          "name": "stdout",
          "text": [
            "It looks like you are running Gradio on a hosted Jupyter notebook, which requires `share=True`. Automatically setting `share=True` (you can turn this off by setting `share=False` in `launch()` explicitly).\n",
            "\n",
            "Colab notebook detected. To show errors in colab notebook, set debug=True in launch()\n",
            "* Running on public URL: https://ac36bdaf9d7dd9489f.gradio.live\n",
            "\n",
            "This share link expires in 1 week. For free permanent hosting and GPU upgrades, run `gradio deploy` from the terminal in the working directory to deploy to Hugging Face Spaces (https://huggingface.co/spaces)\n"
          ]
        },
        {
          "output_type": "display_data",
          "data": {
            "text/plain": [
              "<IPython.core.display.HTML object>"
            ],
            "text/html": [
              "<div><iframe src=\"https://ac36bdaf9d7dd9489f.gradio.live\" width=\"100%\" height=\"500\" allow=\"autoplay; camera; microphone; clipboard-read; clipboard-write;\" frameborder=\"0\" allowfullscreen></iframe></div>"
            ]
          },
          "metadata": {}
        },
        {
          "output_type": "execute_result",
          "data": {
            "text/plain": []
          },
          "metadata": {},
          "execution_count": 3
        }
      ]
    },
    {
      "cell_type": "markdown",
      "source": [
        "**Display Videos**"
      ],
      "metadata": {
        "id": "eRGVekQH_t6N"
      }
    },
    {
      "cell_type": "code",
      "source": [
        "import gradio as gr\n",
        "\n",
        "def display_videos():\n",
        "    videos = [\n",
        "        \"https://example.com/video1.mp4\",\n",
        "        \"https://example.com/video2.mp4\",\n",
        "        \"https://example.com/video3.mp4\"\n",
        "    ]\n",
        "    return videos\n",
        "\n",
        "with gr.Blocks() as demo:\n",
        "    gallery = gr.Gallery(label=\"Videos\", columns=[3], rows=[1], object_fit=\"contain\")\n",
        "    btn = gr.Button(\"Display Videos\")\n",
        "\n",
        "    btn.click(display_videos, None, gallery)\n",
        "\n",
        "demo.launch()"
      ],
      "metadata": {
        "colab": {
          "base_uri": "https://localhost:8080/",
          "height": 646
        },
        "id": "7f_qtM_N_tc7",
        "outputId": "086e7fad-e472-4802-d174-f4c6a4a6102a"
      },
      "execution_count": 4,
      "outputs": [
        {
          "output_type": "stream",
          "name": "stdout",
          "text": [
            "It looks like you are running Gradio on a hosted Jupyter notebook, which requires `share=True`. Automatically setting `share=True` (you can turn this off by setting `share=False` in `launch()` explicitly).\n",
            "\n",
            "Colab notebook detected. To show errors in colab notebook, set debug=True in launch()\n",
            "* Running on public URL: https://9e6aee9c3893e1d72a.gradio.live\n",
            "\n",
            "This share link expires in 1 week. For free permanent hosting and GPU upgrades, run `gradio deploy` from the terminal in the working directory to deploy to Hugging Face Spaces (https://huggingface.co/spaces)\n"
          ]
        },
        {
          "output_type": "display_data",
          "data": {
            "text/plain": [
              "<IPython.core.display.HTML object>"
            ],
            "text/html": [
              "<div><iframe src=\"https://9e6aee9c3893e1d72a.gradio.live\" width=\"100%\" height=\"500\" allow=\"autoplay; camera; microphone; clipboard-read; clipboard-write;\" frameborder=\"0\" allowfullscreen></iframe></div>"
            ]
          },
          "metadata": {}
        },
        {
          "output_type": "execute_result",
          "data": {
            "text/plain": []
          },
          "metadata": {},
          "execution_count": 4
        }
      ]
    },
    {
      "cell_type": "markdown",
      "source": [
        "**Display Images with Preview**"
      ],
      "metadata": {
        "id": "cAjMC-uw_w-6"
      }
    },
    {
      "cell_type": "code",
      "source": [
        "import gradio as gr\n",
        "\n",
        "def display_images():\n",
        "    images = [\n",
        "        \"https://example.com/image1.jpg\",\n",
        "        \"https://example.com/image2.jpg\",\n",
        "        \"https://example.com/image3.jpg\"\n",
        "    ]\n",
        "    return images\n",
        "\n",
        "with gr.Blocks() as demo:\n",
        "    gallery = gr.Gallery(label=\"Images with Preview\", columns=[3], rows=[1], object_fit=\"contain\", allow_preview=True)\n",
        "    btn = gr.Button(\"Display Images\")\n",
        "\n",
        "    btn.click(display_images, None, gallery)\n",
        "\n",
        "demo.launch()"
      ],
      "metadata": {
        "colab": {
          "base_uri": "https://localhost:8080/",
          "height": 646
        },
        "id": "n5Y7zkgx_0WX",
        "outputId": "b17d2e8a-80c0-411f-e8f1-781c0c8a0204"
      },
      "execution_count": 5,
      "outputs": [
        {
          "output_type": "stream",
          "name": "stdout",
          "text": [
            "It looks like you are running Gradio on a hosted Jupyter notebook, which requires `share=True`. Automatically setting `share=True` (you can turn this off by setting `share=False` in `launch()` explicitly).\n",
            "\n",
            "Colab notebook detected. To show errors in colab notebook, set debug=True in launch()\n",
            "* Running on public URL: https://62837ad318c2d3bc94.gradio.live\n",
            "\n",
            "This share link expires in 1 week. For free permanent hosting and GPU upgrades, run `gradio deploy` from the terminal in the working directory to deploy to Hugging Face Spaces (https://huggingface.co/spaces)\n"
          ]
        },
        {
          "output_type": "display_data",
          "data": {
            "text/plain": [
              "<IPython.core.display.HTML object>"
            ],
            "text/html": [
              "<div><iframe src=\"https://62837ad318c2d3bc94.gradio.live\" width=\"100%\" height=\"500\" allow=\"autoplay; camera; microphone; clipboard-read; clipboard-write;\" frameborder=\"0\" allowfullscreen></iframe></div>"
            ]
          },
          "metadata": {}
        },
        {
          "output_type": "execute_result",
          "data": {
            "text/plain": []
          },
          "metadata": {},
          "execution_count": 5
        }
      ]
    },
    {
      "cell_type": "markdown",
      "source": [
        "**Display Images with Fullscreen Option**"
      ],
      "metadata": {
        "id": "c6YIxywO_0y-"
      }
    },
    {
      "cell_type": "code",
      "source": [
        "import gradio as gr\n",
        "\n",
        "def display_images():\n",
        "    images = [\n",
        "        \"https://example.com/image1.jpg\",\n",
        "        \"https://example.com/image2.jpg\",\n",
        "        \"https://example.com/image3.jpg\"\n",
        "    ]\n",
        "    return images\n",
        "\n",
        "with gr.Blocks() as demo:\n",
        "    gallery = gr.Gallery(label=\"Images with Fullscreen\", columns=[3], rows=[1], object_fit=\"contain\", show_fullscreen_button=True)\n",
        "    btn = gr.Button(\"Display Images\")\n",
        "\n",
        "    btn.click(display_images, None, gallery)\n",
        "\n",
        "demo.launch()"
      ],
      "metadata": {
        "colab": {
          "base_uri": "https://localhost:8080/",
          "height": 646
        },
        "id": "uVuKLvud_4Y7",
        "outputId": "b64ec24d-163e-4105-ef0a-6de3046524c8"
      },
      "execution_count": 6,
      "outputs": [
        {
          "output_type": "stream",
          "name": "stdout",
          "text": [
            "It looks like you are running Gradio on a hosted Jupyter notebook, which requires `share=True`. Automatically setting `share=True` (you can turn this off by setting `share=False` in `launch()` explicitly).\n",
            "\n",
            "Colab notebook detected. To show errors in colab notebook, set debug=True in launch()\n",
            "* Running on public URL: https://663232273c24c3d9a5.gradio.live\n",
            "\n",
            "This share link expires in 1 week. For free permanent hosting and GPU upgrades, run `gradio deploy` from the terminal in the working directory to deploy to Hugging Face Spaces (https://huggingface.co/spaces)\n"
          ]
        },
        {
          "output_type": "display_data",
          "data": {
            "text/plain": [
              "<IPython.core.display.HTML object>"
            ],
            "text/html": [
              "<div><iframe src=\"https://663232273c24c3d9a5.gradio.live\" width=\"100%\" height=\"500\" allow=\"autoplay; camera; microphone; clipboard-read; clipboard-write;\" frameborder=\"0\" allowfullscreen></iframe></div>"
            ]
          },
          "metadata": {}
        },
        {
          "output_type": "execute_result",
          "data": {
            "text/plain": []
          },
          "metadata": {},
          "execution_count": 6
        }
      ]
    },
    {
      "cell_type": "markdown",
      "source": [
        "**Display Images with Download Option**"
      ],
      "metadata": {
        "id": "MBqsYvZi_5tk"
      }
    },
    {
      "cell_type": "code",
      "source": [
        "import gradio as gr\n",
        "\n",
        "def display_images():\n",
        "    images = [\n",
        "        \"https://example.com/image1.jpg\",\n",
        "        \"https://example.com/image2.jpg\",\n",
        "        \"https://example.com/image3.jpg\"\n",
        "    ]\n",
        "    return images\n",
        "\n",
        "with gr.Blocks() as demo:\n",
        "    gallery = gr.Gallery(label=\"Images with Download\", columns=[3], rows=[1], object_fit=\"contain\", show_download_button=True)\n",
        "    btn = gr.Button(\"Display Images\")\n",
        "\n",
        "    btn.click(display_images, None, gallery)\n",
        "\n",
        "demo.launch()"
      ],
      "metadata": {
        "id": "sC1NsJrJ__EG",
        "outputId": "c0d5b1b7-7049-4c4a-9d52-eea9664a5e11",
        "colab": {
          "base_uri": "https://localhost:8080/",
          "height": 646
        }
      },
      "execution_count": 7,
      "outputs": [
        {
          "output_type": "stream",
          "name": "stdout",
          "text": [
            "It looks like you are running Gradio on a hosted Jupyter notebook, which requires `share=True`. Automatically setting `share=True` (you can turn this off by setting `share=False` in `launch()` explicitly).\n",
            "\n",
            "Colab notebook detected. To show errors in colab notebook, set debug=True in launch()\n",
            "* Running on public URL: https://60b7d061a2c60b08ec.gradio.live\n",
            "\n",
            "This share link expires in 1 week. For free permanent hosting and GPU upgrades, run `gradio deploy` from the terminal in the working directory to deploy to Hugging Face Spaces (https://huggingface.co/spaces)\n"
          ]
        },
        {
          "output_type": "display_data",
          "data": {
            "text/plain": [
              "<IPython.core.display.HTML object>"
            ],
            "text/html": [
              "<div><iframe src=\"https://60b7d061a2c60b08ec.gradio.live\" width=\"100%\" height=\"500\" allow=\"autoplay; camera; microphone; clipboard-read; clipboard-write;\" frameborder=\"0\" allowfullscreen></iframe></div>"
            ]
          },
          "metadata": {}
        },
        {
          "output_type": "execute_result",
          "data": {
            "text/plain": []
          },
          "metadata": {},
          "execution_count": 7
        }
      ]
    },
    {
      "cell_type": "code",
      "source": [],
      "metadata": {
        "id": "RigsYRJ___hT"
      },
      "execution_count": null,
      "outputs": []
    }
  ]
}