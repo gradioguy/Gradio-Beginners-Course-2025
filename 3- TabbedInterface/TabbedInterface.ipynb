{
  "nbformat": 4,
  "nbformat_minor": 0,
  "metadata": {
    "colab": {
      "provenance": []
    },
    "kernelspec": {
      "name": "python3",
      "display_name": "Python 3"
    },
    "language_info": {
      "name": "python"
    }
  },
  "cells": [
    {
      "cell_type": "code",
      "source": [
        "import gradio as gr\n",
        "\n",
        "def basic_calculator(num1, operation, num2):\n",
        "  if operation == \"Add\":\n",
        "    return num1 + num2\n",
        "  elif operation == \"Subtract\":\n",
        "    return num1 - num2\n",
        "  elif operation == \"Multiply\":\n",
        "    return num1 * num2\n",
        "  elif operation == \"Divide\":\n",
        "    return num1 / num2\n",
        "\n",
        "def scientific_calculator(num, operation):\n",
        "  import math\n",
        "  if operation == \"Square\":\n",
        "    return num ** 2\n",
        "  elif operation == \"Square Root\":\n",
        "    return math.sqrt(num)\n",
        "  elif operation == \"Cosine\":\n",
        "    return math.cos(num)\n",
        "  elif operation == \"Sine\":\n",
        "    return math.sin(num)\n",
        "\n",
        "\n",
        "def programmer_calculator(num, operation):\n",
        "  if operation == \"Binary\":\n",
        "    return bin(num)\n",
        "  elif operation == \"Hexadecimal\":\n",
        "    return hex(num)\n",
        "  elif operation == \"Octal\":\n",
        "    return oct(num)\n",
        "  elif operation == \"Decimal\":\n",
        "    return int(num)\n",
        "\n",
        "basic_tab = gr.Interface(\n",
        "    fn=basic_calculator,\n",
        "    inputs=[\"number\", gr.Radio([\"Add\", \"Subtract\", \"Multiply\", \"Divide\"]), \"number\"],\n",
        "    outputs = \"number\"\n",
        ")\n",
        "\n",
        "scientific_tab = gr.Interface(\n",
        "    fn=scientific_calculator,\n",
        "    inputs=[\"number\", gr.Radio([\"Square\", \"Square Root\", \"Cosine\", \"Sine\"])],\n",
        "    outputs = \"number\"\n",
        ")\n",
        "\n",
        "programmer_tab = gr.Interface(\n",
        "    fn = programmer_calculator,\n",
        "    inputs=[\"number\", gr.Radio([\"Binary\", \"Hexadecimal\", \"Octal\", \"Decimal\"])],\n",
        "    outputs = \"text\"\n",
        ")\n",
        "\n",
        "calculator_demo = gr.TabbedInterface(\n",
        "    [basic_tab, scientific_tab, programmer_tab],\n",
        "    tab_names=[\"Basic\", \"Scientific\", \"Programmer\"]\n",
        ")\n",
        "\n",
        "calculator_demo.launch()\n",
        "\n"
      ],
      "metadata": {
        "colab": {
          "base_uri": "https://localhost:8080/",
          "height": 650
        },
        "id": "NDSD3bnvPc5x",
        "outputId": "ee9164fc-1fc6-4ffd-9add-9735af28a173"
      },
      "execution_count": 3,
      "outputs": [
        {
          "output_type": "stream",
          "name": "stdout",
          "text": [
            "Running Gradio in a Colab notebook requires sharing enabled. Automatically setting `share=True` (you can turn this off by setting `share=False` in `launch()` explicitly).\n",
            "\n",
            "Colab notebook detected. To show errors in colab notebook, set debug=True in launch()\n",
            "* Running on public URL: https://1bc9b680936e4ddd2c.gradio.live\n",
            "\n",
            "This share link expires in 72 hours. For free permanent hosting and GPU upgrades, run `gradio deploy` from the terminal in the working directory to deploy to Hugging Face Spaces (https://huggingface.co/spaces)\n"
          ]
        },
        {
          "output_type": "display_data",
          "data": {
            "text/plain": [
              "<IPython.core.display.HTML object>"
            ],
            "text/html": [
              "<div><iframe src=\"https://1bc9b680936e4ddd2c.gradio.live\" width=\"100%\" height=\"500\" allow=\"autoplay; camera; microphone; clipboard-read; clipboard-write;\" frameborder=\"0\" allowfullscreen></iframe></div>"
            ]
          },
          "metadata": {}
        },
        {
          "output_type": "execute_result",
          "data": {
            "text/plain": []
          },
          "metadata": {},
          "execution_count": 3
        }
      ]
    },
    {
      "cell_type": "code",
      "source": [
        "import gradio as gr\n",
        "\n",
        "def translate_en_fr(text):\n",
        "  return f\"French translation of {text}\"\n",
        "\n",
        "def translate_en_es(text):\n",
        "  return f\"Spanish translation of {text}\"\n",
        "\n",
        "en_fr_tab = gr.Interface(\n",
        "    fn = translate_en_fr,\n",
        "    inputs = \"text\",\n",
        "    outputs = \"text\"\n",
        ")\n",
        "\n",
        "en_es_tab = gr.Interface(\n",
        "    fn = translate_en_es,\n",
        "    inputs = \"text\",\n",
        "    outputs = \"text\"\n",
        ")\n",
        "\n",
        "translator_demo = gr.TabbedInterface(\n",
        "    [en_fr_tab, en_es_tab],\n",
        "    tab_names=[\"English-French\", \"English-Spanish\"]\n",
        ")\n",
        "\n",
        "translator_demo.launch()"
      ],
      "metadata": {
        "colab": {
          "base_uri": "https://localhost:8080/",
          "height": 650
        },
        "id": "hH02bqvYR2Y6",
        "outputId": "0eb98d80-9425-40c5-d196-8e040e3455fa"
      },
      "execution_count": 4,
      "outputs": [
        {
          "output_type": "stream",
          "name": "stdout",
          "text": [
            "Running Gradio in a Colab notebook requires sharing enabled. Automatically setting `share=True` (you can turn this off by setting `share=False` in `launch()` explicitly).\n",
            "\n",
            "Colab notebook detected. To show errors in colab notebook, set debug=True in launch()\n",
            "* Running on public URL: https://5c1aa7a2be57c9bc4c.gradio.live\n",
            "\n",
            "This share link expires in 72 hours. For free permanent hosting and GPU upgrades, run `gradio deploy` from the terminal in the working directory to deploy to Hugging Face Spaces (https://huggingface.co/spaces)\n"
          ]
        },
        {
          "output_type": "display_data",
          "data": {
            "text/plain": [
              "<IPython.core.display.HTML object>"
            ],
            "text/html": [
              "<div><iframe src=\"https://5c1aa7a2be57c9bc4c.gradio.live\" width=\"100%\" height=\"500\" allow=\"autoplay; camera; microphone; clipboard-read; clipboard-write;\" frameborder=\"0\" allowfullscreen></iframe></div>"
            ]
          },
          "metadata": {}
        },
        {
          "output_type": "execute_result",
          "data": {
            "text/plain": []
          },
          "metadata": {},
          "execution_count": 4
        }
      ]
    },
    {
      "cell_type": "code",
      "source": [
        "import gradio as gr\n",
        "\n",
        "def calculator_bmi(height, weight):\n",
        "  bmi = weight / ((height/100)**2)\n",
        "  return f\"Your BMI is {bmi:.2f}\"\n",
        "\n",
        "bmi_tab = gr.Interface(\n",
        "    fn=calculator_bmi,\n",
        "    inputs=[\"number\", \"number\"],\n",
        "    outputs = \"text\"\n",
        ")\n",
        "\n",
        "metrics_tab = gr.Interface(\n",
        "    fn=lambda: \"Weight categories and progres metrics\",\n",
        "    inputs=None,\n",
        "    outputs=\"text\"\n",
        ")\n",
        "\n",
        "bmi_demo = gr.TabbedInterface(\n",
        "    [bmi_tab, metrics_tab],\n",
        "    tab_names=[\"Calculate BMI\", \"Health Metrics\"]\n",
        ")\n",
        "\n",
        "bmi_demo.launch()"
      ],
      "metadata": {
        "colab": {
          "base_uri": "https://localhost:8080/",
          "height": 650
        },
        "id": "7HUe0EGJTBsJ",
        "outputId": "f3bd767a-c414-476b-b423-296dd7f9f69b"
      },
      "execution_count": 6,
      "outputs": [
        {
          "output_type": "stream",
          "name": "stdout",
          "text": [
            "Running Gradio in a Colab notebook requires sharing enabled. Automatically setting `share=True` (you can turn this off by setting `share=False` in `launch()` explicitly).\n",
            "\n",
            "Colab notebook detected. To show errors in colab notebook, set debug=True in launch()\n",
            "* Running on public URL: https://4621957ce7a7ca0ab5.gradio.live\n",
            "\n",
            "This share link expires in 72 hours. For free permanent hosting and GPU upgrades, run `gradio deploy` from the terminal in the working directory to deploy to Hugging Face Spaces (https://huggingface.co/spaces)\n"
          ]
        },
        {
          "output_type": "display_data",
          "data": {
            "text/plain": [
              "<IPython.core.display.HTML object>"
            ],
            "text/html": [
              "<div><iframe src=\"https://4621957ce7a7ca0ab5.gradio.live\" width=\"100%\" height=\"500\" allow=\"autoplay; camera; microphone; clipboard-read; clipboard-write;\" frameborder=\"0\" allowfullscreen></iframe></div>"
            ]
          },
          "metadata": {}
        },
        {
          "output_type": "execute_result",
          "data": {
            "text/plain": []
          },
          "metadata": {},
          "execution_count": 6
        }
      ]
    },
    {
      "cell_type": "code",
      "source": [
        "import gradio as gr\n",
        "\n",
        "def chapter_one():\n",
        "  return \"Chapter One: The Beginning...\"\n",
        "\n",
        "def chapter_two():\n",
        "  return \"Chapter Two: The Middle...\"\n",
        "\n",
        "chapter1 = gr.Interface(\n",
        "    fn = chapter_one,\n",
        "    inputs = None,\n",
        "    outputs = \"text\"\n",
        ")\n",
        "\n",
        "chapter2 = gr.Interface(\n",
        "    fn = chapter_two,\n",
        "    inputs = None,\n",
        "    outputs = \"text\"\n",
        ")\n",
        "\n",
        "story_demo = gr.TabbedInterface(\n",
        "    [chapter1, chapter2],\n",
        "    tab_names=[\"Chapter1\", \"Chapter2\"]\n",
        ")\n",
        "\n",
        "story_demo.launch()\n",
        "\n"
      ],
      "metadata": {
        "colab": {
          "base_uri": "https://localhost:8080/",
          "height": 650
        },
        "id": "7kIPjnavT_0L",
        "outputId": "c7265644-8650-4249-ed92-c366758e2483"
      },
      "execution_count": 7,
      "outputs": [
        {
          "output_type": "stream",
          "name": "stdout",
          "text": [
            "Running Gradio in a Colab notebook requires sharing enabled. Automatically setting `share=True` (you can turn this off by setting `share=False` in `launch()` explicitly).\n",
            "\n",
            "Colab notebook detected. To show errors in colab notebook, set debug=True in launch()\n",
            "* Running on public URL: https://fa68bc70aa08270898.gradio.live\n",
            "\n",
            "This share link expires in 72 hours. For free permanent hosting and GPU upgrades, run `gradio deploy` from the terminal in the working directory to deploy to Hugging Face Spaces (https://huggingface.co/spaces)\n"
          ]
        },
        {
          "output_type": "display_data",
          "data": {
            "text/plain": [
              "<IPython.core.display.HTML object>"
            ],
            "text/html": [
              "<div><iframe src=\"https://fa68bc70aa08270898.gradio.live\" width=\"100%\" height=\"500\" allow=\"autoplay; camera; microphone; clipboard-read; clipboard-write;\" frameborder=\"0\" allowfullscreen></iframe></div>"
            ]
          },
          "metadata": {}
        },
        {
          "output_type": "execute_result",
          "data": {
            "text/plain": []
          },
          "metadata": {},
          "execution_count": 7
        }
      ]
    },
    {
      "cell_type": "code",
      "source": [
        "import gradio as gr\n",
        "\n",
        "def generate_italian(ingredients):\n",
        "  return f\"Italian recipe with {ingredients}\"\n",
        "\n",
        "def generate_mexican(ingredients):\n",
        "  return f\"Mexican recipe with {ingredients}\"\n",
        "\n",
        "Italian_tab = gr.Interface(\n",
        "    fn = generate_italian,\n",
        "    inputs = \"text\",\n",
        "    outputs = \"text\"\n",
        ")\n",
        "\n",
        "mexican_tab = gr.Interface(\n",
        "    fn = generate_mexican,\n",
        "    inputs = \"text\",\n",
        "    outputs = \"text\"\n",
        ")\n",
        "\n",
        "recipe_demo = gr.TabbedInterface(\n",
        "    [Italian_tab, mexican_tab],\n",
        "    tab_names=[\"Italian\", \"Mexican\"]\n",
        ")\n",
        "\n",
        "recipe_demo.launch()"
      ],
      "metadata": {
        "colab": {
          "base_uri": "https://localhost:8080/",
          "height": 650
        },
        "id": "xcbkPk8tU6Zl",
        "outputId": "a239673f-2d5a-4b41-b6fb-6d7f08cc6d4c"
      },
      "execution_count": 8,
      "outputs": [
        {
          "output_type": "stream",
          "name": "stdout",
          "text": [
            "Running Gradio in a Colab notebook requires sharing enabled. Automatically setting `share=True` (you can turn this off by setting `share=False` in `launch()` explicitly).\n",
            "\n",
            "Colab notebook detected. To show errors in colab notebook, set debug=True in launch()\n",
            "* Running on public URL: https://59b328c578d48f635f.gradio.live\n",
            "\n",
            "This share link expires in 72 hours. For free permanent hosting and GPU upgrades, run `gradio deploy` from the terminal in the working directory to deploy to Hugging Face Spaces (https://huggingface.co/spaces)\n"
          ]
        },
        {
          "output_type": "display_data",
          "data": {
            "text/plain": [
              "<IPython.core.display.HTML object>"
            ],
            "text/html": [
              "<div><iframe src=\"https://59b328c578d48f635f.gradio.live\" width=\"100%\" height=\"500\" allow=\"autoplay; camera; microphone; clipboard-read; clipboard-write;\" frameborder=\"0\" allowfullscreen></iframe></div>"
            ]
          },
          "metadata": {}
        },
        {
          "output_type": "execute_result",
          "data": {
            "text/plain": []
          },
          "metadata": {},
          "execution_count": 8
        }
      ]
    },
    {
      "cell_type": "code",
      "source": [],
      "metadata": {
        "id": "XAWL_RkuVypK"
      },
      "execution_count": null,
      "outputs": []
    }
  ]
}