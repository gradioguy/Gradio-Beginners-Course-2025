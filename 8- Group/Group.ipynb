{
  "nbformat": 4,
  "nbformat_minor": 0,
  "metadata": {
    "colab": {
      "provenance": []
    },
    "kernelspec": {
      "name": "python3",
      "display_name": "Python 3"
    },
    "language_info": {
      "name": "python"
    }
  },
  "cells": [
    {
      "cell_type": "code",
      "source": [
        "import gradio as gr\n",
        "\n",
        "def form_examples(first_name, last_name, email):\n",
        "  return f\"Form submitted successfully! Welcome, {first_name} {last_name}. Your email is {email}.\"\n",
        "\n",
        "with gr.Blocks() as demo:\n",
        "  with gr.Group():\n",
        "    gr.Markdown(\"### User Information\")\n",
        "    with gr.Row():\n",
        "      first_name = gr.Textbox(label=\"First Name\", placeholder=\"Enter your first name\")\n",
        "      last_name = gr.Textbox(label=\"Last Name\", placeholder=\"Enter your last name\")\n",
        "    email = gr.Textbox(label=\"Email\", placeholder=\"Enter your email\")\n",
        "    submit = gr.Button(\"Submit\", variant=\"primary\")\n",
        "    submit.click(form_examples, inputs=[first_name, last_name, email], outputs=gr.Textbox())\n",
        "\n",
        "demo.launch()"
      ],
      "metadata": {
        "colab": {
          "base_uri": "https://localhost:8080/",
          "height": 650
        },
        "id": "dJQ4zxx-Hbo3",
        "outputId": "f54f9d37-3852-46cc-df4d-828a851e19d9"
      },
      "execution_count": 3,
      "outputs": [
        {
          "output_type": "stream",
          "name": "stdout",
          "text": [
            "Running Gradio in a Colab notebook requires sharing enabled. Automatically setting `share=True` (you can turn this off by setting `share=False` in `launch()` explicitly).\n",
            "\n",
            "Colab notebook detected. To show errors in colab notebook, set debug=True in launch()\n",
            "* Running on public URL: https://7abaf8382a765d8bf6.gradio.live\n",
            "\n",
            "This share link expires in 72 hours. For free permanent hosting and GPU upgrades, run `gradio deploy` from the terminal in the working directory to deploy to Hugging Face Spaces (https://huggingface.co/spaces)\n"
          ]
        },
        {
          "output_type": "display_data",
          "data": {
            "text/plain": [
              "<IPython.core.display.HTML object>"
            ],
            "text/html": [
              "<div><iframe src=\"https://7abaf8382a765d8bf6.gradio.live\" width=\"100%\" height=\"500\" allow=\"autoplay; camera; microphone; clipboard-read; clipboard-write;\" frameborder=\"0\" allowfullscreen></iframe></div>"
            ]
          },
          "metadata": {}
        },
        {
          "output_type": "execute_result",
          "data": {
            "text/plain": []
          },
          "metadata": {},
          "execution_count": 3
        }
      ]
    },
    {
      "cell_type": "code",
      "source": [
        "import gradio as gr\n",
        "\n",
        "def toolbar_examples(action):\n",
        "  return f\"Action selected: {action}\"\n",
        "\n",
        "with gr.Blocks() as demo:\n",
        "  with gr.Group():\n",
        "    gr.Markdown(\"### Actions\")\n",
        "    with gr.Row():\n",
        "      cut = gr.Button(\"Cut\", variant=\"secondary\")\n",
        "      copy = gr.Button(\"Copy\", variant=\"secondary\")\n",
        "      paste = gr.Button(\"Paste\", variant=\"secondary\")\n",
        "    cut.click(toolbar_examples, inputs=cut, outputs=gr.Textbox())\n",
        "    copy.click(toolbar_examples, inputs=copy, outputs=gr.Textbox())\n",
        "    paste.click(toolbar_examples, inputs=paste, outputs=gr.Textbox())\n",
        "\n",
        "demo.launch()"
      ],
      "metadata": {
        "colab": {
          "base_uri": "https://localhost:8080/",
          "height": 650
        },
        "id": "1ckKuC20IRHI",
        "outputId": "3f53408f-11fd-44e1-81a5-83d9e593b6c9"
      },
      "execution_count": 4,
      "outputs": [
        {
          "output_type": "stream",
          "name": "stdout",
          "text": [
            "Running Gradio in a Colab notebook requires sharing enabled. Automatically setting `share=True` (you can turn this off by setting `share=False` in `launch()` explicitly).\n",
            "\n",
            "Colab notebook detected. To show errors in colab notebook, set debug=True in launch()\n",
            "* Running on public URL: https://952378e7a7a838dc51.gradio.live\n",
            "\n",
            "This share link expires in 72 hours. For free permanent hosting and GPU upgrades, run `gradio deploy` from the terminal in the working directory to deploy to Hugging Face Spaces (https://huggingface.co/spaces)\n"
          ]
        },
        {
          "output_type": "display_data",
          "data": {
            "text/plain": [
              "<IPython.core.display.HTML object>"
            ],
            "text/html": [
              "<div><iframe src=\"https://952378e7a7a838dc51.gradio.live\" width=\"100%\" height=\"500\" allow=\"autoplay; camera; microphone; clipboard-read; clipboard-write;\" frameborder=\"0\" allowfullscreen></iframe></div>"
            ]
          },
          "metadata": {}
        },
        {
          "output_type": "execute_result",
          "data": {
            "text/plain": []
          },
          "metadata": {},
          "execution_count": 4
        }
      ]
    },
    {
      "cell_type": "code",
      "source": [
        "import gradio as gr\n",
        "\n",
        "with gr.Blocks() as demo:\n",
        "  with gr.Group():\n",
        "    with gr.Row():\n",
        "      image = gr.Image(value=\"image.jpg\", label=\"Photo\")\n",
        "      about = gr.Textbox(label=\"About\", value=\"This is a brief description of the user.\", interactive=False)\n",
        "\n",
        "demo.launch()"
      ],
      "metadata": {
        "colab": {
          "base_uri": "https://localhost:8080/",
          "height": 650
        },
        "id": "2JFUYA5XJnZ9",
        "outputId": "e192270d-4f5f-4570-e99f-25d1dc1cf54d"
      },
      "execution_count": 5,
      "outputs": [
        {
          "output_type": "stream",
          "name": "stdout",
          "text": [
            "Running Gradio in a Colab notebook requires sharing enabled. Automatically setting `share=True` (you can turn this off by setting `share=False` in `launch()` explicitly).\n",
            "\n",
            "Colab notebook detected. To show errors in colab notebook, set debug=True in launch()\n",
            "* Running on public URL: https://285ceaf28a013b41db.gradio.live\n",
            "\n",
            "This share link expires in 72 hours. For free permanent hosting and GPU upgrades, run `gradio deploy` from the terminal in the working directory to deploy to Hugging Face Spaces (https://huggingface.co/spaces)\n"
          ]
        },
        {
          "output_type": "display_data",
          "data": {
            "text/plain": [
              "<IPython.core.display.HTML object>"
            ],
            "text/html": [
              "<div><iframe src=\"https://285ceaf28a013b41db.gradio.live\" width=\"100%\" height=\"500\" allow=\"autoplay; camera; microphone; clipboard-read; clipboard-write;\" frameborder=\"0\" allowfullscreen></iframe></div>"
            ]
          },
          "metadata": {}
        },
        {
          "output_type": "execute_result",
          "data": {
            "text/plain": []
          },
          "metadata": {},
          "execution_count": 5
        }
      ]
    },
    {
      "cell_type": "code",
      "source": [
        "import gradio as gr\n",
        "\n",
        "def dashboard_examples(update_freq, data_range):\n",
        "  return f\"Dashboard updated with frequenc: {update_freq}, range:{data_range}\"\n",
        "\n",
        "with gr.Blocks() as demo:\n",
        "  with gr.Group():\n",
        "    gr.Markdown(\"### Dashboard Settings\")\n",
        "    with gr.Column():\n",
        "      update_freq = gr.Dropdown(label=\"Update Frequency\", choices=[\"Real-time\", \"5s\", \"10s\", \"30s\"])\n",
        "      data_range = gr.Slider(label=\"Data Range (days)\", minimum=1, maximum=30)\n",
        "      update = gr.Button(\"Updated Dashboard\", variant=\"primary\")\n",
        "      update.click(dashboard_examples, inputs=[update_freq, data_range], outputs=gr.Textbox())\n",
        "\n",
        "demo.launch()"
      ],
      "metadata": {
        "colab": {
          "base_uri": "https://localhost:8080/",
          "height": 650
        },
        "id": "_Gi0AwM5KBgr",
        "outputId": "beb57d5c-7942-4169-ba44-cadb594468df"
      },
      "execution_count": 7,
      "outputs": [
        {
          "output_type": "stream",
          "name": "stdout",
          "text": [
            "Running Gradio in a Colab notebook requires sharing enabled. Automatically setting `share=True` (you can turn this off by setting `share=False` in `launch()` explicitly).\n",
            "\n",
            "Colab notebook detected. To show errors in colab notebook, set debug=True in launch()\n",
            "* Running on public URL: https://4dd226007389d3c92b.gradio.live\n",
            "\n",
            "This share link expires in 72 hours. For free permanent hosting and GPU upgrades, run `gradio deploy` from the terminal in the working directory to deploy to Hugging Face Spaces (https://huggingface.co/spaces)\n"
          ]
        },
        {
          "output_type": "display_data",
          "data": {
            "text/plain": [
              "<IPython.core.display.HTML object>"
            ],
            "text/html": [
              "<div><iframe src=\"https://4dd226007389d3c92b.gradio.live\" width=\"100%\" height=\"500\" allow=\"autoplay; camera; microphone; clipboard-read; clipboard-write;\" frameborder=\"0\" allowfullscreen></iframe></div>"
            ]
          },
          "metadata": {}
        },
        {
          "output_type": "execute_result",
          "data": {
            "text/plain": []
          },
          "metadata": {},
          "execution_count": 7
        }
      ]
    },
    {
      "cell_type": "code",
      "source": [
        "import gradio as gr\n",
        "\n",
        "def create_post(content, tags):\n",
        "  return f\"Post created: {content}\\n\\n#Tags: {','.join(tags)}\"\n",
        "\n",
        "with gr.Blocks() as demo:\n",
        "  with gr.Group():\n",
        "    gr.Markdown(\"### Create Post\")\n",
        "    content = gr.Textbox(label=\"Content\", placeholder=\"Write your post here...\", lines=4)\n",
        "    tags = gr.CheckboxGroup(label=\"Tags\", choices=[\"#Social\", \"#Life\", \"#Travel\", \"#Tech\"])\n",
        "    create = gr.Button(\"Create Post\", variant=\"primary\")\n",
        "    create.click(create_post, inputs=[content, tags], outputs=gr.Textbox())\n",
        "\n",
        "demo.launch()"
      ],
      "metadata": {
        "colab": {
          "base_uri": "https://localhost:8080/",
          "height": 650
        },
        "id": "qARMZZ_AK98E",
        "outputId": "26517b0a-9c21-408e-8d8c-a7b15daae919"
      },
      "execution_count": 9,
      "outputs": [
        {
          "output_type": "stream",
          "name": "stdout",
          "text": [
            "Running Gradio in a Colab notebook requires sharing enabled. Automatically setting `share=True` (you can turn this off by setting `share=False` in `launch()` explicitly).\n",
            "\n",
            "Colab notebook detected. To show errors in colab notebook, set debug=True in launch()\n",
            "* Running on public URL: https://8f371d31430a461d3f.gradio.live\n",
            "\n",
            "This share link expires in 72 hours. For free permanent hosting and GPU upgrades, run `gradio deploy` from the terminal in the working directory to deploy to Hugging Face Spaces (https://huggingface.co/spaces)\n"
          ]
        },
        {
          "output_type": "display_data",
          "data": {
            "text/plain": [
              "<IPython.core.display.HTML object>"
            ],
            "text/html": [
              "<div><iframe src=\"https://8f371d31430a461d3f.gradio.live\" width=\"100%\" height=\"500\" allow=\"autoplay; camera; microphone; clipboard-read; clipboard-write;\" frameborder=\"0\" allowfullscreen></iframe></div>"
            ]
          },
          "metadata": {}
        },
        {
          "output_type": "execute_result",
          "data": {
            "text/plain": []
          },
          "metadata": {},
          "execution_count": 9
        }
      ]
    },
    {
      "cell_type": "code",
      "source": [
        "import gradio as gr\n",
        "\n",
        "def apply_settings(theme, notifications):\n",
        "  return f\"Settings updated: Theme = {theme}, Notifications - {notifications}\"\n",
        "\n",
        "with gr.Blocks() as demo:\n",
        "  with gr.Group():\n",
        "    gr.Markdown(\"### Settings\")\n",
        "    with gr.Row():\n",
        "      theme = gr.Dropdown(label=\"Theme\", choices=[\"Light\", \"Dark\", \"System\"])\n",
        "      notifications = gr.Checkbox(label=\"Enable Notifications\")\n",
        "    save = gr.Button(\"Save Settings\", variant=\"primary\")\n",
        "    save.click(apply_settings, inputs=[theme, notifications], outputs=gr.Textbox())\n",
        "\n",
        "demo.launch()"
      ],
      "metadata": {
        "colab": {
          "base_uri": "https://localhost:8080/",
          "height": 650
        },
        "id": "Fah0zp-kL6EE",
        "outputId": "57e6b471-d797-412a-a0af-bf0d2a258b0d"
      },
      "execution_count": 11,
      "outputs": [
        {
          "output_type": "stream",
          "name": "stdout",
          "text": [
            "Running Gradio in a Colab notebook requires sharing enabled. Automatically setting `share=True` (you can turn this off by setting `share=False` in `launch()` explicitly).\n",
            "\n",
            "Colab notebook detected. To show errors in colab notebook, set debug=True in launch()\n",
            "* Running on public URL: https://ee72359fcae28bf0a0.gradio.live\n",
            "\n",
            "This share link expires in 72 hours. For free permanent hosting and GPU upgrades, run `gradio deploy` from the terminal in the working directory to deploy to Hugging Face Spaces (https://huggingface.co/spaces)\n"
          ]
        },
        {
          "output_type": "display_data",
          "data": {
            "text/plain": [
              "<IPython.core.display.HTML object>"
            ],
            "text/html": [
              "<div><iframe src=\"https://ee72359fcae28bf0a0.gradio.live\" width=\"100%\" height=\"500\" allow=\"autoplay; camera; microphone; clipboard-read; clipboard-write;\" frameborder=\"0\" allowfullscreen></iframe></div>"
            ]
          },
          "metadata": {}
        },
        {
          "output_type": "execute_result",
          "data": {
            "text/plain": []
          },
          "metadata": {},
          "execution_count": 11
        }
      ]
    },
    {
      "cell_type": "code",
      "source": [
        "import gradio as gr\n",
        "\n",
        "def compare_products(product1, product2):\n",
        "  return f\"Comparing {product1} and {product2}\\n\\nAnalysis: [Insert detailed analysis here]\"\n",
        "\n",
        "with gr.Blocks() as demo:\n",
        "  with gr.Group():\n",
        "    gr.Markdown(\"### Product Comparison\")\n",
        "    with gr.Row():\n",
        "      product1 = gr.Textbox(label=\"Product 1\", placeholder=\"Enter product name\")\n",
        "      product2 = gr.Textbox(label=\"Product 2\", placeholder=\"Enter product name\")\n",
        "    compare = gr.Button(\"Compare\", variant=\"primary\")\n",
        "    compare.click(compare_products, inputs=[product1, product2], outputs=gr.Textbox())\n",
        "\n",
        "demo.launch()"
      ],
      "metadata": {
        "colab": {
          "base_uri": "https://localhost:8080/",
          "height": 650
        },
        "id": "H9wbhEoIMbgp",
        "outputId": "9d3b1c4b-e665-4070-bba5-21b3369182d8"
      },
      "execution_count": 12,
      "outputs": [
        {
          "output_type": "stream",
          "name": "stdout",
          "text": [
            "Running Gradio in a Colab notebook requires sharing enabled. Automatically setting `share=True` (you can turn this off by setting `share=False` in `launch()` explicitly).\n",
            "\n",
            "Colab notebook detected. To show errors in colab notebook, set debug=True in launch()\n",
            "* Running on public URL: https://50941a5d24dbf070c0.gradio.live\n",
            "\n",
            "This share link expires in 72 hours. For free permanent hosting and GPU upgrades, run `gradio deploy` from the terminal in the working directory to deploy to Hugging Face Spaces (https://huggingface.co/spaces)\n"
          ]
        },
        {
          "output_type": "display_data",
          "data": {
            "text/plain": [
              "<IPython.core.display.HTML object>"
            ],
            "text/html": [
              "<div><iframe src=\"https://50941a5d24dbf070c0.gradio.live\" width=\"100%\" height=\"500\" allow=\"autoplay; camera; microphone; clipboard-read; clipboard-write;\" frameborder=\"0\" allowfullscreen></iframe></div>"
            ]
          },
          "metadata": {}
        },
        {
          "output_type": "execute_result",
          "data": {
            "text/plain": []
          },
          "metadata": {},
          "execution_count": 12
        }
      ]
    },
    {
      "cell_type": "code",
      "source": [
        "import gradio as gr\n",
        "\n",
        "def translate(text, source_lang, target_lang):\n",
        "  return f\"Translation from {source_lang} to {target_lang}:\\n{text}\"\n",
        "\n",
        "with gr.Blocks() as demo:\n",
        "  with gr.Group():\n",
        "    gr.Markdown(\"### Translator\")\n",
        "    with gr.Column():\n",
        "      source_lang = gr.Dropdown(label=\"Source Language\", choices=[\"English\", \"Spanish\", \"French\", \"German\"])\n",
        "      target_lang = gr.Dropdown(label=\"Target Language\", choices=[\"English\", \"Spanish\", \"French\", \"German\"])\n",
        "      text = gr.Textbox(label=\"Enter Text\", placeholder=\"Type here...\", lines=3)\n",
        "      translate_button = gr.Button(\"Translate\", variant=\"primary\")\n",
        "      output = gr.Textbox(label=\"Translation\", interactive=False)\n",
        "      translate_button.click(translate, inputs=[text, source_lang, target_lang], outputs=output)\n",
        "\n",
        "demo.launch()"
      ],
      "metadata": {
        "colab": {
          "base_uri": "https://localhost:8080/",
          "height": 650
        },
        "id": "-Lm2VCr7NkZd",
        "outputId": "93f8fa12-1a79-4a1a-b6f3-e9c514493783"
      },
      "execution_count": 13,
      "outputs": [
        {
          "output_type": "stream",
          "name": "stdout",
          "text": [
            "Running Gradio in a Colab notebook requires sharing enabled. Automatically setting `share=True` (you can turn this off by setting `share=False` in `launch()` explicitly).\n",
            "\n",
            "Colab notebook detected. To show errors in colab notebook, set debug=True in launch()\n",
            "* Running on public URL: https://493079d8ee0c988cd2.gradio.live\n",
            "\n",
            "This share link expires in 72 hours. For free permanent hosting and GPU upgrades, run `gradio deploy` from the terminal in the working directory to deploy to Hugging Face Spaces (https://huggingface.co/spaces)\n"
          ]
        },
        {
          "output_type": "display_data",
          "data": {
            "text/plain": [
              "<IPython.core.display.HTML object>"
            ],
            "text/html": [
              "<div><iframe src=\"https://493079d8ee0c988cd2.gradio.live\" width=\"100%\" height=\"500\" allow=\"autoplay; camera; microphone; clipboard-read; clipboard-write;\" frameborder=\"0\" allowfullscreen></iframe></div>"
            ]
          },
          "metadata": {}
        },
        {
          "output_type": "execute_result",
          "data": {
            "text/plain": []
          },
          "metadata": {},
          "execution_count": 13
        }
      ]
    },
    {
      "cell_type": "code",
      "source": [],
      "metadata": {
        "id": "EtXTQ8JxOpBE"
      },
      "execution_count": null,
      "outputs": []
    }
  ]
}