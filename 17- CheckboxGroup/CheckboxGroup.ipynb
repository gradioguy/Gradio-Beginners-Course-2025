{
  "nbformat": 4,
  "nbformat_minor": 0,
  "metadata": {
    "colab": {
      "provenance": []
    },
    "kernelspec": {
      "name": "python3",
      "display_name": "Python 3"
    },
    "language_info": {
      "name": "python"
    }
  },
  "cells": [
    {
      "cell_type": "markdown",
      "source": [
        "**Basic CheckboxGroup Usage**"
      ],
      "metadata": {
        "id": "ttPxvJsAsY24"
      }
    },
    {
      "cell_type": "code",
      "source": [
        "import gradio as gr\n",
        "\n",
        "def select_countries(countries):\n",
        "    return f\"You selected: {', '.join(countries)}\"\n",
        "\n",
        "demo = gr.Interface(\n",
        "    fn=select_countries,\n",
        "    inputs=gr.CheckboxGroup(choices=[\"USA\", \"Japan\", \"Pakistan\"], label=\"Select Countries\"),\n",
        "    outputs=\"text\"\n",
        ")\n",
        "\n",
        "demo.launch()"
      ],
      "metadata": {
        "colab": {
          "base_uri": "https://localhost:8080/",
          "height": 646
        },
        "id": "vUnjNW8esZQi",
        "outputId": "6f2863d8-7135-475f-f509-29a8fa761169"
      },
      "execution_count": 1,
      "outputs": [
        {
          "output_type": "stream",
          "name": "stdout",
          "text": [
            "It looks like you are running Gradio on a hosted Jupyter notebook, which requires `share=True`. Automatically setting `share=True` (you can turn this off by setting `share=False` in `launch()` explicitly).\n",
            "\n",
            "Colab notebook detected. To show errors in colab notebook, set debug=True in launch()\n",
            "* Running on public URL: https://99dcc58023bd1dafcd.gradio.live\n",
            "\n",
            "This share link expires in 1 week. For free permanent hosting and GPU upgrades, run `gradio deploy` from the terminal in the working directory to deploy to Hugging Face Spaces (https://huggingface.co/spaces)\n"
          ]
        },
        {
          "output_type": "display_data",
          "data": {
            "text/plain": [
              "<IPython.core.display.HTML object>"
            ],
            "text/html": [
              "<div><iframe src=\"https://99dcc58023bd1dafcd.gradio.live\" width=\"100%\" height=\"500\" allow=\"autoplay; camera; microphone; clipboard-read; clipboard-write;\" frameborder=\"0\" allowfullscreen></iframe></div>"
            ]
          },
          "metadata": {}
        },
        {
          "output_type": "execute_result",
          "data": {
            "text/plain": []
          },
          "metadata": {},
          "execution_count": 1
        }
      ]
    },
    {
      "cell_type": "markdown",
      "source": [
        "**Using Indices**"
      ],
      "metadata": {
        "id": "0bunj07VsevD"
      }
    },
    {
      "cell_type": "code",
      "source": [
        "import gradio as gr\n",
        "\n",
        "def select_countries(countries_indices):\n",
        "    countries = [\"USA\", \"Japan\", \"Pakistan\"]\n",
        "    selected_countries = [countries[i] for i in countries_indices]\n",
        "    return f\"You selected: {', '.join(selected_countries)}\"\n",
        "\n",
        "demo = gr.Interface(\n",
        "    fn=select_countries,\n",
        "    inputs=gr.CheckboxGroup(choices=[\"USA\", \"Japan\", \"Pakistan\"], type=\"index\", label=\"Select Countries\"),\n",
        "    outputs=\"text\"\n",
        ")\n",
        "\n",
        "demo.launch()"
      ],
      "metadata": {
        "colab": {
          "base_uri": "https://localhost:8080/",
          "height": 646
        },
        "id": "ze4h_MtEsc1w",
        "outputId": "44965d6e-b3ae-410b-bc6b-b2d19ead2a08"
      },
      "execution_count": 2,
      "outputs": [
        {
          "output_type": "stream",
          "name": "stdout",
          "text": [
            "It looks like you are running Gradio on a hosted Jupyter notebook, which requires `share=True`. Automatically setting `share=True` (you can turn this off by setting `share=False` in `launch()` explicitly).\n",
            "\n",
            "Colab notebook detected. To show errors in colab notebook, set debug=True in launch()\n",
            "* Running on public URL: https://f19147db4d00706f14.gradio.live\n",
            "\n",
            "This share link expires in 1 week. For free permanent hosting and GPU upgrades, run `gradio deploy` from the terminal in the working directory to deploy to Hugging Face Spaces (https://huggingface.co/spaces)\n"
          ]
        },
        {
          "output_type": "display_data",
          "data": {
            "text/plain": [
              "<IPython.core.display.HTML object>"
            ],
            "text/html": [
              "<div><iframe src=\"https://f19147db4d00706f14.gradio.live\" width=\"100%\" height=\"500\" allow=\"autoplay; camera; microphone; clipboard-read; clipboard-write;\" frameborder=\"0\" allowfullscreen></iframe></div>"
            ]
          },
          "metadata": {}
        },
        {
          "output_type": "execute_result",
          "data": {
            "text/plain": []
          },
          "metadata": {},
          "execution_count": 2
        }
      ]
    },
    {
      "cell_type": "markdown",
      "source": [
        "**Pre-selected Values**"
      ],
      "metadata": {
        "id": "gwigeZP9sh6Y"
      }
    },
    {
      "cell_type": "code",
      "source": [
        "import gradio as gr\n",
        "\n",
        "def select_countries(countries):\n",
        "    return f\"You selected: {', '.join(countries)}\"\n",
        "\n",
        "demo = gr.Interface(\n",
        "    fn=select_countries,\n",
        "    inputs=gr.CheckboxGroup(choices=[\"USA\", \"Japan\", \"Pakistan\"], value=[\"USA\", \"Japan\"], label=\"Select Countries\"),\n",
        "    outputs=\"text\"\n",
        ")\n",
        "\n",
        "demo.launch()"
      ],
      "metadata": {
        "colab": {
          "base_uri": "https://localhost:8080/",
          "height": 646
        },
        "id": "czX2arZushOV",
        "outputId": "82770548-99a8-4581-d8ca-e17bbe4cb746"
      },
      "execution_count": 3,
      "outputs": [
        {
          "output_type": "stream",
          "name": "stdout",
          "text": [
            "It looks like you are running Gradio on a hosted Jupyter notebook, which requires `share=True`. Automatically setting `share=True` (you can turn this off by setting `share=False` in `launch()` explicitly).\n",
            "\n",
            "Colab notebook detected. To show errors in colab notebook, set debug=True in launch()\n",
            "* Running on public URL: https://fec3b2873de48eeb81.gradio.live\n",
            "\n",
            "This share link expires in 1 week. For free permanent hosting and GPU upgrades, run `gradio deploy` from the terminal in the working directory to deploy to Hugging Face Spaces (https://huggingface.co/spaces)\n"
          ]
        },
        {
          "output_type": "display_data",
          "data": {
            "text/plain": [
              "<IPython.core.display.HTML object>"
            ],
            "text/html": [
              "<div><iframe src=\"https://fec3b2873de48eeb81.gradio.live\" width=\"100%\" height=\"500\" allow=\"autoplay; camera; microphone; clipboard-read; clipboard-write;\" frameborder=\"0\" allowfullscreen></iframe></div>"
            ]
          },
          "metadata": {}
        },
        {
          "output_type": "execute_result",
          "data": {
            "text/plain": []
          },
          "metadata": {},
          "execution_count": 3
        }
      ]
    },
    {
      "cell_type": "markdown",
      "source": [
        "**Using Tuples for Choices**"
      ],
      "metadata": {
        "id": "WiJy1HKgsoGl"
      }
    },
    {
      "cell_type": "code",
      "source": [
        "import gradio as gr\n",
        "\n",
        "def select_countries(countries):\n",
        "    return f\"You selected: {', '.join(countries)}\"\n",
        "\n",
        "demo = gr.Interface(\n",
        "    fn=select_countries,\n",
        "    inputs=gr.CheckboxGroup(choices=[(\"USA\", \"United States\"), (\"JP\", \"Japan\"), (\"PK\", \"Pakistan\")], label=\"Select Countries\"),\n",
        "    outputs=\"text\"\n",
        ")\n",
        "\n",
        "demo.launch()"
      ],
      "metadata": {
        "colab": {
          "base_uri": "https://localhost:8080/",
          "height": 646
        },
        "id": "hTl0kBbismCe",
        "outputId": "79203cea-f524-47e6-b275-279d7b68f7ea"
      },
      "execution_count": 4,
      "outputs": [
        {
          "output_type": "stream",
          "name": "stdout",
          "text": [
            "It looks like you are running Gradio on a hosted Jupyter notebook, which requires `share=True`. Automatically setting `share=True` (you can turn this off by setting `share=False` in `launch()` explicitly).\n",
            "\n",
            "Colab notebook detected. To show errors in colab notebook, set debug=True in launch()\n",
            "* Running on public URL: https://5929def92faa75b575.gradio.live\n",
            "\n",
            "This share link expires in 1 week. For free permanent hosting and GPU upgrades, run `gradio deploy` from the terminal in the working directory to deploy to Hugging Face Spaces (https://huggingface.co/spaces)\n"
          ]
        },
        {
          "output_type": "display_data",
          "data": {
            "text/plain": [
              "<IPython.core.display.HTML object>"
            ],
            "text/html": [
              "<div><iframe src=\"https://5929def92faa75b575.gradio.live\" width=\"100%\" height=\"500\" allow=\"autoplay; camera; microphone; clipboard-read; clipboard-write;\" frameborder=\"0\" allowfullscreen></iframe></div>"
            ]
          },
          "metadata": {}
        },
        {
          "output_type": "execute_result",
          "data": {
            "text/plain": []
          },
          "metadata": {},
          "execution_count": 4
        }
      ]
    },
    {
      "cell_type": "markdown",
      "source": [
        "**Combining with Other Components**"
      ],
      "metadata": {
        "id": "Xt_-TNuIsrdR"
      }
    },
    {
      "cell_type": "code",
      "source": [
        "import gradio as gr\n",
        "\n",
        "def sentence_builder(quantity, animal, countries, place, activity_list, morning):\n",
        "    return f\"\"\"The {quantity} {animal}s from {\" and \".join(countries)} went to the {place} where they {\" and \".join(activity_list)} until the {\"morning\" if morning else \"night\"}\"\"\"\n",
        "\n",
        "demo = gr.Interface(\n",
        "    sentence_builder,\n",
        "    [\n",
        "        gr.Slider(2, 20, value=4, label=\"Count\"),\n",
        "        gr.Dropdown([\"cat\", \"dog\", \"bird\"], label=\"Animal\"),\n",
        "        gr.CheckboxGroup([\"USA\", \"Japan\", \"Pakistan\"], label=\"Countries\"),\n",
        "        gr.Radio([\"park\", \"zoo\", \"road\"], label=\"Location\"),\n",
        "        gr.Dropdown([\"ran\", \"swam\", \"ate\", \"slept\"], value=[\"swam\", \"slept\"], multiselect=True, label=\"Activity\"),\n",
        "        gr.Checkbox(label=\"Morning\"),\n",
        "    ],\n",
        "    \"text\",\n",
        "    examples=[\n",
        "        [2, \"cat\", [\"Japan\", \"Pakistan\"], \"park\", [\"ate\", \"swam\"], True],\n",
        "        [4, \"dog\", [\"Japan\"], \"zoo\", [\"ate\", \"swam\"], False],\n",
        "        [10, \"bird\", [\"USA\", \"Pakistan\"], \"road\", [\"ran\"], False],\n",
        "        [8, \"cat\", [\"Pakistan\"], \"zoo\", [\"ate\"], True],\n",
        "    ]\n",
        ")\n",
        "\n",
        "demo.launch()"
      ],
      "metadata": {
        "colab": {
          "base_uri": "https://localhost:8080/",
          "height": 646
        },
        "id": "bw0EhA9Xsqdw",
        "outputId": "a5fb1a92-b597-45d3-ea64-491f6e8438e3"
      },
      "execution_count": 5,
      "outputs": [
        {
          "output_type": "stream",
          "name": "stdout",
          "text": [
            "It looks like you are running Gradio on a hosted Jupyter notebook, which requires `share=True`. Automatically setting `share=True` (you can turn this off by setting `share=False` in `launch()` explicitly).\n",
            "\n",
            "Colab notebook detected. To show errors in colab notebook, set debug=True in launch()\n",
            "* Running on public URL: https://de1af2d4f18e4f92cd.gradio.live\n",
            "\n",
            "This share link expires in 1 week. For free permanent hosting and GPU upgrades, run `gradio deploy` from the terminal in the working directory to deploy to Hugging Face Spaces (https://huggingface.co/spaces)\n"
          ]
        },
        {
          "output_type": "display_data",
          "data": {
            "text/plain": [
              "<IPython.core.display.HTML object>"
            ],
            "text/html": [
              "<div><iframe src=\"https://de1af2d4f18e4f92cd.gradio.live\" width=\"100%\" height=\"500\" allow=\"autoplay; camera; microphone; clipboard-read; clipboard-write;\" frameborder=\"0\" allowfullscreen></iframe></div>"
            ]
          },
          "metadata": {}
        },
        {
          "output_type": "execute_result",
          "data": {
            "text/plain": []
          },
          "metadata": {},
          "execution_count": 5
        }
      ]
    },
    {
      "cell_type": "markdown",
      "source": [
        "**CheckboxGroup with Conditional Logic for Recommendations**"
      ],
      "metadata": {
        "id": "Zv7IT6pssxXo"
      }
    },
    {
      "cell_type": "code",
      "source": [
        "import gradio as gr\n",
        "\n",
        "def generate_recommendations(preferences):\n",
        "    recommendations = {\n",
        "        \"music\": [\"Rock\", \"Pop\", \"Jazz\", \"Classical\"],\n",
        "        \"movies\": [\"Action\", \"Comedy\", \"Drama\", \"Horror\"],\n",
        "        \"books\": [\"Fiction\", \"Non-Fiction\", \"Science\", \"History\"]\n",
        "    }\n",
        "\n",
        "    selected_recommendations = []\n",
        "    for pref in preferences:\n",
        "        if pref in recommendations:\n",
        "            selected_recommendations.extend(recommendations[pref])\n",
        "\n",
        "    return f\"Recommended genres: {', '.join(selected_recommendations)}\"\n",
        "\n",
        "with gr.Blocks() as demo:\n",
        "    preference_checkbox_group = gr.CheckboxGroup(\n",
        "        choices=[\"music\", \"movies\", \"books\"],\n",
        "        label=\"Select Your Preferences\"\n",
        "    )\n",
        "    recommendation_textbox = gr.Textbox(label=\"Recommendations\")\n",
        "\n",
        "    preference_checkbox_group.change(fn=generate_recommendations, inputs=preference_checkbox_group, outputs=recommendation_textbox)\n",
        "\n",
        "demo.launch()"
      ],
      "metadata": {
        "colab": {
          "base_uri": "https://localhost:8080/",
          "height": 646
        },
        "id": "vYDWXY6CsvEw",
        "outputId": "1808c413-9e8e-4e9e-b06e-dce224d3272a"
      },
      "execution_count": 6,
      "outputs": [
        {
          "output_type": "stream",
          "name": "stdout",
          "text": [
            "It looks like you are running Gradio on a hosted Jupyter notebook, which requires `share=True`. Automatically setting `share=True` (you can turn this off by setting `share=False` in `launch()` explicitly).\n",
            "\n",
            "Colab notebook detected. To show errors in colab notebook, set debug=True in launch()\n",
            "* Running on public URL: https://8207b1c77dc9e8eb5d.gradio.live\n",
            "\n",
            "This share link expires in 1 week. For free permanent hosting and GPU upgrades, run `gradio deploy` from the terminal in the working directory to deploy to Hugging Face Spaces (https://huggingface.co/spaces)\n"
          ]
        },
        {
          "output_type": "display_data",
          "data": {
            "text/plain": [
              "<IPython.core.display.HTML object>"
            ],
            "text/html": [
              "<div><iframe src=\"https://8207b1c77dc9e8eb5d.gradio.live\" width=\"100%\" height=\"500\" allow=\"autoplay; camera; microphone; clipboard-read; clipboard-write;\" frameborder=\"0\" allowfullscreen></iframe></div>"
            ]
          },
          "metadata": {}
        },
        {
          "output_type": "execute_result",
          "data": {
            "text/plain": []
          },
          "metadata": {},
          "execution_count": 6
        }
      ]
    },
    {
      "cell_type": "code",
      "source": [],
      "metadata": {
        "id": "jGRBm94os031"
      },
      "execution_count": null,
      "outputs": []
    }
  ]
}