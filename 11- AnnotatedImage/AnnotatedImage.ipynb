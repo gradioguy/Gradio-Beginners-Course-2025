{
  "nbformat": 4,
  "nbformat_minor": 0,
  "metadata": {
    "colab": {
      "provenance": []
    },
    "kernelspec": {
      "name": "python3",
      "display_name": "Python 3"
    },
    "language_info": {
      "name": "python"
    }
  },
  "cells": [
    {
      "cell_type": "code",
      "source": [
        "import gradio as gr\n",
        "import numpy as np\n",
        "import random\n",
        "\n",
        "def generate_detection(image):\n",
        "  annotations = []\n",
        "  labels = [\"cat\", \"dog\", \"bird\"]\n",
        "  for _ in range(random.randint(1, 3)):\n",
        "    x = random.randint(0, image.shape[1])\n",
        "    y = random.randint(0, image.shape[0])\n",
        "    w = random.randint(10, 100)\n",
        "    h = random.randint(10, 100)\n",
        "    box = (x, y, x + w, y + h)\n",
        "    label = random.choice(labels)\n",
        "    annotations.append((box, label))\n",
        "  return (image, annotations)\n",
        "\n",
        "with gr.Blocks() as demo:\n",
        "  gr.Markdown(\"## Object Detection Demo\")\n",
        "  with gr.Row():\n",
        "    img_input = gr.Image(label=\"Input Image\")\n",
        "    annotated_output = gr.AnnotatedImage(\n",
        "        label = \"Detected Objects\",\n",
        "        color_map = {\"cat\":\"#ff0000\", \"dog\": \"#00ff00\", \"bird\": \"#0000ff\"}\n",
        "    )\n",
        "  with gr.Row():\n",
        "    detect_button = gr.Button(\"Detect Objects\")\n",
        "\n",
        "  detect_button.click(\n",
        "      generate_detection,\n",
        "      inputs = img_input,\n",
        "      outputs = annotated_output\n",
        "  )\n",
        "\n",
        "demo.launch()\n"
      ],
      "metadata": {
        "colab": {
          "base_uri": "https://localhost:8080/",
          "height": 645
        },
        "id": "K-zlPOuZ_fqz",
        "outputId": "d8b4db35-8c95-47bd-fac8-fbdce20b66d1"
      },
      "execution_count": 2,
      "outputs": [
        {
          "output_type": "stream",
          "name": "stdout",
          "text": [
            "Running Gradio in a Colab notebook requires sharing enabled. Automatically setting `share=True` (you can turn this off by setting `share=False` in `launch()` explicitly).\n",
            "\n",
            "Colab notebook detected. To show errors in colab notebook, set debug=True in launch()\n",
            "* Running on public URL: https://d22ddc168ff1142d7e.gradio.live\n",
            "\n",
            "This share link expires in 72 hours. For free permanent hosting and GPU upgrades, run `gradio deploy` from the terminal in the working directory to deploy to Hugging Face Spaces (https://huggingface.co/spaces)\n"
          ]
        },
        {
          "output_type": "display_data",
          "data": {
            "text/plain": [
              "<IPython.core.display.HTML object>"
            ],
            "text/html": [
              "<div><iframe src=\"https://d22ddc168ff1142d7e.gradio.live\" width=\"100%\" height=\"500\" allow=\"autoplay; camera; microphone; clipboard-read; clipboard-write;\" frameborder=\"0\" allowfullscreen></iframe></div>"
            ]
          },
          "metadata": {}
        },
        {
          "output_type": "execute_result",
          "data": {
            "text/plain": []
          },
          "metadata": {},
          "execution_count": 2
        }
      ]
    },
    {
      "cell_type": "code",
      "source": [
        "import gradio as gr\n",
        "import numpy as np\n",
        "import random\n",
        "\n",
        "def generate_segmentation(image):\n",
        "  annotations = []\n",
        "  labels = [\"sky\", \"grass\", \"building\"]\n",
        "  for _ in range(random.randint(1, 3)):\n",
        "    x = random.randint(0, image.shape[1])\n",
        "    y = random.randint(0, image.shape[0])\n",
        "    r = random.randint(20, 50)\n",
        "    mask = np.zeros(image.shape[:2])\n",
        "    for i in range(image.shape[0]):\n",
        "      for j in range(image.shape[1]):\n",
        "        if (i - y)**2 + (j - x)**2 < r**2:\n",
        "          mask[i, j] = 1\n",
        "    annotations.append((mask, random.choice(labels)))\n",
        "  return (image, annotations)\n",
        "\n",
        "with gr.Blocks() as demo:\n",
        "  gr.Markdown(\"## Image Segmentation Demo\")\n",
        "  with gr.Row():\n",
        "    img_input = gr.Image(label=\"Input Image\")\n",
        "    seg_output = gr.AnnotatedImage(\n",
        "        label = \"Segments\",\n",
        "        color_map = {\"sky\": \"#87CEEB\", \"grass\": \"#90EE90\", \"building\": \"#A0522D\"}\n",
        "    )\n",
        "\n",
        "  with gr.Row():\n",
        "    segment_button = gr.Button(\"Segment Image\")\n",
        "\n",
        "  segment_button.click(\n",
        "      generate_segmentation,\n",
        "      inputs = img_input,\n",
        "      outputs = seg_output\n",
        "  )\n",
        "\n",
        "demo.launch()\n",
        "\n",
        "\n",
        "\n",
        "\n",
        "\n",
        "\n",
        "\n",
        "\n",
        "\n",
        "\n",
        "\n"
      ],
      "metadata": {
        "colab": {
          "base_uri": "https://localhost:8080/",
          "height": 645
        },
        "id": "yBVTEmuZA_gl",
        "outputId": "d42ce9d9-8cd2-4b3d-f88d-cce1c8c8130f"
      },
      "execution_count": 3,
      "outputs": [
        {
          "output_type": "stream",
          "name": "stdout",
          "text": [
            "Running Gradio in a Colab notebook requires sharing enabled. Automatically setting `share=True` (you can turn this off by setting `share=False` in `launch()` explicitly).\n",
            "\n",
            "Colab notebook detected. To show errors in colab notebook, set debug=True in launch()\n",
            "* Running on public URL: https://6a8d5376bebb43098f.gradio.live\n",
            "\n",
            "This share link expires in 72 hours. For free permanent hosting and GPU upgrades, run `gradio deploy` from the terminal in the working directory to deploy to Hugging Face Spaces (https://huggingface.co/spaces)\n"
          ]
        },
        {
          "output_type": "display_data",
          "data": {
            "text/plain": [
              "<IPython.core.display.HTML object>"
            ],
            "text/html": [
              "<div><iframe src=\"https://6a8d5376bebb43098f.gradio.live\" width=\"100%\" height=\"500\" allow=\"autoplay; camera; microphone; clipboard-read; clipboard-write;\" frameborder=\"0\" allowfullscreen></iframe></div>"
            ]
          },
          "metadata": {}
        },
        {
          "output_type": "execute_result",
          "data": {
            "text/plain": []
          },
          "metadata": {},
          "execution_count": 3
        }
      ]
    },
    {
      "cell_type": "code",
      "source": [
        "import gradio as gr\n",
        "import numpy as np\n",
        "\n",
        "\n",
        "def generate_annotation(img):\n",
        "  annotations = []\n",
        "  for _ in range(3):\n",
        "    x, y, w, h = np.random.randint(0, img.shape[1], size=4)\n",
        "    label = random.choice([\" Labrador\", \" Car\", \" Bird\"])\n",
        "    annotations.append(((x, y, x+w, y+h), label))\n",
        "  return (img, annotations)\n",
        "\n",
        "with gr.Blocks() as demo:\n",
        "  gr.Markdown(\"## Custom Colors\")\n",
        "  with gr.Row():\n",
        "    img_input = gr.Image(label=\"Input\")\n",
        "    ann_output = gr.AnnotatedImage(\n",
        "        color_map={\n",
        "            \" Labrador\": \"#9FA08F\",\n",
        "            \" Car\": \"#454545\",\n",
        "            \" Bird\": \"#4169E1\"\n",
        "        }\n",
        "    )\n",
        "  add_annotations_btn = gr.Button(\"Add Colorful Annotations\")\n",
        "\n",
        "  add_annotations_btn.click(\n",
        "      generate_annotation,\n",
        "      inputs = img_input,\n",
        "      outputs = ann_output\n",
        "  )\n",
        "\n",
        "demo.launch()"
      ],
      "metadata": {
        "colab": {
          "base_uri": "https://localhost:8080/",
          "height": 645
        },
        "id": "fCogVIUrCwqf",
        "outputId": "b47ec5cb-bb33-49a1-c61b-60c3690e0f93"
      },
      "execution_count": 4,
      "outputs": [
        {
          "output_type": "stream",
          "name": "stdout",
          "text": [
            "Running Gradio in a Colab notebook requires sharing enabled. Automatically setting `share=True` (you can turn this off by setting `share=False` in `launch()` explicitly).\n",
            "\n",
            "Colab notebook detected. To show errors in colab notebook, set debug=True in launch()\n",
            "* Running on public URL: https://fc593a420398cc9517.gradio.live\n",
            "\n",
            "This share link expires in 72 hours. For free permanent hosting and GPU upgrades, run `gradio deploy` from the terminal in the working directory to deploy to Hugging Face Spaces (https://huggingface.co/spaces)\n"
          ]
        },
        {
          "output_type": "display_data",
          "data": {
            "text/plain": [
              "<IPython.core.display.HTML object>"
            ],
            "text/html": [
              "<div><iframe src=\"https://fc593a420398cc9517.gradio.live\" width=\"100%\" height=\"500\" allow=\"autoplay; camera; microphone; clipboard-read; clipboard-write;\" frameborder=\"0\" allowfullscreen></iframe></div>"
            ]
          },
          "metadata": {}
        },
        {
          "output_type": "execute_result",
          "data": {
            "text/plain": []
          },
          "metadata": {},
          "execution_count": 4
        }
      ]
    },
    {
      "cell_type": "code",
      "source": [
        "import gradio as gr\n",
        "import numpy as np\n",
        "import cv2\n",
        "import random\n",
        "\n",
        "def annotate_medical_image(image: np.ndarray) -> tuple[np.ndarray, list[tuple[int, int, int, int]]]:\n",
        "  height, width = image.shape[:2]\n",
        "  annotations = []\n",
        "\n",
        "  #Simulate tumor detection\n",
        "  num_tumors = random.randint(1, 3)\n",
        "  for i in range(num_tumors):\n",
        "    x1 = random.randint(0, width - 100)\n",
        "    y1 = random.randint(0, height - 100)\n",
        "    x2 = x1 + random.randint(50, 150)\n",
        "    y2 = y1 + random.randint(50, 150)\n",
        "    annotations.append(((x1, y1, x2, y2), \"Tumor\"))\n",
        "  return (image, annotations)\n",
        "\n",
        "with gr.Blocks() as demo:\n",
        "  with gr.Row():\n",
        "    image_input = gr.Image(label=\"Upload Medical Image\")\n",
        "    annotated_output = gr.AnnotatedImage(\n",
        "        label = \"Medical Annotations\",\n",
        "        color_map={\"Tumor\": \"#ff0000\"}\n",
        "    )\n",
        "\n",
        "  annotate_button = gr.Button(\"Annotate Image\")\n",
        "\n",
        "  annotate_button.click(\n",
        "      annotate_medical_image,\n",
        "      inputs = image_input,\n",
        "      outputs = annotated_output\n",
        "  )\n",
        "\n",
        "demo.launch()"
      ],
      "metadata": {
        "colab": {
          "base_uri": "https://localhost:8080/",
          "height": 645
        },
        "id": "bZwGMIX6ETJN",
        "outputId": "411b9c62-976c-481e-bea5-43d4d1ab7fa1"
      },
      "execution_count": 6,
      "outputs": [
        {
          "output_type": "stream",
          "name": "stdout",
          "text": [
            "Running Gradio in a Colab notebook requires sharing enabled. Automatically setting `share=True` (you can turn this off by setting `share=False` in `launch()` explicitly).\n",
            "\n",
            "Colab notebook detected. To show errors in colab notebook, set debug=True in launch()\n",
            "* Running on public URL: https://3f66e5202ab52c6884.gradio.live\n",
            "\n",
            "This share link expires in 72 hours. For free permanent hosting and GPU upgrades, run `gradio deploy` from the terminal in the working directory to deploy to Hugging Face Spaces (https://huggingface.co/spaces)\n"
          ]
        },
        {
          "output_type": "display_data",
          "data": {
            "text/plain": [
              "<IPython.core.display.HTML object>"
            ],
            "text/html": [
              "<div><iframe src=\"https://3f66e5202ab52c6884.gradio.live\" width=\"100%\" height=\"500\" allow=\"autoplay; camera; microphone; clipboard-read; clipboard-write;\" frameborder=\"0\" allowfullscreen></iframe></div>"
            ]
          },
          "metadata": {}
        },
        {
          "output_type": "execute_result",
          "data": {
            "text/plain": []
          },
          "metadata": {},
          "execution_count": 6
        }
      ]
    },
    {
      "cell_type": "code",
      "source": [
        "import gradio as gr\n",
        "from mtcnn import MTCNN\n",
        "import cv2\n",
        "\n",
        "def detect_faces(image):\n",
        "  detector = MTCNN()\n",
        "  faces = detector.detect_faces(image)\n",
        "  annotations = []\n",
        "  labels = [\"Face\"] * len(faces)\n",
        "  for face in faces:\n",
        "    x, y, w, h = face['box']\n",
        "    annotations.append(((x, y, x + w, y + h), \"Face\"))\n",
        "  return (image, annotations)\n",
        "\n",
        "with gr.Blocks() as demo:\n",
        "  gr.Markdown(\"## Face Detection Demo\")\n",
        "  with gr.Row():\n",
        "    img_input = gr.Image(label = \"Upload Image\")\n",
        "    face_output = gr.AnnotatedImage(label = \"Detected Faces\", color_map={\"Face\": \"#ffd700\"})\n",
        "  with gr.Row():\n",
        "    detect_button = gr.Button(\"Detect Faces\")\n",
        "\n",
        "  detect_button.click(\n",
        "      detect_faces,\n",
        "      inputs = img_input,\n",
        "      outputs=face_output\n",
        "  )\n",
        "\n",
        "demo.launch()"
      ],
      "metadata": {
        "colab": {
          "base_uri": "https://localhost:8080/",
          "height": 645
        },
        "id": "7hsYFVMRF0En",
        "outputId": "99f6ba9c-ca8f-4d48-b408-94cd3ad6bef3"
      },
      "execution_count": 9,
      "outputs": [
        {
          "output_type": "stream",
          "name": "stdout",
          "text": [
            "Running Gradio in a Colab notebook requires sharing enabled. Automatically setting `share=True` (you can turn this off by setting `share=False` in `launch()` explicitly).\n",
            "\n",
            "Colab notebook detected. To show errors in colab notebook, set debug=True in launch()\n",
            "* Running on public URL: https://c03ba2b21af7e77a69.gradio.live\n",
            "\n",
            "This share link expires in 72 hours. For free permanent hosting and GPU upgrades, run `gradio deploy` from the terminal in the working directory to deploy to Hugging Face Spaces (https://huggingface.co/spaces)\n"
          ]
        },
        {
          "output_type": "display_data",
          "data": {
            "text/plain": [
              "<IPython.core.display.HTML object>"
            ],
            "text/html": [
              "<div><iframe src=\"https://c03ba2b21af7e77a69.gradio.live\" width=\"100%\" height=\"500\" allow=\"autoplay; camera; microphone; clipboard-read; clipboard-write;\" frameborder=\"0\" allowfullscreen></iframe></div>"
            ]
          },
          "metadata": {}
        },
        {
          "output_type": "execute_result",
          "data": {
            "text/plain": []
          },
          "metadata": {},
          "execution_count": 9
        }
      ]
    },
    {
      "cell_type": "code",
      "source": [
        "pip install mtcnn"
      ],
      "metadata": {
        "colab": {
          "base_uri": "https://localhost:8080/"
        },
        "id": "QapO81xNHC58",
        "outputId": "2831dabb-5cd9-47af-96f1-c742d9b1de30"
      },
      "execution_count": 8,
      "outputs": [
        {
          "output_type": "stream",
          "name": "stdout",
          "text": [
            "Collecting mtcnn\n",
            "  Downloading mtcnn-1.0.0-py3-none-any.whl.metadata (5.8 kB)\n",
            "Requirement already satisfied: joblib>=1.4.2 in /usr/local/lib/python3.11/dist-packages (from mtcnn) (1.4.2)\n",
            "Collecting lz4>=4.3.3 (from mtcnn)\n",
            "  Downloading lz4-4.4.3-cp311-cp311-manylinux_2_17_x86_64.manylinux2014_x86_64.whl.metadata (3.8 kB)\n",
            "Downloading mtcnn-1.0.0-py3-none-any.whl (1.9 MB)\n",
            "\u001b[2K   \u001b[90m━━━━━━━━━━━━━━━━━━━━━━━━━━━━━━━━━━━━━━━━\u001b[0m \u001b[32m1.9/1.9 MB\u001b[0m \u001b[31m19.2 MB/s\u001b[0m eta \u001b[36m0:00:00\u001b[0m\n",
            "\u001b[?25hDownloading lz4-4.4.3-cp311-cp311-manylinux_2_17_x86_64.manylinux2014_x86_64.whl (1.3 MB)\n",
            "\u001b[2K   \u001b[90m━━━━━━━━━━━━━━━━━━━━━━━━━━━━━━━━━━━━━━━━\u001b[0m \u001b[32m1.3/1.3 MB\u001b[0m \u001b[31m53.2 MB/s\u001b[0m eta \u001b[36m0:00:00\u001b[0m\n",
            "\u001b[?25hInstalling collected packages: lz4, mtcnn\n",
            "Successfully installed lz4-4.4.3 mtcnn-1.0.0\n"
          ]
        }
      ]
    },
    {
      "cell_type": "code",
      "source": [],
      "metadata": {
        "id": "vR4uQlvuHJqH"
      },
      "execution_count": null,
      "outputs": []
    }
  ]
}