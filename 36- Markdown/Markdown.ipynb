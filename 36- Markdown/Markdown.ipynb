{
  "nbformat": 4,
  "nbformat_minor": 0,
  "metadata": {
    "colab": {
      "provenance": []
    },
    "kernelspec": {
      "name": "python3",
      "display_name": "Python 3"
    },
    "language_info": {
      "name": "python"
    }
  },
  "cells": [
    {
      "cell_type": "markdown",
      "source": [
        "**Basic Markdown Display**"
      ],
      "metadata": {
        "id": "7WgEk3M5NA_D"
      }
    },
    {
      "cell_type": "code",
      "execution_count": 1,
      "metadata": {
        "colab": {
          "base_uri": "https://localhost:8080/",
          "height": 646
        },
        "id": "PTmWJx1zM-Td",
        "outputId": "9d802745-0dd3-4af8-9f39-fe5a4fb25658"
      },
      "outputs": [
        {
          "output_type": "stream",
          "name": "stdout",
          "text": [
            "It looks like you are running Gradio on a hosted Jupyter notebook, which requires `share=True`. Automatically setting `share=True` (you can turn this off by setting `share=False` in `launch()` explicitly).\n",
            "\n",
            "Colab notebook detected. To show errors in colab notebook, set debug=True in launch()\n",
            "* Running on public URL: https://a225284a420d9d2988.gradio.live\n",
            "\n",
            "This share link expires in 1 week. For free permanent hosting and GPU upgrades, run `gradio deploy` from the terminal in the working directory to deploy to Hugging Face Spaces (https://huggingface.co/spaces)\n"
          ]
        },
        {
          "output_type": "display_data",
          "data": {
            "text/plain": [
              "<IPython.core.display.HTML object>"
            ],
            "text/html": [
              "<div><iframe src=\"https://a225284a420d9d2988.gradio.live\" width=\"100%\" height=\"500\" allow=\"autoplay; camera; microphone; clipboard-read; clipboard-write;\" frameborder=\"0\" allowfullscreen></iframe></div>"
            ]
          },
          "metadata": {}
        },
        {
          "output_type": "execute_result",
          "data": {
            "text/plain": []
          },
          "metadata": {},
          "execution_count": 1
        }
      ],
      "source": [
        "import gradio as gr\n",
        "\n",
        "def main():\n",
        "    return \"\"\"\n",
        "    # Welcome to Gradio!\n",
        "    This is a simple Markdown example.\n",
        "    \"\"\"\n",
        "\n",
        "with gr.Blocks() as demo:\n",
        "    gr.Markdown(\"\"\"\n",
        "    # Gradio Markdown Component\n",
        "    This component is used to render Markdown text.\n",
        "    \"\"\")\n",
        "    output = gr.Markdown()\n",
        "    gr.Button(\"Show Message\").click(main, None, output)\n",
        "\n",
        "demo.launch()"
      ]
    },
    {
      "cell_type": "markdown",
      "source": [
        "**Dynamic Markdown Content**"
      ],
      "metadata": {
        "id": "B0DBHVIxNHux"
      }
    },
    {
      "cell_type": "code",
      "source": [
        "import gradio as gr\n",
        "\n",
        "def update_markdown(name):\n",
        "    if not name.strip():\n",
        "        return \"### Please enter your name to see a personalized message.\"\n",
        "    return f\"## 👋 Hello, **{name}**!\\nWelcome to this interactive Markdown demo.\"\n",
        "\n",
        "# Creating the Gradio interface\n",
        "with gr.Blocks() as demo:\n",
        "    gr.Markdown(\"## 📝 Dynamic Markdown Example\\nEnter your name below to see the magic! 🎩✨\")\n",
        "\n",
        "    # Input textbox with a default placeholder\n",
        "    inp = gr.Textbox(label=\"Enter your name\", placeholder=\"Type your name here...\")\n",
        "\n",
        "    # Markdown output area\n",
        "    output = gr.Markdown(\"### Your greeting will appear here...\")\n",
        "\n",
        "    # Add an event listener to update the Markdown dynamically\n",
        "    inp.change(fn=update_markdown, inputs=inp, outputs=output)\n",
        "\n",
        "    # A button to clear the input and reset the output\n",
        "    def clear():\n",
        "        return \"\", \"### Your greeting will appear here...\"\n",
        "\n",
        "    clear_btn = gr.Button(\"Clear Input\")\n",
        "    clear_btn.click(fn=clear, inputs=[], outputs=[inp, output])\n",
        "\n",
        "# Launch the application\n",
        "demo.launch()"
      ],
      "metadata": {
        "colab": {
          "base_uri": "https://localhost:8080/",
          "height": 646
        },
        "id": "N-e-A5VHNGii",
        "outputId": "cf17a23e-bbbd-4f84-8b54-7c7b33732787"
      },
      "execution_count": 2,
      "outputs": [
        {
          "output_type": "stream",
          "name": "stdout",
          "text": [
            "It looks like you are running Gradio on a hosted Jupyter notebook, which requires `share=True`. Automatically setting `share=True` (you can turn this off by setting `share=False` in `launch()` explicitly).\n",
            "\n",
            "Colab notebook detected. To show errors in colab notebook, set debug=True in launch()\n",
            "* Running on public URL: https://07d8341f0a1edbf9d2.gradio.live\n",
            "\n",
            "This share link expires in 1 week. For free permanent hosting and GPU upgrades, run `gradio deploy` from the terminal in the working directory to deploy to Hugging Face Spaces (https://huggingface.co/spaces)\n"
          ]
        },
        {
          "output_type": "display_data",
          "data": {
            "text/plain": [
              "<IPython.core.display.HTML object>"
            ],
            "text/html": [
              "<div><iframe src=\"https://07d8341f0a1edbf9d2.gradio.live\" width=\"100%\" height=\"500\" allow=\"autoplay; camera; microphone; clipboard-read; clipboard-write;\" frameborder=\"0\" allowfullscreen></iframe></div>"
            ]
          },
          "metadata": {}
        },
        {
          "output_type": "execute_result",
          "data": {
            "text/plain": []
          },
          "metadata": {},
          "execution_count": 2
        }
      ]
    },
    {
      "cell_type": "markdown",
      "source": [
        "**Rendering LaTeX Equations**"
      ],
      "metadata": {
        "id": "zUKTd4mbNLU6"
      }
    },
    {
      "cell_type": "code",
      "source": [
        "import gradio as gr\n",
        "\n",
        "def get_equation():\n",
        "    return \"\"\"\n",
        "    ## Einstein's Mass-Energy Equivalence Formula\n",
        "    $E = mc^2$\n",
        "    \"\"\"\n",
        "\n",
        "with gr.Blocks() as demo:\n",
        "    output = gr.Markdown()\n",
        "    gr.Button(\"Show Equation\").click(get_equation, None, output)\n",
        "\n",
        "demo.launch()"
      ],
      "metadata": {
        "colab": {
          "base_uri": "https://localhost:8080/",
          "height": 646
        },
        "id": "G-4lQjf6NJx2",
        "outputId": "7174c88e-6651-4166-ea94-da64a7e1933c"
      },
      "execution_count": 3,
      "outputs": [
        {
          "output_type": "stream",
          "name": "stdout",
          "text": [
            "It looks like you are running Gradio on a hosted Jupyter notebook, which requires `share=True`. Automatically setting `share=True` (you can turn this off by setting `share=False` in `launch()` explicitly).\n",
            "\n",
            "Colab notebook detected. To show errors in colab notebook, set debug=True in launch()\n",
            "* Running on public URL: https://60b25e9a2e7d7e90c7.gradio.live\n",
            "\n",
            "This share link expires in 1 week. For free permanent hosting and GPU upgrades, run `gradio deploy` from the terminal in the working directory to deploy to Hugging Face Spaces (https://huggingface.co/spaces)\n"
          ]
        },
        {
          "output_type": "display_data",
          "data": {
            "text/plain": [
              "<IPython.core.display.HTML object>"
            ],
            "text/html": [
              "<div><iframe src=\"https://60b25e9a2e7d7e90c7.gradio.live\" width=\"100%\" height=\"500\" allow=\"autoplay; camera; microphone; clipboard-read; clipboard-write;\" frameborder=\"0\" allowfullscreen></iframe></div>"
            ]
          },
          "metadata": {}
        },
        {
          "output_type": "execute_result",
          "data": {
            "text/plain": []
          },
          "metadata": {},
          "execution_count": 3
        }
      ]
    },
    {
      "cell_type": "markdown",
      "source": [
        "**Markdown with Images**"
      ],
      "metadata": {
        "id": "KmxtKKQYNP3f"
      }
    },
    {
      "cell_type": "code",
      "source": [
        "import gradio as gr\n",
        "\n",
        "def get_image_markdown():\n",
        "    return \"\"\"\n",
        "    ## Image Example\n",
        "    ![Gradio Logo](https://cdn.pixabay.com/photo/2023/11/17/01/50/pine-8393456_1280.jpg)\n",
        "    \"\"\"\n",
        "\n",
        "with gr.Blocks() as demo:\n",
        "    output = gr.Markdown()\n",
        "    gr.Button(\"Show Image\").click(get_image_markdown, None, output)\n",
        "\n",
        "demo.launch()"
      ],
      "metadata": {
        "colab": {
          "base_uri": "https://localhost:8080/",
          "height": 646
        },
        "id": "5XyD4eM6NN55",
        "outputId": "0cd93f53-7aa3-42c2-e9ce-ad8d68113caf"
      },
      "execution_count": 4,
      "outputs": [
        {
          "output_type": "stream",
          "name": "stdout",
          "text": [
            "It looks like you are running Gradio on a hosted Jupyter notebook, which requires `share=True`. Automatically setting `share=True` (you can turn this off by setting `share=False` in `launch()` explicitly).\n",
            "\n",
            "Colab notebook detected. To show errors in colab notebook, set debug=True in launch()\n",
            "* Running on public URL: https://95d53c16d255254043.gradio.live\n",
            "\n",
            "This share link expires in 1 week. For free permanent hosting and GPU upgrades, run `gradio deploy` from the terminal in the working directory to deploy to Hugging Face Spaces (https://huggingface.co/spaces)\n"
          ]
        },
        {
          "output_type": "display_data",
          "data": {
            "text/plain": [
              "<IPython.core.display.HTML object>"
            ],
            "text/html": [
              "<div><iframe src=\"https://95d53c16d255254043.gradio.live\" width=\"100%\" height=\"500\" allow=\"autoplay; camera; microphone; clipboard-read; clipboard-write;\" frameborder=\"0\" allowfullscreen></iframe></div>"
            ]
          },
          "metadata": {}
        },
        {
          "output_type": "execute_result",
          "data": {
            "text/plain": []
          },
          "metadata": {},
          "execution_count": 4
        }
      ]
    },
    {
      "cell_type": "markdown",
      "source": [
        "**Markdown with Links**"
      ],
      "metadata": {
        "id": "PsAF8NeFNWju"
      }
    },
    {
      "cell_type": "code",
      "source": [
        "import gradio as gr\n",
        "\n",
        "def get_links():\n",
        "    return \"\"\"\n",
        "    ## Useful Links\n",
        "    - [Gradio Documentation](https://gradio.app/docs/)\n",
        "    - [Gradio GitHub](https://github.com/gradio-app/gradio)\n",
        "    \"\"\"\n",
        "\n",
        "with gr.Blocks() as demo:\n",
        "    output = gr.Markdown()\n",
        "    gr.Button(\"Show Links\").click(get_links, None, output)\n",
        "\n",
        "demo.launch()\n"
      ],
      "metadata": {
        "colab": {
          "base_uri": "https://localhost:8080/",
          "height": 646
        },
        "id": "i4BBgCryNULp",
        "outputId": "2e07dffe-fbf7-43e2-9a47-9a5737acb3bd"
      },
      "execution_count": 5,
      "outputs": [
        {
          "output_type": "stream",
          "name": "stdout",
          "text": [
            "It looks like you are running Gradio on a hosted Jupyter notebook, which requires `share=True`. Automatically setting `share=True` (you can turn this off by setting `share=False` in `launch()` explicitly).\n",
            "\n",
            "Colab notebook detected. To show errors in colab notebook, set debug=True in launch()\n",
            "* Running on public URL: https://2402d0f929b880b51a.gradio.live\n",
            "\n",
            "This share link expires in 1 week. For free permanent hosting and GPU upgrades, run `gradio deploy` from the terminal in the working directory to deploy to Hugging Face Spaces (https://huggingface.co/spaces)\n"
          ]
        },
        {
          "output_type": "display_data",
          "data": {
            "text/plain": [
              "<IPython.core.display.HTML object>"
            ],
            "text/html": [
              "<div><iframe src=\"https://2402d0f929b880b51a.gradio.live\" width=\"100%\" height=\"500\" allow=\"autoplay; camera; microphone; clipboard-read; clipboard-write;\" frameborder=\"0\" allowfullscreen></iframe></div>"
            ]
          },
          "metadata": {}
        },
        {
          "output_type": "execute_result",
          "data": {
            "text/plain": []
          },
          "metadata": {},
          "execution_count": 5
        }
      ]
    },
    {
      "cell_type": "markdown",
      "source": [
        "**Markdown with Code Blocks**"
      ],
      "metadata": {
        "id": "15cVquS3NagA"
      }
    },
    {
      "cell_type": "code",
      "source": [
        "import gradio as gr\n",
        "\n",
        "def get_code():\n",
        "    return \"\"\"\n",
        "    ## Python Code Example\n",
        "    ```python\n",
        "    def hello_world():\n",
        "        print(\"Hello, World!\")\n",
        "    ```\n",
        "    \"\"\"\n",
        "\n",
        "with gr.Blocks() as demo:\n",
        "    output = gr.Markdown()\n",
        "    gr.Button(\"Show Code\").click(get_code, None, output)\n",
        "\n",
        "demo.launch()"
      ],
      "metadata": {
        "colab": {
          "base_uri": "https://localhost:8080/",
          "height": 646
        },
        "id": "HipQ_EIJNYQZ",
        "outputId": "95c5baaa-552d-408d-f83e-e85c80fe4a04"
      },
      "execution_count": 6,
      "outputs": [
        {
          "output_type": "stream",
          "name": "stdout",
          "text": [
            "It looks like you are running Gradio on a hosted Jupyter notebook, which requires `share=True`. Automatically setting `share=True` (you can turn this off by setting `share=False` in `launch()` explicitly).\n",
            "\n",
            "Colab notebook detected. To show errors in colab notebook, set debug=True in launch()\n",
            "* Running on public URL: https://95e3ecbe092eca8a98.gradio.live\n",
            "\n",
            "This share link expires in 1 week. For free permanent hosting and GPU upgrades, run `gradio deploy` from the terminal in the working directory to deploy to Hugging Face Spaces (https://huggingface.co/spaces)\n"
          ]
        },
        {
          "output_type": "display_data",
          "data": {
            "text/plain": [
              "<IPython.core.display.HTML object>"
            ],
            "text/html": [
              "<div><iframe src=\"https://95e3ecbe092eca8a98.gradio.live\" width=\"100%\" height=\"500\" allow=\"autoplay; camera; microphone; clipboard-read; clipboard-write;\" frameborder=\"0\" allowfullscreen></iframe></div>"
            ]
          },
          "metadata": {}
        },
        {
          "output_type": "execute_result",
          "data": {
            "text/plain": []
          },
          "metadata": {},
          "execution_count": 6
        }
      ]
    },
    {
      "cell_type": "markdown",
      "source": [
        "**Markdown with Lists**"
      ],
      "metadata": {
        "id": "GvTXkU4TNdjl"
      }
    },
    {
      "cell_type": "code",
      "source": [
        "import gradio as gr\n",
        "\n",
        "def get_list():\n",
        "    return \"\"\"\n",
        "    ## Shopping List\n",
        "    - Apples\n",
        "    - Bananas\n",
        "    - Carrots\n",
        "    \"\"\"\n",
        "\n",
        "with gr.Blocks() as demo:\n",
        "    output = gr.Markdown()\n",
        "    gr.Button(\"Show List\").click(get_list, None, output)\n",
        "\n",
        "demo.launch()\n"
      ],
      "metadata": {
        "colab": {
          "base_uri": "https://localhost:8080/",
          "height": 646
        },
        "id": "wkRBwv8-NcYg",
        "outputId": "756466a0-734e-41ce-98ad-ef52a73b4a5a"
      },
      "execution_count": 7,
      "outputs": [
        {
          "output_type": "stream",
          "name": "stdout",
          "text": [
            "It looks like you are running Gradio on a hosted Jupyter notebook, which requires `share=True`. Automatically setting `share=True` (you can turn this off by setting `share=False` in `launch()` explicitly).\n",
            "\n",
            "Colab notebook detected. To show errors in colab notebook, set debug=True in launch()\n",
            "* Running on public URL: https://b70cfd0cd8d3fb03c6.gradio.live\n",
            "\n",
            "This share link expires in 1 week. For free permanent hosting and GPU upgrades, run `gradio deploy` from the terminal in the working directory to deploy to Hugging Face Spaces (https://huggingface.co/spaces)\n"
          ]
        },
        {
          "output_type": "display_data",
          "data": {
            "text/plain": [
              "<IPython.core.display.HTML object>"
            ],
            "text/html": [
              "<div><iframe src=\"https://b70cfd0cd8d3fb03c6.gradio.live\" width=\"100%\" height=\"500\" allow=\"autoplay; camera; microphone; clipboard-read; clipboard-write;\" frameborder=\"0\" allowfullscreen></iframe></div>"
            ]
          },
          "metadata": {}
        },
        {
          "output_type": "execute_result",
          "data": {
            "text/plain": []
          },
          "metadata": {},
          "execution_count": 7
        }
      ]
    },
    {
      "cell_type": "markdown",
      "source": [
        "**Markdown with Tables**"
      ],
      "metadata": {
        "id": "uAsunKJRNg3t"
      }
    },
    {
      "cell_type": "code",
      "source": [
        "import gradio as gr\n",
        "\n",
        "def get_table():\n",
        "    return \"\"\"\n",
        "    ## Student Grades\n",
        "    | Name    | Grade |\n",
        "    |---------|-------|\n",
        "    | Alice   | A     |\n",
        "    | Bob     | B+    |\n",
        "    | Charlie | A-    |\n",
        "    \"\"\"\n",
        "\n",
        "with gr.Blocks() as demo:\n",
        "    output = gr.Markdown()\n",
        "    gr.Button(\"Show Table\").click(get_table, None, output)\n",
        "\n",
        "demo.launch()"
      ],
      "metadata": {
        "colab": {
          "base_uri": "https://localhost:8080/",
          "height": 646
        },
        "id": "Dhl-0VZ5NfiV",
        "outputId": "3fbcfcaf-3c88-4b41-e810-13897d28d3fd"
      },
      "execution_count": 8,
      "outputs": [
        {
          "output_type": "stream",
          "name": "stdout",
          "text": [
            "It looks like you are running Gradio on a hosted Jupyter notebook, which requires `share=True`. Automatically setting `share=True` (you can turn this off by setting `share=False` in `launch()` explicitly).\n",
            "\n",
            "Colab notebook detected. To show errors in colab notebook, set debug=True in launch()\n",
            "* Running on public URL: https://30543d3bddaab5d593.gradio.live\n",
            "\n",
            "This share link expires in 1 week. For free permanent hosting and GPU upgrades, run `gradio deploy` from the terminal in the working directory to deploy to Hugging Face Spaces (https://huggingface.co/spaces)\n"
          ]
        },
        {
          "output_type": "display_data",
          "data": {
            "text/plain": [
              "<IPython.core.display.HTML object>"
            ],
            "text/html": [
              "<div><iframe src=\"https://30543d3bddaab5d593.gradio.live\" width=\"100%\" height=\"500\" allow=\"autoplay; camera; microphone; clipboard-read; clipboard-write;\" frameborder=\"0\" allowfullscreen></iframe></div>"
            ]
          },
          "metadata": {}
        },
        {
          "output_type": "execute_result",
          "data": {
            "text/plain": []
          },
          "metadata": {},
          "execution_count": 8
        }
      ]
    },
    {
      "cell_type": "markdown",
      "source": [
        "**Markdown with Custom CSS**"
      ],
      "metadata": {
        "id": "bJw0wROxNnfc"
      }
    },
    {
      "cell_type": "code",
      "source": [
        "import gradio as gr\n",
        "\n",
        "def get_custom_markdown():\n",
        "    return \"\"\"\n",
        "    ## Styled Text\n",
        "    <style>\n",
        "    .styled-text { color: blue; font-size: 20px; }\n",
        "    </style>\n",
        "    <p class=\"styled-text\">This text has custom styling!</p>\n",
        "    \"\"\"\n",
        "\n",
        "with gr.Blocks() as demo:\n",
        "    output = gr.Markdown(sanitize_html=False)\n",
        "    gr.Button(\"Show Styled Text\").click(get_custom_markdown, None, output)\n",
        "\n",
        "demo.launch()"
      ],
      "metadata": {
        "colab": {
          "base_uri": "https://localhost:8080/",
          "height": 646
        },
        "id": "3nYyqUY4Njuo",
        "outputId": "b68a224c-fb72-49a6-9c9c-877570c2b99b"
      },
      "execution_count": 9,
      "outputs": [
        {
          "output_type": "stream",
          "name": "stdout",
          "text": [
            "It looks like you are running Gradio on a hosted Jupyter notebook, which requires `share=True`. Automatically setting `share=True` (you can turn this off by setting `share=False` in `launch()` explicitly).\n",
            "\n",
            "Colab notebook detected. To show errors in colab notebook, set debug=True in launch()\n",
            "* Running on public URL: https://9c9d26bf312d088491.gradio.live\n",
            "\n",
            "This share link expires in 1 week. For free permanent hosting and GPU upgrades, run `gradio deploy` from the terminal in the working directory to deploy to Hugging Face Spaces (https://huggingface.co/spaces)\n"
          ]
        },
        {
          "output_type": "display_data",
          "data": {
            "text/plain": [
              "<IPython.core.display.HTML object>"
            ],
            "text/html": [
              "<div><iframe src=\"https://9c9d26bf312d088491.gradio.live\" width=\"100%\" height=\"500\" allow=\"autoplay; camera; microphone; clipboard-read; clipboard-write;\" frameborder=\"0\" allowfullscreen></iframe></div>"
            ]
          },
          "metadata": {}
        },
        {
          "output_type": "execute_result",
          "data": {
            "text/plain": []
          },
          "metadata": {},
          "execution_count": 9
        }
      ]
    },
    {
      "cell_type": "code",
      "source": [],
      "metadata": {
        "id": "0xbJXYJTNpvt"
      },
      "execution_count": null,
      "outputs": []
    }
  ]
}